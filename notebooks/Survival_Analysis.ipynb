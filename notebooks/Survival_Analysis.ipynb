{
 "cells": [
  {
   "cell_type": "code",
   "execution_count": 47,
   "metadata": {},
   "outputs": [],
   "source": [
    "import numpy as np\n",
    "import pandas as pd\n",
    "import plotly.graph_objects as go\n",
    "from sklearn.pipeline import Pipeline\n",
    "from sklearn.metrics import brier_score_loss\n",
    "from sklearn.compose import ColumnTransformer\n",
    "from sklearn.preprocessing import OneHotEncoder\n",
    "from sksurv.ensemble import RandomSurvivalForest\n",
    "from lifelines import KaplanMeierFitter, CoxPHFitter\n",
    "from sklearn.model_selection import train_test_split\n",
    "from sksurv.metrics import concordance_index_censored\n",
    "from lifelines.statistics import logrank_test, pairwise_logrank_test"
   ]
  },
  {
   "cell_type": "code",
   "execution_count": 48,
   "metadata": {},
   "outputs": [],
   "source": [
    "# Lendo os dados\n",
    "data = pd.read_csv('../data/processed/Processed_Telecom_Data.csv')"
   ]
  },
  {
   "cell_type": "markdown",
   "metadata": {},
   "source": [
    "Levando em conta os nossos dados, podemos inferir o seguinte:\n",
    "- Temos dados censurados à esquerda, pois não sabemos quando o nosso \n",
    "relacionamento com os clientes começou.\n",
    "- Também temos dados censorados à direita, representados pelos clientes que\n",
    "ainda não cancelaram o serviço.\n",
    "\n",
    "Como primeiro passo, vamos aplicar o teste de Kepler-Meier para estimar a\n",
    "função de sobrevivência dos nossos dados. Para tal, iremos usar apenas os \n",
    "usuários que não deram churn, já que o teste fiunciona bem em dados censurados à\n",
    "direita. Como esse é um teste não paramétrico, não precisamos nos preocupar com\n",
    "a distribuição dos dados. Além disso, só podemos usar duas variáveis, uma para\n",
    "o tempo e outra para o evento, que no nosso caso é o cancelamento do serviço.\n",
    "Para tal, usaremos a coluna `tenure` e a coluna `Churn`, respectivamente."
   ]
  },
  {
   "cell_type": "markdown",
   "metadata": {},
   "source": [
    "### Teste de Kepler-Meier"
   ]
  },
  {
   "cell_type": "code",
   "execution_count": 49,
   "metadata": {},
   "outputs": [
    {
     "data": {
      "application/vnd.plotly.v1+json": {
       "config": {
        "plotlyServerURL": "https://plot.ly"
       },
       "data": [
        {
         "mode": "lines",
         "name": "KM estimate",
         "type": "scatter",
         "x": [
          0,
          1,
          2,
          3,
          4,
          5,
          6,
          7,
          8,
          9,
          10,
          11,
          12,
          13,
          14,
          15,
          16,
          17,
          18,
          19,
          20,
          21,
          22,
          23,
          24,
          25,
          26,
          27,
          28,
          29,
          30,
          31,
          32,
          33,
          34,
          35,
          36,
          37,
          38,
          39,
          40,
          41,
          42,
          43,
          44,
          45,
          46,
          47,
          48,
          49,
          50,
          51,
          52,
          53,
          54,
          55,
          56,
          57,
          58,
          59,
          60,
          61,
          62,
          63,
          64,
          65,
          66,
          67,
          68,
          69,
          70,
          71,
          72
         ],
         "y": [
          1,
          0.9459613196814566,
          0.9278349382636628,
          0.9137245217943558,
          0.9010445125469171,
          0.8911105161984253,
          0.884826238933274,
          0.8767129454802709,
          0.8699329889878796,
          0.862394006792432,
          0.8549151610985305,
          0.8496909604294877,
          0.8431995538158317,
          0.8366025632774337,
          0.8323737381892583,
          0.8257817372660983,
          0.8207255621855266,
          0.8159762043807581,
          0.8115314860636592,
          0.8079531388287544,
          0.8045199101935057,
          0.8012361554580218,
          0.7959622948540804,
          0.7933831548159187,
          0.7887363983706007,
          0.7840035684299487,
          0.7808708956738355,
          0.7781086312809756,
          0.7755170954565591,
          0.7722365662879613,
          0.7686799211927957,
          0.7650647304993553,
          0.7607086532205162,
          0.7574498034209184,
          0.7546129127714011,
          0.75100692561257,
          0.7485454148763768,
          0.7448039349619658,
          0.7415060973752812,
          0.7378977951982726,
          0.7344973445291562,
          0.7307675792685798,
          0.7269600816467863,
          0.7228012711110497,
          0.7211052180697254,
          0.7193787091677225,
          0.7158480161165927,
          0.7116211615296537,
          0.7088401843460811,
          0.7040913666751606,
          0.7008511855123662,
          0.6981876180614875,
          0.695445595015591,
          0.6904705115561025,
          0.6857136929815242,
          0.6823209369414837,
          0.6784330683549227,
          0.6751927910135256,
          0.6705796725656075,
          0.6671029147039581,
          0.6644039143747443,
          0.6606262091046673,
          0.6581445178608484,
          0.6560568270825431,
          0.6538497393547631,
          0.6485434745628851,
          0.6403817464222098,
          0.6335980414812963,
          0.626857636784687,
          0.6201353028781491,
          0.6096568261782113,
          0.6027809973115392,
          0.5927901520522322
         ]
        }
       ],
       "layout": {
        "font": {
         "color": "#646369"
        },
        "height": 500,
        "showlegend": false,
        "template": {
         "data": {
          "bar": [
           {
            "error_x": {
             "color": "#2a3f5f"
            },
            "error_y": {
             "color": "#2a3f5f"
            },
            "marker": {
             "line": {
              "color": "white",
              "width": 0.5
             },
             "pattern": {
              "fillmode": "overlay",
              "size": 10,
              "solidity": 0.2
             }
            },
            "type": "bar"
           }
          ],
          "barpolar": [
           {
            "marker": {
             "line": {
              "color": "white",
              "width": 0.5
             },
             "pattern": {
              "fillmode": "overlay",
              "size": 10,
              "solidity": 0.2
             }
            },
            "type": "barpolar"
           }
          ],
          "carpet": [
           {
            "aaxis": {
             "endlinecolor": "#2a3f5f",
             "gridcolor": "#C8D4E3",
             "linecolor": "#C8D4E3",
             "minorgridcolor": "#C8D4E3",
             "startlinecolor": "#2a3f5f"
            },
            "baxis": {
             "endlinecolor": "#2a3f5f",
             "gridcolor": "#C8D4E3",
             "linecolor": "#C8D4E3",
             "minorgridcolor": "#C8D4E3",
             "startlinecolor": "#2a3f5f"
            },
            "type": "carpet"
           }
          ],
          "choropleth": [
           {
            "colorbar": {
             "outlinewidth": 0,
             "ticks": ""
            },
            "type": "choropleth"
           }
          ],
          "contour": [
           {
            "colorbar": {
             "outlinewidth": 0,
             "ticks": ""
            },
            "colorscale": [
             [
              0,
              "#0d0887"
             ],
             [
              0.1111111111111111,
              "#46039f"
             ],
             [
              0.2222222222222222,
              "#7201a8"
             ],
             [
              0.3333333333333333,
              "#9c179e"
             ],
             [
              0.4444444444444444,
              "#bd3786"
             ],
             [
              0.5555555555555556,
              "#d8576b"
             ],
             [
              0.6666666666666666,
              "#ed7953"
             ],
             [
              0.7777777777777778,
              "#fb9f3a"
             ],
             [
              0.8888888888888888,
              "#fdca26"
             ],
             [
              1,
              "#f0f921"
             ]
            ],
            "type": "contour"
           }
          ],
          "contourcarpet": [
           {
            "colorbar": {
             "outlinewidth": 0,
             "ticks": ""
            },
            "type": "contourcarpet"
           }
          ],
          "heatmap": [
           {
            "colorbar": {
             "outlinewidth": 0,
             "ticks": ""
            },
            "colorscale": [
             [
              0,
              "#0d0887"
             ],
             [
              0.1111111111111111,
              "#46039f"
             ],
             [
              0.2222222222222222,
              "#7201a8"
             ],
             [
              0.3333333333333333,
              "#9c179e"
             ],
             [
              0.4444444444444444,
              "#bd3786"
             ],
             [
              0.5555555555555556,
              "#d8576b"
             ],
             [
              0.6666666666666666,
              "#ed7953"
             ],
             [
              0.7777777777777778,
              "#fb9f3a"
             ],
             [
              0.8888888888888888,
              "#fdca26"
             ],
             [
              1,
              "#f0f921"
             ]
            ],
            "type": "heatmap"
           }
          ],
          "heatmapgl": [
           {
            "colorbar": {
             "outlinewidth": 0,
             "ticks": ""
            },
            "colorscale": [
             [
              0,
              "#0d0887"
             ],
             [
              0.1111111111111111,
              "#46039f"
             ],
             [
              0.2222222222222222,
              "#7201a8"
             ],
             [
              0.3333333333333333,
              "#9c179e"
             ],
             [
              0.4444444444444444,
              "#bd3786"
             ],
             [
              0.5555555555555556,
              "#d8576b"
             ],
             [
              0.6666666666666666,
              "#ed7953"
             ],
             [
              0.7777777777777778,
              "#fb9f3a"
             ],
             [
              0.8888888888888888,
              "#fdca26"
             ],
             [
              1,
              "#f0f921"
             ]
            ],
            "type": "heatmapgl"
           }
          ],
          "histogram": [
           {
            "marker": {
             "pattern": {
              "fillmode": "overlay",
              "size": 10,
              "solidity": 0.2
             }
            },
            "type": "histogram"
           }
          ],
          "histogram2d": [
           {
            "colorbar": {
             "outlinewidth": 0,
             "ticks": ""
            },
            "colorscale": [
             [
              0,
              "#0d0887"
             ],
             [
              0.1111111111111111,
              "#46039f"
             ],
             [
              0.2222222222222222,
              "#7201a8"
             ],
             [
              0.3333333333333333,
              "#9c179e"
             ],
             [
              0.4444444444444444,
              "#bd3786"
             ],
             [
              0.5555555555555556,
              "#d8576b"
             ],
             [
              0.6666666666666666,
              "#ed7953"
             ],
             [
              0.7777777777777778,
              "#fb9f3a"
             ],
             [
              0.8888888888888888,
              "#fdca26"
             ],
             [
              1,
              "#f0f921"
             ]
            ],
            "type": "histogram2d"
           }
          ],
          "histogram2dcontour": [
           {
            "colorbar": {
             "outlinewidth": 0,
             "ticks": ""
            },
            "colorscale": [
             [
              0,
              "#0d0887"
             ],
             [
              0.1111111111111111,
              "#46039f"
             ],
             [
              0.2222222222222222,
              "#7201a8"
             ],
             [
              0.3333333333333333,
              "#9c179e"
             ],
             [
              0.4444444444444444,
              "#bd3786"
             ],
             [
              0.5555555555555556,
              "#d8576b"
             ],
             [
              0.6666666666666666,
              "#ed7953"
             ],
             [
              0.7777777777777778,
              "#fb9f3a"
             ],
             [
              0.8888888888888888,
              "#fdca26"
             ],
             [
              1,
              "#f0f921"
             ]
            ],
            "type": "histogram2dcontour"
           }
          ],
          "mesh3d": [
           {
            "colorbar": {
             "outlinewidth": 0,
             "ticks": ""
            },
            "type": "mesh3d"
           }
          ],
          "parcoords": [
           {
            "line": {
             "colorbar": {
              "outlinewidth": 0,
              "ticks": ""
             }
            },
            "type": "parcoords"
           }
          ],
          "pie": [
           {
            "automargin": true,
            "type": "pie"
           }
          ],
          "scatter": [
           {
            "fillpattern": {
             "fillmode": "overlay",
             "size": 10,
             "solidity": 0.2
            },
            "type": "scatter"
           }
          ],
          "scatter3d": [
           {
            "line": {
             "colorbar": {
              "outlinewidth": 0,
              "ticks": ""
             }
            },
            "marker": {
             "colorbar": {
              "outlinewidth": 0,
              "ticks": ""
             }
            },
            "type": "scatter3d"
           }
          ],
          "scattercarpet": [
           {
            "marker": {
             "colorbar": {
              "outlinewidth": 0,
              "ticks": ""
             }
            },
            "type": "scattercarpet"
           }
          ],
          "scattergeo": [
           {
            "marker": {
             "colorbar": {
              "outlinewidth": 0,
              "ticks": ""
             }
            },
            "type": "scattergeo"
           }
          ],
          "scattergl": [
           {
            "marker": {
             "colorbar": {
              "outlinewidth": 0,
              "ticks": ""
             }
            },
            "type": "scattergl"
           }
          ],
          "scattermapbox": [
           {
            "marker": {
             "colorbar": {
              "outlinewidth": 0,
              "ticks": ""
             }
            },
            "type": "scattermapbox"
           }
          ],
          "scatterpolar": [
           {
            "marker": {
             "colorbar": {
              "outlinewidth": 0,
              "ticks": ""
             }
            },
            "type": "scatterpolar"
           }
          ],
          "scatterpolargl": [
           {
            "marker": {
             "colorbar": {
              "outlinewidth": 0,
              "ticks": ""
             }
            },
            "type": "scatterpolargl"
           }
          ],
          "scatterternary": [
           {
            "marker": {
             "colorbar": {
              "outlinewidth": 0,
              "ticks": ""
             }
            },
            "type": "scatterternary"
           }
          ],
          "surface": [
           {
            "colorbar": {
             "outlinewidth": 0,
             "ticks": ""
            },
            "colorscale": [
             [
              0,
              "#0d0887"
             ],
             [
              0.1111111111111111,
              "#46039f"
             ],
             [
              0.2222222222222222,
              "#7201a8"
             ],
             [
              0.3333333333333333,
              "#9c179e"
             ],
             [
              0.4444444444444444,
              "#bd3786"
             ],
             [
              0.5555555555555556,
              "#d8576b"
             ],
             [
              0.6666666666666666,
              "#ed7953"
             ],
             [
              0.7777777777777778,
              "#fb9f3a"
             ],
             [
              0.8888888888888888,
              "#fdca26"
             ],
             [
              1,
              "#f0f921"
             ]
            ],
            "type": "surface"
           }
          ],
          "table": [
           {
            "cells": {
             "fill": {
              "color": "#EBF0F8"
             },
             "line": {
              "color": "white"
             }
            },
            "header": {
             "fill": {
              "color": "#C8D4E3"
             },
             "line": {
              "color": "white"
             }
            },
            "type": "table"
           }
          ]
         },
         "layout": {
          "annotationdefaults": {
           "arrowcolor": "#2a3f5f",
           "arrowhead": 0,
           "arrowwidth": 1
          },
          "autotypenumbers": "strict",
          "coloraxis": {
           "colorbar": {
            "outlinewidth": 0,
            "ticks": ""
           }
          },
          "colorscale": {
           "diverging": [
            [
             0,
             "#8e0152"
            ],
            [
             0.1,
             "#c51b7d"
            ],
            [
             0.2,
             "#de77ae"
            ],
            [
             0.3,
             "#f1b6da"
            ],
            [
             0.4,
             "#fde0ef"
            ],
            [
             0.5,
             "#f7f7f7"
            ],
            [
             0.6,
             "#e6f5d0"
            ],
            [
             0.7,
             "#b8e186"
            ],
            [
             0.8,
             "#7fbc41"
            ],
            [
             0.9,
             "#4d9221"
            ],
            [
             1,
             "#276419"
            ]
           ],
           "sequential": [
            [
             0,
             "#0d0887"
            ],
            [
             0.1111111111111111,
             "#46039f"
            ],
            [
             0.2222222222222222,
             "#7201a8"
            ],
            [
             0.3333333333333333,
             "#9c179e"
            ],
            [
             0.4444444444444444,
             "#bd3786"
            ],
            [
             0.5555555555555556,
             "#d8576b"
            ],
            [
             0.6666666666666666,
             "#ed7953"
            ],
            [
             0.7777777777777778,
             "#fb9f3a"
            ],
            [
             0.8888888888888888,
             "#fdca26"
            ],
            [
             1,
             "#f0f921"
            ]
           ],
           "sequentialminus": [
            [
             0,
             "#0d0887"
            ],
            [
             0.1111111111111111,
             "#46039f"
            ],
            [
             0.2222222222222222,
             "#7201a8"
            ],
            [
             0.3333333333333333,
             "#9c179e"
            ],
            [
             0.4444444444444444,
             "#bd3786"
            ],
            [
             0.5555555555555556,
             "#d8576b"
            ],
            [
             0.6666666666666666,
             "#ed7953"
            ],
            [
             0.7777777777777778,
             "#fb9f3a"
            ],
            [
             0.8888888888888888,
             "#fdca26"
            ],
            [
             1,
             "#f0f921"
            ]
           ]
          },
          "colorway": [
           "#636efa",
           "#EF553B",
           "#00cc96",
           "#ab63fa",
           "#FFA15A",
           "#19d3f3",
           "#FF6692",
           "#B6E880",
           "#FF97FF",
           "#FECB52"
          ],
          "font": {
           "color": "#2a3f5f"
          },
          "geo": {
           "bgcolor": "white",
           "lakecolor": "white",
           "landcolor": "white",
           "showlakes": true,
           "showland": true,
           "subunitcolor": "#C8D4E3"
          },
          "hoverlabel": {
           "align": "left"
          },
          "hovermode": "closest",
          "mapbox": {
           "style": "light"
          },
          "paper_bgcolor": "white",
          "plot_bgcolor": "white",
          "polar": {
           "angularaxis": {
            "gridcolor": "#EBF0F8",
            "linecolor": "#EBF0F8",
            "ticks": ""
           },
           "bgcolor": "white",
           "radialaxis": {
            "gridcolor": "#EBF0F8",
            "linecolor": "#EBF0F8",
            "ticks": ""
           }
          },
          "scene": {
           "xaxis": {
            "backgroundcolor": "white",
            "gridcolor": "#DFE8F3",
            "gridwidth": 2,
            "linecolor": "#EBF0F8",
            "showbackground": true,
            "ticks": "",
            "zerolinecolor": "#EBF0F8"
           },
           "yaxis": {
            "backgroundcolor": "white",
            "gridcolor": "#DFE8F3",
            "gridwidth": 2,
            "linecolor": "#EBF0F8",
            "showbackground": true,
            "ticks": "",
            "zerolinecolor": "#EBF0F8"
           },
           "zaxis": {
            "backgroundcolor": "white",
            "gridcolor": "#DFE8F3",
            "gridwidth": 2,
            "linecolor": "#EBF0F8",
            "showbackground": true,
            "ticks": "",
            "zerolinecolor": "#EBF0F8"
           }
          },
          "shapedefaults": {
           "line": {
            "color": "#2a3f5f"
           }
          },
          "ternary": {
           "aaxis": {
            "gridcolor": "#DFE8F3",
            "linecolor": "#A2B1C6",
            "ticks": ""
           },
           "baxis": {
            "gridcolor": "#DFE8F3",
            "linecolor": "#A2B1C6",
            "ticks": ""
           },
           "bgcolor": "white",
           "caxis": {
            "gridcolor": "#DFE8F3",
            "linecolor": "#A2B1C6",
            "ticks": ""
           }
          },
          "title": {
           "x": 0.05
          },
          "xaxis": {
           "automargin": true,
           "gridcolor": "#EBF0F8",
           "linecolor": "#EBF0F8",
           "ticks": "",
           "title": {
            "standoff": 15
           },
           "zerolinecolor": "#EBF0F8",
           "zerolinewidth": 2
          },
          "yaxis": {
           "automargin": true,
           "gridcolor": "#EBF0F8",
           "linecolor": "#EBF0F8",
           "ticks": "",
           "title": {
            "standoff": 15
           },
           "zerolinecolor": "#EBF0F8",
           "zerolinewidth": 2
          }
         }
        },
        "title": {
         "font": {
          "family": "Arial",
          "size": 20
         },
         "text": "<b>Probabilidade de Sobrevivência dado o tempo de relacionamento<br>com a empresa</b><br><sup><i>Análise de probabilidade dos coeficiente de Keplen-Meier</i></sup>",
         "x": 0.1
        },
        "width": 910,
        "xaxis": {
         "showgrid": false,
         "title": {
          "text": "Tempo em meses"
         }
        },
        "yaxis": {
         "showgrid": true,
         "showticklabels": true,
         "title": {
          "text": "Probabilidade de Sobrevivência"
         }
        }
       }
      }
     },
     "metadata": {},
     "output_type": "display_data"
    }
   ],
   "source": [
    "# Inicializando o método\n",
    "kmf = KaplanMeierFitter()\n",
    "\n",
    "# Ajustando os dados\n",
    "kmf.fit(data['tenure'], data['Churn'])\n",
    "\n",
    "# Plotando o gráfico com o plotly\n",
    "fig = go.Figure()\n",
    "fig.add_trace(go.Scatter(x=kmf.survival_function_.index,\n",
    "                         y=kmf.survival_function_['KM_estimate'],\n",
    "                         mode='lines',\n",
    "                         name='KM estimate'))\n",
    "\n",
    "# Atualizando o layout da figure\n",
    "fig.update_layout(\n",
    "    title='<b>Probabilidade de Sobrevivência dado o tempo de relacionamento<br>com a empresa</b><br><sup><i>Análise de probabilidade dos coeficiente de Keplen-Meier</i></sup>',\n",
    "    title_font=dict(size=20, family=\"Arial\"),\n",
    "    font_color='#646369',\n",
    "    template='plotly_white',\n",
    "    yaxis=dict(showticklabels=True, showgrid=True, title='Probabilidade de Sobrevivência'),\n",
    "    xaxis=dict(showgrid=False, title='Tempo em meses'),\n",
    "    title_x=0.1,\n",
    "    width=910,\n",
    "    height=500,\n",
    "    showlegend=False\n",
    ")"
   ]
  },
  {
   "cell_type": "markdown",
   "metadata": {},
   "source": [
    "A probabilidade geral de sobrevivência é bem alta, se mantendo acima de 50% \n",
    "durante todo o período. Nos primeiros 4 meses, a probabilidade do cliente não \n",
    "vivenciar o evento de interesse (Churn) é acima de 90%.\n",
    "\n",
    "Agora, vamos ver se há diferença entre os grupos de gênero e senioridade."
   ]
  },
  {
   "cell_type": "code",
   "execution_count": 50,
   "metadata": {},
   "outputs": [
    {
     "data": {
      "application/vnd.plotly.v1+json": {
       "config": {
        "plotlyServerURL": "https://plot.ly"
       },
       "data": [
        {
         "mode": "lines",
         "name": "Female",
         "type": "scatter",
         "x": [
          0,
          1,
          2,
          3,
          4,
          5,
          6,
          7,
          8,
          9,
          10,
          11,
          12,
          13,
          14,
          15,
          16,
          17,
          18,
          19,
          20,
          21,
          22,
          23,
          24,
          25,
          26,
          27,
          28,
          29,
          30,
          31,
          32,
          33,
          34,
          35,
          36,
          37,
          38,
          39,
          40,
          41,
          42,
          43,
          44,
          45,
          46,
          47,
          48,
          49,
          50,
          51,
          52,
          53,
          54,
          55,
          56,
          57,
          58,
          59,
          60,
          61,
          62,
          63,
          64,
          65,
          66,
          67,
          68,
          69,
          70,
          71,
          72
         ],
         "y": [
          1,
          0.9465977605512491,
          0.9264762701737919,
          0.9113821634586767,
          0.8969498987408336,
          0.8872952296918873,
          0.8800429943390395,
          0.872690655483319,
          0.8652262132832013,
          0.8569828232938411,
          0.8516475216702216,
          0.845223820633408,
          0.8383715804985605,
          0.8313967753363423,
          0.8260786722958112,
          0.818187343250866,
          0.8116301873387929,
          0.806842894945234,
          0.8023707865205949,
          0.8004757208934802,
          0.7974072945556036,
          0.793909894140886,
          0.7895908986732556,
          0.7875979887826116,
          0.7851545617233068,
          0.7797711179984109,
          0.7759899002926001,
          0.7729938002914706,
          0.7695274603798503,
          0.7664511084537179,
          0.7615465347521523,
          0.7570242869210827,
          0.7542797879956891,
          0.7500970904652136,
          0.7458539265342348,
          0.7425028498424887,
          0.7410354529060412,
          0.736065396213177,
          0.7325266202698442,
          0.7284257014719724,
          0.7253083304243034,
          0.7216050785548866,
          0.7161713053729976,
          0.7122881147164438,
          0.7111557011795339,
          0.7094365496053693,
          0.7065049936152645,
          0.7022744247912212,
          0.6973201078614768,
          0.69412432368246,
          0.6901804354797187,
          0.6895051121573313,
          0.6881191722333966,
          0.6845352182113477,
          0.6778748755476696,
          0.675597580333064,
          0.6716513327843894,
          0.6683427055292935,
          0.6640584574169258,
          0.6631647044459743,
          0.6603704711407243,
          0.656451358552352,
          0.6543837952183286,
          0.6511335445798268,
          0.6477304075872492,
          0.6440777925068699,
          0.6388413876897407,
          0.6346292466720059,
          0.6284528063151008,
          0.6267215313665743,
          0.6170199596735934,
          0.6146558985254189,
          0.6042380019402426
         ]
        },
        {
         "mode": "lines",
         "name": "Male",
         "type": "scatter",
         "x": [
          0,
          1,
          2,
          3,
          4,
          5,
          6,
          7,
          8,
          9,
          10,
          11,
          12,
          13,
          14,
          15,
          16,
          17,
          18,
          19,
          20,
          21,
          22,
          23,
          24,
          25,
          26,
          27,
          28,
          29,
          30,
          31,
          32,
          33,
          34,
          35,
          36,
          37,
          38,
          39,
          40,
          41,
          42,
          43,
          44,
          45,
          46,
          47,
          48,
          49,
          50,
          51,
          52,
          53,
          54,
          55,
          56,
          57,
          58,
          59,
          60,
          61,
          62,
          63,
          64,
          65,
          66,
          67,
          68,
          69,
          70,
          71,
          72
         ],
         "y": [
          1,
          0.9453367145674837,
          0.9291896588838777,
          0.9160520158919465,
          0.90510682087963,
          0.8948953593107315,
          0.8895723288319756,
          0.8807051073270652,
          0.8746024825862867,
          0.8677594676331153,
          0.8581508290071661,
          0.8541187969209931,
          0.8479863125394301,
          0.8417638283870826,
          0.8386111548725244,
          0.8333012488686878,
          0.8297202379152346,
          0.8250079779358128,
          0.8205902645332114,
          0.8153492683181274,
          0.8115551814483358,
          0.8084825636293171,
          0.8022634669860148,
          0.799103394245548,
          0.7922871585695946,
          0.7881968789693389,
          0.7857052133877712,
          0.7831734028183147,
          0.7814511963250365,
          0.7779684054779052,
          0.7757519712742644,
          0.7730427094421077,
          0.7670679441491547,
          0.7647364306411022,
          0.7633141062195751,
          0.7594516692494573,
          0.755983853408136,
          0.7534805956153936,
          0.7504259445520879,
          0.7473164447818442,
          0.7436298943142805,
          0.7398741877773397,
          0.7376964859737271,
          0.7332625476658459,
          0.7310046183427791,
          0.7292710105522431,
          0.7251374906543764,
          0.7209145601763556,
          0.7202978667972487,
          0.7140234951352521,
          0.7114665622968089,
          0.7068679787916587,
          0.7027977217160828,
          0.6964535095842422,
          0.6935576529955343,
          0.6890637589156492,
          0.685231368710334,
          0.6820553252864158,
          0.6771248048626584,
          0.6711999628201101,
          0.6685882898130282,
          0.6649397861851265,
          0.6620736664170875,
          0.6610659439415669,
          0.6599910399676783,
          0.6531280482175811,
          0.6422627017592483,
          0.6330687571532879,
          0.6257921047722155,
          0.6143546511601908,
          0.6031164563218951,
          0.5919888464266572,
          0.5823890272954142
         ]
        }
       ],
       "layout": {
        "font": {
         "color": "#646369"
        },
        "height": 500,
        "showlegend": true,
        "template": {
         "data": {
          "bar": [
           {
            "error_x": {
             "color": "#2a3f5f"
            },
            "error_y": {
             "color": "#2a3f5f"
            },
            "marker": {
             "line": {
              "color": "white",
              "width": 0.5
             },
             "pattern": {
              "fillmode": "overlay",
              "size": 10,
              "solidity": 0.2
             }
            },
            "type": "bar"
           }
          ],
          "barpolar": [
           {
            "marker": {
             "line": {
              "color": "white",
              "width": 0.5
             },
             "pattern": {
              "fillmode": "overlay",
              "size": 10,
              "solidity": 0.2
             }
            },
            "type": "barpolar"
           }
          ],
          "carpet": [
           {
            "aaxis": {
             "endlinecolor": "#2a3f5f",
             "gridcolor": "#C8D4E3",
             "linecolor": "#C8D4E3",
             "minorgridcolor": "#C8D4E3",
             "startlinecolor": "#2a3f5f"
            },
            "baxis": {
             "endlinecolor": "#2a3f5f",
             "gridcolor": "#C8D4E3",
             "linecolor": "#C8D4E3",
             "minorgridcolor": "#C8D4E3",
             "startlinecolor": "#2a3f5f"
            },
            "type": "carpet"
           }
          ],
          "choropleth": [
           {
            "colorbar": {
             "outlinewidth": 0,
             "ticks": ""
            },
            "type": "choropleth"
           }
          ],
          "contour": [
           {
            "colorbar": {
             "outlinewidth": 0,
             "ticks": ""
            },
            "colorscale": [
             [
              0,
              "#0d0887"
             ],
             [
              0.1111111111111111,
              "#46039f"
             ],
             [
              0.2222222222222222,
              "#7201a8"
             ],
             [
              0.3333333333333333,
              "#9c179e"
             ],
             [
              0.4444444444444444,
              "#bd3786"
             ],
             [
              0.5555555555555556,
              "#d8576b"
             ],
             [
              0.6666666666666666,
              "#ed7953"
             ],
             [
              0.7777777777777778,
              "#fb9f3a"
             ],
             [
              0.8888888888888888,
              "#fdca26"
             ],
             [
              1,
              "#f0f921"
             ]
            ],
            "type": "contour"
           }
          ],
          "contourcarpet": [
           {
            "colorbar": {
             "outlinewidth": 0,
             "ticks": ""
            },
            "type": "contourcarpet"
           }
          ],
          "heatmap": [
           {
            "colorbar": {
             "outlinewidth": 0,
             "ticks": ""
            },
            "colorscale": [
             [
              0,
              "#0d0887"
             ],
             [
              0.1111111111111111,
              "#46039f"
             ],
             [
              0.2222222222222222,
              "#7201a8"
             ],
             [
              0.3333333333333333,
              "#9c179e"
             ],
             [
              0.4444444444444444,
              "#bd3786"
             ],
             [
              0.5555555555555556,
              "#d8576b"
             ],
             [
              0.6666666666666666,
              "#ed7953"
             ],
             [
              0.7777777777777778,
              "#fb9f3a"
             ],
             [
              0.8888888888888888,
              "#fdca26"
             ],
             [
              1,
              "#f0f921"
             ]
            ],
            "type": "heatmap"
           }
          ],
          "heatmapgl": [
           {
            "colorbar": {
             "outlinewidth": 0,
             "ticks": ""
            },
            "colorscale": [
             [
              0,
              "#0d0887"
             ],
             [
              0.1111111111111111,
              "#46039f"
             ],
             [
              0.2222222222222222,
              "#7201a8"
             ],
             [
              0.3333333333333333,
              "#9c179e"
             ],
             [
              0.4444444444444444,
              "#bd3786"
             ],
             [
              0.5555555555555556,
              "#d8576b"
             ],
             [
              0.6666666666666666,
              "#ed7953"
             ],
             [
              0.7777777777777778,
              "#fb9f3a"
             ],
             [
              0.8888888888888888,
              "#fdca26"
             ],
             [
              1,
              "#f0f921"
             ]
            ],
            "type": "heatmapgl"
           }
          ],
          "histogram": [
           {
            "marker": {
             "pattern": {
              "fillmode": "overlay",
              "size": 10,
              "solidity": 0.2
             }
            },
            "type": "histogram"
           }
          ],
          "histogram2d": [
           {
            "colorbar": {
             "outlinewidth": 0,
             "ticks": ""
            },
            "colorscale": [
             [
              0,
              "#0d0887"
             ],
             [
              0.1111111111111111,
              "#46039f"
             ],
             [
              0.2222222222222222,
              "#7201a8"
             ],
             [
              0.3333333333333333,
              "#9c179e"
             ],
             [
              0.4444444444444444,
              "#bd3786"
             ],
             [
              0.5555555555555556,
              "#d8576b"
             ],
             [
              0.6666666666666666,
              "#ed7953"
             ],
             [
              0.7777777777777778,
              "#fb9f3a"
             ],
             [
              0.8888888888888888,
              "#fdca26"
             ],
             [
              1,
              "#f0f921"
             ]
            ],
            "type": "histogram2d"
           }
          ],
          "histogram2dcontour": [
           {
            "colorbar": {
             "outlinewidth": 0,
             "ticks": ""
            },
            "colorscale": [
             [
              0,
              "#0d0887"
             ],
             [
              0.1111111111111111,
              "#46039f"
             ],
             [
              0.2222222222222222,
              "#7201a8"
             ],
             [
              0.3333333333333333,
              "#9c179e"
             ],
             [
              0.4444444444444444,
              "#bd3786"
             ],
             [
              0.5555555555555556,
              "#d8576b"
             ],
             [
              0.6666666666666666,
              "#ed7953"
             ],
             [
              0.7777777777777778,
              "#fb9f3a"
             ],
             [
              0.8888888888888888,
              "#fdca26"
             ],
             [
              1,
              "#f0f921"
             ]
            ],
            "type": "histogram2dcontour"
           }
          ],
          "mesh3d": [
           {
            "colorbar": {
             "outlinewidth": 0,
             "ticks": ""
            },
            "type": "mesh3d"
           }
          ],
          "parcoords": [
           {
            "line": {
             "colorbar": {
              "outlinewidth": 0,
              "ticks": ""
             }
            },
            "type": "parcoords"
           }
          ],
          "pie": [
           {
            "automargin": true,
            "type": "pie"
           }
          ],
          "scatter": [
           {
            "fillpattern": {
             "fillmode": "overlay",
             "size": 10,
             "solidity": 0.2
            },
            "type": "scatter"
           }
          ],
          "scatter3d": [
           {
            "line": {
             "colorbar": {
              "outlinewidth": 0,
              "ticks": ""
             }
            },
            "marker": {
             "colorbar": {
              "outlinewidth": 0,
              "ticks": ""
             }
            },
            "type": "scatter3d"
           }
          ],
          "scattercarpet": [
           {
            "marker": {
             "colorbar": {
              "outlinewidth": 0,
              "ticks": ""
             }
            },
            "type": "scattercarpet"
           }
          ],
          "scattergeo": [
           {
            "marker": {
             "colorbar": {
              "outlinewidth": 0,
              "ticks": ""
             }
            },
            "type": "scattergeo"
           }
          ],
          "scattergl": [
           {
            "marker": {
             "colorbar": {
              "outlinewidth": 0,
              "ticks": ""
             }
            },
            "type": "scattergl"
           }
          ],
          "scattermapbox": [
           {
            "marker": {
             "colorbar": {
              "outlinewidth": 0,
              "ticks": ""
             }
            },
            "type": "scattermapbox"
           }
          ],
          "scatterpolar": [
           {
            "marker": {
             "colorbar": {
              "outlinewidth": 0,
              "ticks": ""
             }
            },
            "type": "scatterpolar"
           }
          ],
          "scatterpolargl": [
           {
            "marker": {
             "colorbar": {
              "outlinewidth": 0,
              "ticks": ""
             }
            },
            "type": "scatterpolargl"
           }
          ],
          "scatterternary": [
           {
            "marker": {
             "colorbar": {
              "outlinewidth": 0,
              "ticks": ""
             }
            },
            "type": "scatterternary"
           }
          ],
          "surface": [
           {
            "colorbar": {
             "outlinewidth": 0,
             "ticks": ""
            },
            "colorscale": [
             [
              0,
              "#0d0887"
             ],
             [
              0.1111111111111111,
              "#46039f"
             ],
             [
              0.2222222222222222,
              "#7201a8"
             ],
             [
              0.3333333333333333,
              "#9c179e"
             ],
             [
              0.4444444444444444,
              "#bd3786"
             ],
             [
              0.5555555555555556,
              "#d8576b"
             ],
             [
              0.6666666666666666,
              "#ed7953"
             ],
             [
              0.7777777777777778,
              "#fb9f3a"
             ],
             [
              0.8888888888888888,
              "#fdca26"
             ],
             [
              1,
              "#f0f921"
             ]
            ],
            "type": "surface"
           }
          ],
          "table": [
           {
            "cells": {
             "fill": {
              "color": "#EBF0F8"
             },
             "line": {
              "color": "white"
             }
            },
            "header": {
             "fill": {
              "color": "#C8D4E3"
             },
             "line": {
              "color": "white"
             }
            },
            "type": "table"
           }
          ]
         },
         "layout": {
          "annotationdefaults": {
           "arrowcolor": "#2a3f5f",
           "arrowhead": 0,
           "arrowwidth": 1
          },
          "autotypenumbers": "strict",
          "coloraxis": {
           "colorbar": {
            "outlinewidth": 0,
            "ticks": ""
           }
          },
          "colorscale": {
           "diverging": [
            [
             0,
             "#8e0152"
            ],
            [
             0.1,
             "#c51b7d"
            ],
            [
             0.2,
             "#de77ae"
            ],
            [
             0.3,
             "#f1b6da"
            ],
            [
             0.4,
             "#fde0ef"
            ],
            [
             0.5,
             "#f7f7f7"
            ],
            [
             0.6,
             "#e6f5d0"
            ],
            [
             0.7,
             "#b8e186"
            ],
            [
             0.8,
             "#7fbc41"
            ],
            [
             0.9,
             "#4d9221"
            ],
            [
             1,
             "#276419"
            ]
           ],
           "sequential": [
            [
             0,
             "#0d0887"
            ],
            [
             0.1111111111111111,
             "#46039f"
            ],
            [
             0.2222222222222222,
             "#7201a8"
            ],
            [
             0.3333333333333333,
             "#9c179e"
            ],
            [
             0.4444444444444444,
             "#bd3786"
            ],
            [
             0.5555555555555556,
             "#d8576b"
            ],
            [
             0.6666666666666666,
             "#ed7953"
            ],
            [
             0.7777777777777778,
             "#fb9f3a"
            ],
            [
             0.8888888888888888,
             "#fdca26"
            ],
            [
             1,
             "#f0f921"
            ]
           ],
           "sequentialminus": [
            [
             0,
             "#0d0887"
            ],
            [
             0.1111111111111111,
             "#46039f"
            ],
            [
             0.2222222222222222,
             "#7201a8"
            ],
            [
             0.3333333333333333,
             "#9c179e"
            ],
            [
             0.4444444444444444,
             "#bd3786"
            ],
            [
             0.5555555555555556,
             "#d8576b"
            ],
            [
             0.6666666666666666,
             "#ed7953"
            ],
            [
             0.7777777777777778,
             "#fb9f3a"
            ],
            [
             0.8888888888888888,
             "#fdca26"
            ],
            [
             1,
             "#f0f921"
            ]
           ]
          },
          "colorway": [
           "#636efa",
           "#EF553B",
           "#00cc96",
           "#ab63fa",
           "#FFA15A",
           "#19d3f3",
           "#FF6692",
           "#B6E880",
           "#FF97FF",
           "#FECB52"
          ],
          "font": {
           "color": "#2a3f5f"
          },
          "geo": {
           "bgcolor": "white",
           "lakecolor": "white",
           "landcolor": "white",
           "showlakes": true,
           "showland": true,
           "subunitcolor": "#C8D4E3"
          },
          "hoverlabel": {
           "align": "left"
          },
          "hovermode": "closest",
          "mapbox": {
           "style": "light"
          },
          "paper_bgcolor": "white",
          "plot_bgcolor": "white",
          "polar": {
           "angularaxis": {
            "gridcolor": "#EBF0F8",
            "linecolor": "#EBF0F8",
            "ticks": ""
           },
           "bgcolor": "white",
           "radialaxis": {
            "gridcolor": "#EBF0F8",
            "linecolor": "#EBF0F8",
            "ticks": ""
           }
          },
          "scene": {
           "xaxis": {
            "backgroundcolor": "white",
            "gridcolor": "#DFE8F3",
            "gridwidth": 2,
            "linecolor": "#EBF0F8",
            "showbackground": true,
            "ticks": "",
            "zerolinecolor": "#EBF0F8"
           },
           "yaxis": {
            "backgroundcolor": "white",
            "gridcolor": "#DFE8F3",
            "gridwidth": 2,
            "linecolor": "#EBF0F8",
            "showbackground": true,
            "ticks": "",
            "zerolinecolor": "#EBF0F8"
           },
           "zaxis": {
            "backgroundcolor": "white",
            "gridcolor": "#DFE8F3",
            "gridwidth": 2,
            "linecolor": "#EBF0F8",
            "showbackground": true,
            "ticks": "",
            "zerolinecolor": "#EBF0F8"
           }
          },
          "shapedefaults": {
           "line": {
            "color": "#2a3f5f"
           }
          },
          "ternary": {
           "aaxis": {
            "gridcolor": "#DFE8F3",
            "linecolor": "#A2B1C6",
            "ticks": ""
           },
           "baxis": {
            "gridcolor": "#DFE8F3",
            "linecolor": "#A2B1C6",
            "ticks": ""
           },
           "bgcolor": "white",
           "caxis": {
            "gridcolor": "#DFE8F3",
            "linecolor": "#A2B1C6",
            "ticks": ""
           }
          },
          "title": {
           "x": 0.05
          },
          "xaxis": {
           "automargin": true,
           "gridcolor": "#EBF0F8",
           "linecolor": "#EBF0F8",
           "ticks": "",
           "title": {
            "standoff": 15
           },
           "zerolinecolor": "#EBF0F8",
           "zerolinewidth": 2
          },
          "yaxis": {
           "automargin": true,
           "gridcolor": "#EBF0F8",
           "linecolor": "#EBF0F8",
           "ticks": "",
           "title": {
            "standoff": 15
           },
           "zerolinecolor": "#EBF0F8",
           "zerolinewidth": 2
          }
         }
        },
        "title": {
         "font": {
          "family": "Arial",
          "size": 20
         },
         "text": "<b>Probabilidade de Sobrevivência dado o tempo de relacionamento<br>com a empresa</b><br><sup><i>Análise de probabilidade dos coeficiente de Keplen-Meier para os diferentes gêneros</i></sup>",
         "x": 0.1
        },
        "width": 910,
        "xaxis": {
         "showgrid": false,
         "title": {
          "text": "Tempo em meses"
         }
        },
        "yaxis": {
         "showgrid": true,
         "showticklabels": true,
         "title": {
          "text": "Probabilidade de Sobrevivência"
         }
        }
       }
      }
     },
     "metadata": {},
     "output_type": "display_data"
    }
   ],
   "source": [
    "# Inicializando o método\n",
    "kmf = KaplanMeierFitter()\n",
    "\n",
    "# Initializando a figure\n",
    "fig = go.Figure()\n",
    "\n",
    "# Ajustando os dados\n",
    "for genero in data['gender'].unique():\n",
    "    data_gender = data.query(f\"gender == '{genero}'\")\n",
    "    kmf.fit(data_gender['tenure'], data_gender['Churn'], label=genero)\n",
    "    fig.add_trace(go.Scatter(x=kmf.survival_function_.index,\n",
    "                                y=kmf.survival_function_[f'{genero}'],\n",
    "                                mode='lines',\n",
    "                                name=genero))\n",
    "    \n",
    "# Atualizando o layout da figure\n",
    "fig.update_layout(\n",
    "    title='<b>Probabilidade de Sobrevivência dado o tempo de relacionamento<br>com a empresa</b><br><sup><i>Análise de probabilidade dos coeficiente de Keplen-Meier para os diferentes gêneros</i></sup>',\n",
    "    title_font=dict(size=20, family=\"Arial\"),\n",
    "    font_color='#646369',\n",
    "    template='plotly_white',\n",
    "    yaxis=dict(showticklabels=True, showgrid=True, title='Probabilidade de Sobrevivência'),\n",
    "    xaxis=dict(showgrid=False, title='Tempo em meses'),\n",
    "    title_x=0.1,\n",
    "    width=910,\n",
    "    height=500,\n",
    "    showlegend=True\n",
    ")"
   ]
  },
  {
   "cell_type": "code",
   "execution_count": 51,
   "metadata": {},
   "outputs": [
    {
     "name": "stdout",
     "output_type": "stream",
     "text": [
      "Com um p valor de 0.46841735075696966, não podemos rejeitar a hipótese nula de que os grupos são significativamente iguais\n"
     ]
    }
   ],
   "source": [
    "# Dividindo os dados por gênero \n",
    "data_masculino = data.query(\"gender == 'Male'\")\n",
    "data_feminino = data.query(\"gender == 'Female'\")\n",
    "\n",
    "# Aplicando o teste\n",
    "resultados = logrank_test(data_masculino['tenure'], data_feminino['tenure'], data_masculino['Churn'], data_feminino['Churn'])\n",
    "\n",
    "if resultados.p_value < 0.05:\n",
    "    print(f\"Com um p valor de {resultados.p_value}, podemos rejeitar a hipótese nula de que os grupos são significativamente iguais\")\n",
    "    \n",
    "else:\n",
    "    print(f\"Com um p valor de {resultados.p_value}, não podemos rejeitar a hipótese nula de que os grupos são significativamente iguais\")"
   ]
  },
  {
   "cell_type": "markdown",
   "metadata": {},
   "source": [
    "No geral, pessoas do gênero masculino têm uma probabilidade de churn maior do\n",
    "que pessoas do gênero feminino. No entanto, a diferença não é tão grande. Também \n",
    "é possível notar que o cenário se inverte com clientes com um tempo de \n",
    "relacionamento superior a 67 meses, com as pessoas do gênero feminino tendo uma\n",
    "probabilidade de churn maior do que as pessoas do gênero masculino.\n",
    "\n",
    "Com 95% de confiança, podemos dizer que as curvas de churn para os grupos de\n",
    "gênero são iguais."
   ]
  },
  {
   "cell_type": "code",
   "execution_count": 52,
   "metadata": {},
   "outputs": [
    {
     "data": {
      "application/vnd.plotly.v1+json": {
       "config": {
        "plotlyServerURL": "https://plot.ly"
       },
       "data": [
        {
         "mode": "lines",
         "name": "Not senior",
         "type": "scatter",
         "x": [
          0,
          1,
          2,
          3,
          4,
          5,
          6,
          7,
          8,
          9,
          10,
          11,
          12,
          13,
          14,
          15,
          16,
          17,
          18,
          19,
          20,
          21,
          22,
          23,
          24,
          25,
          26,
          27,
          28,
          29,
          30,
          31,
          32,
          33,
          34,
          35,
          36,
          37,
          38,
          39,
          40,
          41,
          42,
          43,
          44,
          45,
          46,
          47,
          48,
          49,
          50,
          51,
          52,
          53,
          54,
          55,
          56,
          57,
          58,
          59,
          60,
          61,
          62,
          63,
          64,
          65,
          66,
          67,
          68,
          69,
          70,
          71,
          72
         ],
         "y": [
          1,
          0.9480475382003397,
          0.9316074074801017,
          0.9182678277290318,
          0.9053940548588076,
          0.8962335533745863,
          0.8897967259950471,
          0.8821211018760483,
          0.8768622655433801,
          0.8695385852216864,
          0.8625051092608002,
          0.857603351595099,
          0.8511832347393999,
          0.8452766348452984,
          0.8414169241839048,
          0.8359954233837511,
          0.8322524889098181,
          0.827795982945106,
          0.8234986813942984,
          0.820046339242002,
          0.8179460498130948,
          0.8151100623534712,
          0.8096106398148581,
          0.8069362503139681,
          0.8034676879853235,
          0.7994238116066613,
          0.7971103664926872,
          0.7965868128857952,
          0.7941898615932612,
          0.7914922058133929,
          0.7884754302541597,
          0.7848521780119174,
          0.7823057938727292,
          0.7794349469227375,
          0.7765189912664606,
          0.7732587970283186,
          0.7714379364387693,
          0.7689742623902621,
          0.7661506114879726,
          0.7623262323956862,
          0.7600593319595056,
          0.7570851867474903,
          0.7533656972190298,
          0.7509488503443579,
          0.7495392795318856,
          0.7477461233607567,
          0.7459143102217053,
          0.7429005150288901,
          0.739809925262779,
          0.7350523051646259,
          0.732615667688942,
          0.7309468392887395,
          0.7283639882665179,
          0.7238982372654972,
          0.7192874204676275,
          0.7164406364816078,
          0.7135084101385728,
          0.7109638009726007,
          0.7072827753758496,
          0.7034537116267149,
          0.700621772368958,
          0.6964690607630452,
          0.6939682741893901,
          0.6913321174023459,
          0.6892329308110436,
          0.6840001428330853,
          0.6800463847820272,
          0.6715245002609496,
          0.6668350833596858,
          0.6604741763642041,
          0.6496071423838059,
          0.6423081857278079,
          0.6339120002934576
         ]
        },
        {
         "mode": "lines",
         "name": "Senior",
         "type": "scatter",
         "x": [
          0,
          1,
          2,
          3,
          4,
          5,
          6,
          7,
          8,
          9,
          10,
          11,
          12,
          13,
          14,
          15,
          16,
          17,
          18,
          19,
          20,
          21,
          22,
          23,
          24,
          25,
          26,
          27,
          28,
          29,
          30,
          31,
          32,
          33,
          34,
          35,
          36,
          37,
          38,
          39,
          40,
          41,
          42,
          43,
          44,
          45,
          46,
          47,
          48,
          49,
          50,
          51,
          52,
          53,
          54,
          55,
          56,
          57,
          58,
          59,
          60,
          61,
          62,
          63,
          64,
          65,
          66,
          67,
          68,
          69,
          70,
          71,
          72
         ],
         "y": [
          1,
          0.935201401050788,
          0.908633179430027,
          0.8906937287009046,
          0.8789740743758931,
          0.8652686574157701,
          0.8597338898843258,
          0.8495100274100256,
          0.8353829205240498,
          0.8268197698580864,
          0.817227893177598,
          0.8104977811161358,
          0.803686875392471,
          0.7939096627964557,
          0.7879996653066559,
          0.7760602764383733,
          0.7650594220043246,
          0.7590035426744752,
          0.7539163875627161,
          0.7497909900931529,
          0.7404445650088894,
          0.7351857257687696,
          0.7309422295161361,
          0.7287987039163822,
          0.7190088705801918,
          0.7113130569807091,
          0.7046859166982804,
          0.6923818768829136,
          0.6889878480746641,
          0.6832653576421506,
          0.6774552780703635,
          0.6739083917977439,
          0.6619384381246045,
          0.6570622802010345,
          0.6545874693528196,
          0.6495424792229331,
          0.6443771314756335,
          0.635283099378195,
          0.6300436511359006,
          0.6273796187843748,
          0.619319066937038,
          0.6125431471674861,
          0.608441295735561,
          0.5973787267221872,
          0.5945741317610503,
          0.5931448670212399,
          0.5828676044738421,
          0.5739233445586421,
          0.5724130199676983,
          0.5678091618982531,
          0.5615523116294019,
          0.5551161819832195,
          0.5518411602606047,
          0.545070103079493,
          0.5399117109367849,
          0.5345660504324604,
          0.5271672123641911,
          0.5213741660744744,
          0.5132908456702191,
          0.5112376822875383,
          0.5091163641037726,
          0.5068636368289774,
          0.5045278597007329,
          0.5045278597007329,
          0.5020177708465002,
          0.49664859682675133,
          0.4729986636445249,
          0.4729986636445249,
          0.4584448586093089,
          0.4506081943595771,
          0.44194265216035433,
          0.4368628515608099,
          0.42126060686220956
         ]
        }
       ],
       "layout": {
        "font": {
         "color": "#646369"
        },
        "height": 500,
        "showlegend": true,
        "template": {
         "data": {
          "bar": [
           {
            "error_x": {
             "color": "#2a3f5f"
            },
            "error_y": {
             "color": "#2a3f5f"
            },
            "marker": {
             "line": {
              "color": "white",
              "width": 0.5
             },
             "pattern": {
              "fillmode": "overlay",
              "size": 10,
              "solidity": 0.2
             }
            },
            "type": "bar"
           }
          ],
          "barpolar": [
           {
            "marker": {
             "line": {
              "color": "white",
              "width": 0.5
             },
             "pattern": {
              "fillmode": "overlay",
              "size": 10,
              "solidity": 0.2
             }
            },
            "type": "barpolar"
           }
          ],
          "carpet": [
           {
            "aaxis": {
             "endlinecolor": "#2a3f5f",
             "gridcolor": "#C8D4E3",
             "linecolor": "#C8D4E3",
             "minorgridcolor": "#C8D4E3",
             "startlinecolor": "#2a3f5f"
            },
            "baxis": {
             "endlinecolor": "#2a3f5f",
             "gridcolor": "#C8D4E3",
             "linecolor": "#C8D4E3",
             "minorgridcolor": "#C8D4E3",
             "startlinecolor": "#2a3f5f"
            },
            "type": "carpet"
           }
          ],
          "choropleth": [
           {
            "colorbar": {
             "outlinewidth": 0,
             "ticks": ""
            },
            "type": "choropleth"
           }
          ],
          "contour": [
           {
            "colorbar": {
             "outlinewidth": 0,
             "ticks": ""
            },
            "colorscale": [
             [
              0,
              "#0d0887"
             ],
             [
              0.1111111111111111,
              "#46039f"
             ],
             [
              0.2222222222222222,
              "#7201a8"
             ],
             [
              0.3333333333333333,
              "#9c179e"
             ],
             [
              0.4444444444444444,
              "#bd3786"
             ],
             [
              0.5555555555555556,
              "#d8576b"
             ],
             [
              0.6666666666666666,
              "#ed7953"
             ],
             [
              0.7777777777777778,
              "#fb9f3a"
             ],
             [
              0.8888888888888888,
              "#fdca26"
             ],
             [
              1,
              "#f0f921"
             ]
            ],
            "type": "contour"
           }
          ],
          "contourcarpet": [
           {
            "colorbar": {
             "outlinewidth": 0,
             "ticks": ""
            },
            "type": "contourcarpet"
           }
          ],
          "heatmap": [
           {
            "colorbar": {
             "outlinewidth": 0,
             "ticks": ""
            },
            "colorscale": [
             [
              0,
              "#0d0887"
             ],
             [
              0.1111111111111111,
              "#46039f"
             ],
             [
              0.2222222222222222,
              "#7201a8"
             ],
             [
              0.3333333333333333,
              "#9c179e"
             ],
             [
              0.4444444444444444,
              "#bd3786"
             ],
             [
              0.5555555555555556,
              "#d8576b"
             ],
             [
              0.6666666666666666,
              "#ed7953"
             ],
             [
              0.7777777777777778,
              "#fb9f3a"
             ],
             [
              0.8888888888888888,
              "#fdca26"
             ],
             [
              1,
              "#f0f921"
             ]
            ],
            "type": "heatmap"
           }
          ],
          "heatmapgl": [
           {
            "colorbar": {
             "outlinewidth": 0,
             "ticks": ""
            },
            "colorscale": [
             [
              0,
              "#0d0887"
             ],
             [
              0.1111111111111111,
              "#46039f"
             ],
             [
              0.2222222222222222,
              "#7201a8"
             ],
             [
              0.3333333333333333,
              "#9c179e"
             ],
             [
              0.4444444444444444,
              "#bd3786"
             ],
             [
              0.5555555555555556,
              "#d8576b"
             ],
             [
              0.6666666666666666,
              "#ed7953"
             ],
             [
              0.7777777777777778,
              "#fb9f3a"
             ],
             [
              0.8888888888888888,
              "#fdca26"
             ],
             [
              1,
              "#f0f921"
             ]
            ],
            "type": "heatmapgl"
           }
          ],
          "histogram": [
           {
            "marker": {
             "pattern": {
              "fillmode": "overlay",
              "size": 10,
              "solidity": 0.2
             }
            },
            "type": "histogram"
           }
          ],
          "histogram2d": [
           {
            "colorbar": {
             "outlinewidth": 0,
             "ticks": ""
            },
            "colorscale": [
             [
              0,
              "#0d0887"
             ],
             [
              0.1111111111111111,
              "#46039f"
             ],
             [
              0.2222222222222222,
              "#7201a8"
             ],
             [
              0.3333333333333333,
              "#9c179e"
             ],
             [
              0.4444444444444444,
              "#bd3786"
             ],
             [
              0.5555555555555556,
              "#d8576b"
             ],
             [
              0.6666666666666666,
              "#ed7953"
             ],
             [
              0.7777777777777778,
              "#fb9f3a"
             ],
             [
              0.8888888888888888,
              "#fdca26"
             ],
             [
              1,
              "#f0f921"
             ]
            ],
            "type": "histogram2d"
           }
          ],
          "histogram2dcontour": [
           {
            "colorbar": {
             "outlinewidth": 0,
             "ticks": ""
            },
            "colorscale": [
             [
              0,
              "#0d0887"
             ],
             [
              0.1111111111111111,
              "#46039f"
             ],
             [
              0.2222222222222222,
              "#7201a8"
             ],
             [
              0.3333333333333333,
              "#9c179e"
             ],
             [
              0.4444444444444444,
              "#bd3786"
             ],
             [
              0.5555555555555556,
              "#d8576b"
             ],
             [
              0.6666666666666666,
              "#ed7953"
             ],
             [
              0.7777777777777778,
              "#fb9f3a"
             ],
             [
              0.8888888888888888,
              "#fdca26"
             ],
             [
              1,
              "#f0f921"
             ]
            ],
            "type": "histogram2dcontour"
           }
          ],
          "mesh3d": [
           {
            "colorbar": {
             "outlinewidth": 0,
             "ticks": ""
            },
            "type": "mesh3d"
           }
          ],
          "parcoords": [
           {
            "line": {
             "colorbar": {
              "outlinewidth": 0,
              "ticks": ""
             }
            },
            "type": "parcoords"
           }
          ],
          "pie": [
           {
            "automargin": true,
            "type": "pie"
           }
          ],
          "scatter": [
           {
            "fillpattern": {
             "fillmode": "overlay",
             "size": 10,
             "solidity": 0.2
            },
            "type": "scatter"
           }
          ],
          "scatter3d": [
           {
            "line": {
             "colorbar": {
              "outlinewidth": 0,
              "ticks": ""
             }
            },
            "marker": {
             "colorbar": {
              "outlinewidth": 0,
              "ticks": ""
             }
            },
            "type": "scatter3d"
           }
          ],
          "scattercarpet": [
           {
            "marker": {
             "colorbar": {
              "outlinewidth": 0,
              "ticks": ""
             }
            },
            "type": "scattercarpet"
           }
          ],
          "scattergeo": [
           {
            "marker": {
             "colorbar": {
              "outlinewidth": 0,
              "ticks": ""
             }
            },
            "type": "scattergeo"
           }
          ],
          "scattergl": [
           {
            "marker": {
             "colorbar": {
              "outlinewidth": 0,
              "ticks": ""
             }
            },
            "type": "scattergl"
           }
          ],
          "scattermapbox": [
           {
            "marker": {
             "colorbar": {
              "outlinewidth": 0,
              "ticks": ""
             }
            },
            "type": "scattermapbox"
           }
          ],
          "scatterpolar": [
           {
            "marker": {
             "colorbar": {
              "outlinewidth": 0,
              "ticks": ""
             }
            },
            "type": "scatterpolar"
           }
          ],
          "scatterpolargl": [
           {
            "marker": {
             "colorbar": {
              "outlinewidth": 0,
              "ticks": ""
             }
            },
            "type": "scatterpolargl"
           }
          ],
          "scatterternary": [
           {
            "marker": {
             "colorbar": {
              "outlinewidth": 0,
              "ticks": ""
             }
            },
            "type": "scatterternary"
           }
          ],
          "surface": [
           {
            "colorbar": {
             "outlinewidth": 0,
             "ticks": ""
            },
            "colorscale": [
             [
              0,
              "#0d0887"
             ],
             [
              0.1111111111111111,
              "#46039f"
             ],
             [
              0.2222222222222222,
              "#7201a8"
             ],
             [
              0.3333333333333333,
              "#9c179e"
             ],
             [
              0.4444444444444444,
              "#bd3786"
             ],
             [
              0.5555555555555556,
              "#d8576b"
             ],
             [
              0.6666666666666666,
              "#ed7953"
             ],
             [
              0.7777777777777778,
              "#fb9f3a"
             ],
             [
              0.8888888888888888,
              "#fdca26"
             ],
             [
              1,
              "#f0f921"
             ]
            ],
            "type": "surface"
           }
          ],
          "table": [
           {
            "cells": {
             "fill": {
              "color": "#EBF0F8"
             },
             "line": {
              "color": "white"
             }
            },
            "header": {
             "fill": {
              "color": "#C8D4E3"
             },
             "line": {
              "color": "white"
             }
            },
            "type": "table"
           }
          ]
         },
         "layout": {
          "annotationdefaults": {
           "arrowcolor": "#2a3f5f",
           "arrowhead": 0,
           "arrowwidth": 1
          },
          "autotypenumbers": "strict",
          "coloraxis": {
           "colorbar": {
            "outlinewidth": 0,
            "ticks": ""
           }
          },
          "colorscale": {
           "diverging": [
            [
             0,
             "#8e0152"
            ],
            [
             0.1,
             "#c51b7d"
            ],
            [
             0.2,
             "#de77ae"
            ],
            [
             0.3,
             "#f1b6da"
            ],
            [
             0.4,
             "#fde0ef"
            ],
            [
             0.5,
             "#f7f7f7"
            ],
            [
             0.6,
             "#e6f5d0"
            ],
            [
             0.7,
             "#b8e186"
            ],
            [
             0.8,
             "#7fbc41"
            ],
            [
             0.9,
             "#4d9221"
            ],
            [
             1,
             "#276419"
            ]
           ],
           "sequential": [
            [
             0,
             "#0d0887"
            ],
            [
             0.1111111111111111,
             "#46039f"
            ],
            [
             0.2222222222222222,
             "#7201a8"
            ],
            [
             0.3333333333333333,
             "#9c179e"
            ],
            [
             0.4444444444444444,
             "#bd3786"
            ],
            [
             0.5555555555555556,
             "#d8576b"
            ],
            [
             0.6666666666666666,
             "#ed7953"
            ],
            [
             0.7777777777777778,
             "#fb9f3a"
            ],
            [
             0.8888888888888888,
             "#fdca26"
            ],
            [
             1,
             "#f0f921"
            ]
           ],
           "sequentialminus": [
            [
             0,
             "#0d0887"
            ],
            [
             0.1111111111111111,
             "#46039f"
            ],
            [
             0.2222222222222222,
             "#7201a8"
            ],
            [
             0.3333333333333333,
             "#9c179e"
            ],
            [
             0.4444444444444444,
             "#bd3786"
            ],
            [
             0.5555555555555556,
             "#d8576b"
            ],
            [
             0.6666666666666666,
             "#ed7953"
            ],
            [
             0.7777777777777778,
             "#fb9f3a"
            ],
            [
             0.8888888888888888,
             "#fdca26"
            ],
            [
             1,
             "#f0f921"
            ]
           ]
          },
          "colorway": [
           "#636efa",
           "#EF553B",
           "#00cc96",
           "#ab63fa",
           "#FFA15A",
           "#19d3f3",
           "#FF6692",
           "#B6E880",
           "#FF97FF",
           "#FECB52"
          ],
          "font": {
           "color": "#2a3f5f"
          },
          "geo": {
           "bgcolor": "white",
           "lakecolor": "white",
           "landcolor": "white",
           "showlakes": true,
           "showland": true,
           "subunitcolor": "#C8D4E3"
          },
          "hoverlabel": {
           "align": "left"
          },
          "hovermode": "closest",
          "mapbox": {
           "style": "light"
          },
          "paper_bgcolor": "white",
          "plot_bgcolor": "white",
          "polar": {
           "angularaxis": {
            "gridcolor": "#EBF0F8",
            "linecolor": "#EBF0F8",
            "ticks": ""
           },
           "bgcolor": "white",
           "radialaxis": {
            "gridcolor": "#EBF0F8",
            "linecolor": "#EBF0F8",
            "ticks": ""
           }
          },
          "scene": {
           "xaxis": {
            "backgroundcolor": "white",
            "gridcolor": "#DFE8F3",
            "gridwidth": 2,
            "linecolor": "#EBF0F8",
            "showbackground": true,
            "ticks": "",
            "zerolinecolor": "#EBF0F8"
           },
           "yaxis": {
            "backgroundcolor": "white",
            "gridcolor": "#DFE8F3",
            "gridwidth": 2,
            "linecolor": "#EBF0F8",
            "showbackground": true,
            "ticks": "",
            "zerolinecolor": "#EBF0F8"
           },
           "zaxis": {
            "backgroundcolor": "white",
            "gridcolor": "#DFE8F3",
            "gridwidth": 2,
            "linecolor": "#EBF0F8",
            "showbackground": true,
            "ticks": "",
            "zerolinecolor": "#EBF0F8"
           }
          },
          "shapedefaults": {
           "line": {
            "color": "#2a3f5f"
           }
          },
          "ternary": {
           "aaxis": {
            "gridcolor": "#DFE8F3",
            "linecolor": "#A2B1C6",
            "ticks": ""
           },
           "baxis": {
            "gridcolor": "#DFE8F3",
            "linecolor": "#A2B1C6",
            "ticks": ""
           },
           "bgcolor": "white",
           "caxis": {
            "gridcolor": "#DFE8F3",
            "linecolor": "#A2B1C6",
            "ticks": ""
           }
          },
          "title": {
           "x": 0.05
          },
          "xaxis": {
           "automargin": true,
           "gridcolor": "#EBF0F8",
           "linecolor": "#EBF0F8",
           "ticks": "",
           "title": {
            "standoff": 15
           },
           "zerolinecolor": "#EBF0F8",
           "zerolinewidth": 2
          },
          "yaxis": {
           "automargin": true,
           "gridcolor": "#EBF0F8",
           "linecolor": "#EBF0F8",
           "ticks": "",
           "title": {
            "standoff": 15
           },
           "zerolinecolor": "#EBF0F8",
           "zerolinewidth": 2
          }
         }
        },
        "title": {
         "font": {
          "family": "Arial",
          "size": 20
         },
         "text": "<b>Probabilidade de Sobrevivência dado o tempo de relacionamento<br>com a empresa</b><br><sup><i>Análise de probabilidade dos coeficiente de Keplen-Meier para os diferentes grupos de idade</i></sup>",
         "x": 0.1
        },
        "width": 910,
        "xaxis": {
         "showgrid": false,
         "title": {
          "text": "Tempo em meses"
         }
        },
        "yaxis": {
         "showgrid": true,
         "showticklabels": true,
         "title": {
          "text": "Probabilidade de Sobrevivência"
         }
        }
       }
      }
     },
     "metadata": {},
     "output_type": "display_data"
    }
   ],
   "source": [
    "# Inicializando o método\n",
    "kmf = KaplanMeierFitter()\n",
    "\n",
    "# Initializando a figure\n",
    "fig = go.Figure()\n",
    "\n",
    "# Ajustando os dados\n",
    "for senioridade in data['SeniorCitizen'].unique():\n",
    "    data_senior = data.query(f\"SeniorCitizen == {senioridade}\")\n",
    "    if senioridade == 1:\n",
    "        label = 'Senior'\n",
    "        kmf.fit(data_senior['tenure'], data_senior['Churn'], label=label)\n",
    "        fig.add_trace(go.Scatter(x=kmf.survival_function_.index,\n",
    "                                y=kmf.survival_function_[f'{label}'],\n",
    "                                mode='lines',\n",
    "                                name=label))\n",
    "    else:\n",
    "        label = 'Not senior'\n",
    "        kmf.fit(data_senior['tenure'], data_senior['Churn'], label=label)\n",
    "        fig.add_trace(go.Scatter(x=kmf.survival_function_.index,\n",
    "                                y=kmf.survival_function_[f'{label}'],\n",
    "                                mode='lines',\n",
    "                                name=label))\n",
    "    \n",
    "# Atualizando o layout da figure\n",
    "fig.update_layout(\n",
    "    title='<b>Probabilidade de Sobrevivência dado o tempo de relacionamento<br>com a empresa</b><br><sup><i>Análise de probabilidade dos coeficiente de Keplen-Meier para os diferentes grupos de idade</i></sup>',\n",
    "    title_font=dict(size=20, family=\"Arial\"),\n",
    "    font_color='#646369',\n",
    "    template='plotly_white',\n",
    "    yaxis=dict(showticklabels=True, showgrid=True, title='Probabilidade de Sobrevivência'),\n",
    "    xaxis=dict(showgrid=False, title='Tempo em meses'),\n",
    "    title_x=0.1,\n",
    "    width=910,\n",
    "    height=500,\n",
    "    showlegend=True\n",
    ")"
   ]
  },
  {
   "cell_type": "code",
   "execution_count": 53,
   "metadata": {},
   "outputs": [
    {
     "name": "stdout",
     "output_type": "stream",
     "text": [
      "Com um p valor de 1.2676192066669992e-25, podemos rejeitar a hipótese nula de que os grupos são significativamente iguais\n"
     ]
    }
   ],
   "source": [
    "# Obtendo os dados de não senior\n",
    "data_not_senior = data.query(\"SeniorCitizen == 0\")\n",
    "data_senior = data.query(\"SeniorCitizen == 1\")\n",
    "\n",
    "# Aplicando o teste\n",
    "resultados = logrank_test(data_senior['tenure'], data_not_senior['tenure'], data_senior['Churn'], data_not_senior['Churn'])\n",
    "\n",
    "if resultados.p_value < 0.05:\n",
    "    print(f\"Com um p valor de {resultados.p_value}, podemos rejeitar a hipótese nula de que os grupos são significativamente iguais\")\n",
    "    \n",
    "else:\n",
    "    print(f\"Com um p valor de {resultados.p_value}, não podemos rejeitar a hipótese nula de que os grupos são significativamente iguais\")"
   ]
  },
  {
   "cell_type": "markdown",
   "metadata": {},
   "source": [
    "Pessoas mais velhas são mais propensas a dar churn do que pessoas mais novas.\n",
    "A diferença durante o último mês do período chegou a ser de 20%. \n",
    "\n",
    "Com 95% de confiança, podemos dizer que as curvas de churn para os grupos de \n",
    "senioridade são significativamente diferentes.\n",
    "\n",
    "Agora, vamos considerar as variáveis 'Partner' e 'Dependents', para averiguar se\n",
    "há diferença entre pessoas que moram sozinhas e pessoas que moram com alguém."
   ]
  },
  {
   "cell_type": "code",
   "execution_count": 54,
   "metadata": {},
   "outputs": [
    {
     "data": {
      "application/vnd.plotly.v1+json": {
       "config": {
        "plotlyServerURL": "https://plot.ly"
       },
       "data": [
        {
         "mode": "lines",
         "name": "Yes",
         "type": "scatter",
         "x": [
          0,
          1,
          2,
          3,
          4,
          5,
          6,
          7,
          8,
          9,
          10,
          11,
          12,
          13,
          14,
          15,
          16,
          17,
          18,
          19,
          20,
          21,
          22,
          23,
          24,
          25,
          26,
          27,
          28,
          29,
          30,
          31,
          32,
          33,
          34,
          35,
          36,
          37,
          38,
          39,
          40,
          41,
          42,
          43,
          44,
          45,
          46,
          47,
          48,
          49,
          50,
          51,
          52,
          53,
          54,
          55,
          56,
          57,
          58,
          59,
          60,
          61,
          62,
          63,
          64,
          65,
          66,
          67,
          68,
          69,
          70,
          71,
          72
         ],
         "y": [
          1,
          0.9805481874447391,
          0.9745964533783075,
          0.9676929367698375,
          0.9610400478295453,
          0.9555518749675744,
          0.9512586380453848,
          0.9453885782458189,
          0.9413337938455569,
          0.9375470001726955,
          0.9330976245786556,
          0.9286115783066426,
          0.9257076505079073,
          0.921142695556477,
          0.9175252126392618,
          0.9152032037858727,
          0.9121882591174716,
          0.9064427235839415,
          0.9033735044295945,
          0.9013070762837397,
          0.8981799507299418,
          0.894323596530867,
          0.8904459617016046,
          0.8890201074795044,
          0.8850334702262337,
          0.8820894919468942,
          0.8798554113425541,
          0.8772244895657932,
          0.874944997605034,
          0.8714851975266309,
          0.8679883777416374,
          0.8656297136716874,
          0.8604605881421824,
          0.8564359829591034,
          0.8535825551243985,
          0.851927523510003,
          0.8502447037104768,
          0.8472688472474903,
          0.8451140434650705,
          0.8424948883716867,
          0.8389753274803167,
          0.835407117687737,
          0.8313429749530397,
          0.8281260590742828,
          0.8267248305479306,
          0.8262513340814084,
          0.8243208403101898,
          0.8193936386346954,
          0.8168817022808182,
          0.812269446747238,
          0.8080824908361698,
          0.805408491859214,
          0.8032183939887609,
          0.7975857264292322,
          0.7941279848406659,
          0.7905985271302635,
          0.7875670910599792,
          0.784426871398656,
          0.779266168297349,
          0.7745919067908525,
          0.7725244906695248,
          0.7682046892305529,
          0.766687996853,
          0.7643167968627335,
          0.7634905084336928,
          0.7564537295541199,
          0.7471720887006945,
          0.7402992836797946,
          0.7317409104580629,
          0.7270047233353572,
          0.7163915156954249,
          0.7084668307872897,
          0.6947986604184033
         ]
        },
        {
         "mode": "lines",
         "name": "No",
         "type": "scatter",
         "x": [
          0,
          1,
          2,
          3,
          4,
          5,
          6,
          7,
          8,
          9,
          10,
          11,
          12,
          13,
          14,
          15,
          16,
          17,
          18,
          19,
          20,
          21,
          22,
          23,
          24,
          25,
          26,
          27,
          28,
          29,
          30,
          31,
          32,
          33,
          34,
          35,
          36,
          37,
          38,
          39,
          40,
          41,
          42,
          43,
          44,
          45,
          46,
          47,
          48,
          49,
          50,
          51,
          52,
          53,
          54,
          55,
          56,
          57,
          58,
          59,
          60,
          61,
          62,
          63,
          64,
          65,
          66,
          67,
          68,
          69,
          70,
          71,
          72
         ],
         "y": [
          1,
          0.9137125583951633,
          0.8835869522765011,
          0.8622049912636749,
          0.84329290767249,
          0.828671168602405,
          0.8202418061674818,
          0.8096708283997173,
          0.7998873058898869,
          0.7881900291585938,
          0.7772771703359425,
          0.7711625419714305,
          0.760492831228505,
          0.7514483178739542,
          0.746430943383784,
          0.7346822926484676,
          0.7271000202094018,
          0.7234523612451405,
          0.7172442460170642,
          0.7117138929932075,
          0.7078129033239393,
          0.7051635724318974,
          0.697954232394255,
          0.6938052310127832,
          0.6881568844916478,
          0.6809283457890042,
          0.676503540653913,
          0.6734607960932508,
          0.6703381030665433,
          0.6671711513985119,
          0.6633773268170423,
          0.6578214028068496,
          0.6544188783095725,
          0.6521023513067066,
          0.6491463116362323,
          0.6425100575209916,
          0.6387526887635588,
          0.6336477721700435,
          0.628421811162456,
          0.6230792240324886,
          0.6196405969682918,
          0.6153964832904267,
          0.6117202796865413,
          0.6057008919405481,
          0.6033831589356738,
          0.5994135328900443,
          0.5928715025174381,
          0.5894739580904037,
          0.5859651845303416,
          0.5805143456044779,
          0.5786447341854618,
          0.57572228603301,
          0.5716535772977942,
          0.5673473356608995,
          0.5594518459002107,
          0.5558732626641751,
          0.5497105879118012,
          0.5457934103257315,
          0.5416376229374644,
          0.5401970973445455,
          0.5356829154725856,
          0.5324752333440073,
          0.5274518820860449,
          0.5256393326630691,
          0.5196661584282612,
          0.5175098673144511,
          0.5103881718926926,
          0.5020211526813372,
          0.4987612750665235,
          0.48317498522069485,
          0.4691019273987326,
          0.4632381533062486,
          0.4632381533062486
         ]
        }
       ],
       "layout": {
        "font": {
         "color": "#646369"
        },
        "height": 500,
        "showlegend": true,
        "template": {
         "data": {
          "bar": [
           {
            "error_x": {
             "color": "#2a3f5f"
            },
            "error_y": {
             "color": "#2a3f5f"
            },
            "marker": {
             "line": {
              "color": "white",
              "width": 0.5
             },
             "pattern": {
              "fillmode": "overlay",
              "size": 10,
              "solidity": 0.2
             }
            },
            "type": "bar"
           }
          ],
          "barpolar": [
           {
            "marker": {
             "line": {
              "color": "white",
              "width": 0.5
             },
             "pattern": {
              "fillmode": "overlay",
              "size": 10,
              "solidity": 0.2
             }
            },
            "type": "barpolar"
           }
          ],
          "carpet": [
           {
            "aaxis": {
             "endlinecolor": "#2a3f5f",
             "gridcolor": "#C8D4E3",
             "linecolor": "#C8D4E3",
             "minorgridcolor": "#C8D4E3",
             "startlinecolor": "#2a3f5f"
            },
            "baxis": {
             "endlinecolor": "#2a3f5f",
             "gridcolor": "#C8D4E3",
             "linecolor": "#C8D4E3",
             "minorgridcolor": "#C8D4E3",
             "startlinecolor": "#2a3f5f"
            },
            "type": "carpet"
           }
          ],
          "choropleth": [
           {
            "colorbar": {
             "outlinewidth": 0,
             "ticks": ""
            },
            "type": "choropleth"
           }
          ],
          "contour": [
           {
            "colorbar": {
             "outlinewidth": 0,
             "ticks": ""
            },
            "colorscale": [
             [
              0,
              "#0d0887"
             ],
             [
              0.1111111111111111,
              "#46039f"
             ],
             [
              0.2222222222222222,
              "#7201a8"
             ],
             [
              0.3333333333333333,
              "#9c179e"
             ],
             [
              0.4444444444444444,
              "#bd3786"
             ],
             [
              0.5555555555555556,
              "#d8576b"
             ],
             [
              0.6666666666666666,
              "#ed7953"
             ],
             [
              0.7777777777777778,
              "#fb9f3a"
             ],
             [
              0.8888888888888888,
              "#fdca26"
             ],
             [
              1,
              "#f0f921"
             ]
            ],
            "type": "contour"
           }
          ],
          "contourcarpet": [
           {
            "colorbar": {
             "outlinewidth": 0,
             "ticks": ""
            },
            "type": "contourcarpet"
           }
          ],
          "heatmap": [
           {
            "colorbar": {
             "outlinewidth": 0,
             "ticks": ""
            },
            "colorscale": [
             [
              0,
              "#0d0887"
             ],
             [
              0.1111111111111111,
              "#46039f"
             ],
             [
              0.2222222222222222,
              "#7201a8"
             ],
             [
              0.3333333333333333,
              "#9c179e"
             ],
             [
              0.4444444444444444,
              "#bd3786"
             ],
             [
              0.5555555555555556,
              "#d8576b"
             ],
             [
              0.6666666666666666,
              "#ed7953"
             ],
             [
              0.7777777777777778,
              "#fb9f3a"
             ],
             [
              0.8888888888888888,
              "#fdca26"
             ],
             [
              1,
              "#f0f921"
             ]
            ],
            "type": "heatmap"
           }
          ],
          "heatmapgl": [
           {
            "colorbar": {
             "outlinewidth": 0,
             "ticks": ""
            },
            "colorscale": [
             [
              0,
              "#0d0887"
             ],
             [
              0.1111111111111111,
              "#46039f"
             ],
             [
              0.2222222222222222,
              "#7201a8"
             ],
             [
              0.3333333333333333,
              "#9c179e"
             ],
             [
              0.4444444444444444,
              "#bd3786"
             ],
             [
              0.5555555555555556,
              "#d8576b"
             ],
             [
              0.6666666666666666,
              "#ed7953"
             ],
             [
              0.7777777777777778,
              "#fb9f3a"
             ],
             [
              0.8888888888888888,
              "#fdca26"
             ],
             [
              1,
              "#f0f921"
             ]
            ],
            "type": "heatmapgl"
           }
          ],
          "histogram": [
           {
            "marker": {
             "pattern": {
              "fillmode": "overlay",
              "size": 10,
              "solidity": 0.2
             }
            },
            "type": "histogram"
           }
          ],
          "histogram2d": [
           {
            "colorbar": {
             "outlinewidth": 0,
             "ticks": ""
            },
            "colorscale": [
             [
              0,
              "#0d0887"
             ],
             [
              0.1111111111111111,
              "#46039f"
             ],
             [
              0.2222222222222222,
              "#7201a8"
             ],
             [
              0.3333333333333333,
              "#9c179e"
             ],
             [
              0.4444444444444444,
              "#bd3786"
             ],
             [
              0.5555555555555556,
              "#d8576b"
             ],
             [
              0.6666666666666666,
              "#ed7953"
             ],
             [
              0.7777777777777778,
              "#fb9f3a"
             ],
             [
              0.8888888888888888,
              "#fdca26"
             ],
             [
              1,
              "#f0f921"
             ]
            ],
            "type": "histogram2d"
           }
          ],
          "histogram2dcontour": [
           {
            "colorbar": {
             "outlinewidth": 0,
             "ticks": ""
            },
            "colorscale": [
             [
              0,
              "#0d0887"
             ],
             [
              0.1111111111111111,
              "#46039f"
             ],
             [
              0.2222222222222222,
              "#7201a8"
             ],
             [
              0.3333333333333333,
              "#9c179e"
             ],
             [
              0.4444444444444444,
              "#bd3786"
             ],
             [
              0.5555555555555556,
              "#d8576b"
             ],
             [
              0.6666666666666666,
              "#ed7953"
             ],
             [
              0.7777777777777778,
              "#fb9f3a"
             ],
             [
              0.8888888888888888,
              "#fdca26"
             ],
             [
              1,
              "#f0f921"
             ]
            ],
            "type": "histogram2dcontour"
           }
          ],
          "mesh3d": [
           {
            "colorbar": {
             "outlinewidth": 0,
             "ticks": ""
            },
            "type": "mesh3d"
           }
          ],
          "parcoords": [
           {
            "line": {
             "colorbar": {
              "outlinewidth": 0,
              "ticks": ""
             }
            },
            "type": "parcoords"
           }
          ],
          "pie": [
           {
            "automargin": true,
            "type": "pie"
           }
          ],
          "scatter": [
           {
            "fillpattern": {
             "fillmode": "overlay",
             "size": 10,
             "solidity": 0.2
            },
            "type": "scatter"
           }
          ],
          "scatter3d": [
           {
            "line": {
             "colorbar": {
              "outlinewidth": 0,
              "ticks": ""
             }
            },
            "marker": {
             "colorbar": {
              "outlinewidth": 0,
              "ticks": ""
             }
            },
            "type": "scatter3d"
           }
          ],
          "scattercarpet": [
           {
            "marker": {
             "colorbar": {
              "outlinewidth": 0,
              "ticks": ""
             }
            },
            "type": "scattercarpet"
           }
          ],
          "scattergeo": [
           {
            "marker": {
             "colorbar": {
              "outlinewidth": 0,
              "ticks": ""
             }
            },
            "type": "scattergeo"
           }
          ],
          "scattergl": [
           {
            "marker": {
             "colorbar": {
              "outlinewidth": 0,
              "ticks": ""
             }
            },
            "type": "scattergl"
           }
          ],
          "scattermapbox": [
           {
            "marker": {
             "colorbar": {
              "outlinewidth": 0,
              "ticks": ""
             }
            },
            "type": "scattermapbox"
           }
          ],
          "scatterpolar": [
           {
            "marker": {
             "colorbar": {
              "outlinewidth": 0,
              "ticks": ""
             }
            },
            "type": "scatterpolar"
           }
          ],
          "scatterpolargl": [
           {
            "marker": {
             "colorbar": {
              "outlinewidth": 0,
              "ticks": ""
             }
            },
            "type": "scatterpolargl"
           }
          ],
          "scatterternary": [
           {
            "marker": {
             "colorbar": {
              "outlinewidth": 0,
              "ticks": ""
             }
            },
            "type": "scatterternary"
           }
          ],
          "surface": [
           {
            "colorbar": {
             "outlinewidth": 0,
             "ticks": ""
            },
            "colorscale": [
             [
              0,
              "#0d0887"
             ],
             [
              0.1111111111111111,
              "#46039f"
             ],
             [
              0.2222222222222222,
              "#7201a8"
             ],
             [
              0.3333333333333333,
              "#9c179e"
             ],
             [
              0.4444444444444444,
              "#bd3786"
             ],
             [
              0.5555555555555556,
              "#d8576b"
             ],
             [
              0.6666666666666666,
              "#ed7953"
             ],
             [
              0.7777777777777778,
              "#fb9f3a"
             ],
             [
              0.8888888888888888,
              "#fdca26"
             ],
             [
              1,
              "#f0f921"
             ]
            ],
            "type": "surface"
           }
          ],
          "table": [
           {
            "cells": {
             "fill": {
              "color": "#EBF0F8"
             },
             "line": {
              "color": "white"
             }
            },
            "header": {
             "fill": {
              "color": "#C8D4E3"
             },
             "line": {
              "color": "white"
             }
            },
            "type": "table"
           }
          ]
         },
         "layout": {
          "annotationdefaults": {
           "arrowcolor": "#2a3f5f",
           "arrowhead": 0,
           "arrowwidth": 1
          },
          "autotypenumbers": "strict",
          "coloraxis": {
           "colorbar": {
            "outlinewidth": 0,
            "ticks": ""
           }
          },
          "colorscale": {
           "diverging": [
            [
             0,
             "#8e0152"
            ],
            [
             0.1,
             "#c51b7d"
            ],
            [
             0.2,
             "#de77ae"
            ],
            [
             0.3,
             "#f1b6da"
            ],
            [
             0.4,
             "#fde0ef"
            ],
            [
             0.5,
             "#f7f7f7"
            ],
            [
             0.6,
             "#e6f5d0"
            ],
            [
             0.7,
             "#b8e186"
            ],
            [
             0.8,
             "#7fbc41"
            ],
            [
             0.9,
             "#4d9221"
            ],
            [
             1,
             "#276419"
            ]
           ],
           "sequential": [
            [
             0,
             "#0d0887"
            ],
            [
             0.1111111111111111,
             "#46039f"
            ],
            [
             0.2222222222222222,
             "#7201a8"
            ],
            [
             0.3333333333333333,
             "#9c179e"
            ],
            [
             0.4444444444444444,
             "#bd3786"
            ],
            [
             0.5555555555555556,
             "#d8576b"
            ],
            [
             0.6666666666666666,
             "#ed7953"
            ],
            [
             0.7777777777777778,
             "#fb9f3a"
            ],
            [
             0.8888888888888888,
             "#fdca26"
            ],
            [
             1,
             "#f0f921"
            ]
           ],
           "sequentialminus": [
            [
             0,
             "#0d0887"
            ],
            [
             0.1111111111111111,
             "#46039f"
            ],
            [
             0.2222222222222222,
             "#7201a8"
            ],
            [
             0.3333333333333333,
             "#9c179e"
            ],
            [
             0.4444444444444444,
             "#bd3786"
            ],
            [
             0.5555555555555556,
             "#d8576b"
            ],
            [
             0.6666666666666666,
             "#ed7953"
            ],
            [
             0.7777777777777778,
             "#fb9f3a"
            ],
            [
             0.8888888888888888,
             "#fdca26"
            ],
            [
             1,
             "#f0f921"
            ]
           ]
          },
          "colorway": [
           "#636efa",
           "#EF553B",
           "#00cc96",
           "#ab63fa",
           "#FFA15A",
           "#19d3f3",
           "#FF6692",
           "#B6E880",
           "#FF97FF",
           "#FECB52"
          ],
          "font": {
           "color": "#2a3f5f"
          },
          "geo": {
           "bgcolor": "white",
           "lakecolor": "white",
           "landcolor": "white",
           "showlakes": true,
           "showland": true,
           "subunitcolor": "#C8D4E3"
          },
          "hoverlabel": {
           "align": "left"
          },
          "hovermode": "closest",
          "mapbox": {
           "style": "light"
          },
          "paper_bgcolor": "white",
          "plot_bgcolor": "white",
          "polar": {
           "angularaxis": {
            "gridcolor": "#EBF0F8",
            "linecolor": "#EBF0F8",
            "ticks": ""
           },
           "bgcolor": "white",
           "radialaxis": {
            "gridcolor": "#EBF0F8",
            "linecolor": "#EBF0F8",
            "ticks": ""
           }
          },
          "scene": {
           "xaxis": {
            "backgroundcolor": "white",
            "gridcolor": "#DFE8F3",
            "gridwidth": 2,
            "linecolor": "#EBF0F8",
            "showbackground": true,
            "ticks": "",
            "zerolinecolor": "#EBF0F8"
           },
           "yaxis": {
            "backgroundcolor": "white",
            "gridcolor": "#DFE8F3",
            "gridwidth": 2,
            "linecolor": "#EBF0F8",
            "showbackground": true,
            "ticks": "",
            "zerolinecolor": "#EBF0F8"
           },
           "zaxis": {
            "backgroundcolor": "white",
            "gridcolor": "#DFE8F3",
            "gridwidth": 2,
            "linecolor": "#EBF0F8",
            "showbackground": true,
            "ticks": "",
            "zerolinecolor": "#EBF0F8"
           }
          },
          "shapedefaults": {
           "line": {
            "color": "#2a3f5f"
           }
          },
          "ternary": {
           "aaxis": {
            "gridcolor": "#DFE8F3",
            "linecolor": "#A2B1C6",
            "ticks": ""
           },
           "baxis": {
            "gridcolor": "#DFE8F3",
            "linecolor": "#A2B1C6",
            "ticks": ""
           },
           "bgcolor": "white",
           "caxis": {
            "gridcolor": "#DFE8F3",
            "linecolor": "#A2B1C6",
            "ticks": ""
           }
          },
          "title": {
           "x": 0.05
          },
          "xaxis": {
           "automargin": true,
           "gridcolor": "#EBF0F8",
           "linecolor": "#EBF0F8",
           "ticks": "",
           "title": {
            "standoff": 15
           },
           "zerolinecolor": "#EBF0F8",
           "zerolinewidth": 2
          },
          "yaxis": {
           "automargin": true,
           "gridcolor": "#EBF0F8",
           "linecolor": "#EBF0F8",
           "ticks": "",
           "title": {
            "standoff": 15
           },
           "zerolinecolor": "#EBF0F8",
           "zerolinewidth": 2
          }
         }
        },
        "title": {
         "font": {
          "family": "Arial",
          "size": 20
         },
         "text": "<b>Probabilidade de Sobrevivência dado o tempo de relacionamento<br>com a empresa</b><br><sup><i>Análise de probabilidade dos coeficiente de Keplen-Meier para pessoas com parceiros</i></sup>",
         "x": 0.1
        },
        "width": 910,
        "xaxis": {
         "showgrid": false,
         "title": {
          "text": "Tempo em meses"
         }
        },
        "yaxis": {
         "showgrid": true,
         "showticklabels": true,
         "title": {
          "text": "Probabilidade de Sobrevivência"
         }
        }
       }
      }
     },
     "metadata": {},
     "output_type": "display_data"
    }
   ],
   "source": [
    "# Inicializando o método\n",
    "kmf = KaplanMeierFitter()\n",
    "\n",
    "# Initializando a figure\n",
    "fig = go.Figure()\n",
    "\n",
    "# Ajustando os dados\n",
    "for resposta in data['Partner'].unique():\n",
    "    data_partner = data.query(f\"Partner == '{resposta}'\")\n",
    "    kmf.fit(data_partner['tenure'], data_partner['Churn'], label=resposta)\n",
    "    fig.add_trace(go.Scatter(x=kmf.survival_function_.index,\n",
    "                                y=kmf.survival_function_[f'{resposta}'],\n",
    "                                mode='lines',\n",
    "                                name=resposta))\n",
    "    \n",
    "# Atualizando o layout da figure\n",
    "fig.update_layout(\n",
    "    title='<b>Probabilidade de Sobrevivência dado o tempo de relacionamento<br>com a empresa</b><br><sup><i>Análise de probabilidade dos coeficiente de Keplen-Meier para pessoas com parceiros</i></sup>',\n",
    "    title_font=dict(size=20, family=\"Arial\"),\n",
    "    font_color='#646369',\n",
    "    template='plotly_white',\n",
    "    yaxis=dict(showticklabels=True, showgrid=True, title='Probabilidade de Sobrevivência'),\n",
    "    xaxis=dict(showgrid=False, title='Tempo em meses'),\n",
    "    title_x=0.1,\n",
    "    width=910,\n",
    "    height=500,\n",
    "    showlegend=True\n",
    ")"
   ]
  },
  {
   "cell_type": "code",
   "execution_count": 55,
   "metadata": {},
   "outputs": [
    {
     "name": "stdout",
     "output_type": "stream",
     "text": [
      "Com um p valor de 4.132951134427116e-94, podemos rejeitar a hipótese nula de que os grupos são significativamente iguais\n"
     ]
    }
   ],
   "source": [
    "# Dividindo os dados por gênero \n",
    "data_partner_yes = data.query(\"Partner == 'Yes'\")\n",
    "data_partner_no = data.query(\"Partner == 'No'\")\n",
    "\n",
    "# Aplicando o teste\n",
    "resultados = logrank_test(data_partner_yes['tenure'], data_partner_no['tenure'], data_partner_yes['Churn'], data_partner_no['Churn'])\n",
    "\n",
    "if resultados.p_value < 0.05:\n",
    "    print(f\"Com um p valor de {resultados.p_value}, podemos rejeitar a hipótese nula de que os grupos são significativamente iguais\")\n",
    "    \n",
    "else:\n",
    "    print(f\"Com um p valor de {resultados.p_value}, não podemos rejeitar a hipótese nula de que os grupos são significativamente iguais\")"
   ]
  },
  {
   "cell_type": "markdown",
   "metadata": {},
   "source": [
    "A probabilidade de sobrevivência para pessoas que possuem parceiros é maior do\n",
    "que para pessoas que não possuem parceiros. A diferença é de aproximadamente\n",
    "20% durante boa parte do período.\n",
    "\n",
    "Com 95% de confiança, podemos dizer que as curvas de churn para os grupos de\n",
    "parceiros são significativamente diferentes."
   ]
  },
  {
   "cell_type": "code",
   "execution_count": 56,
   "metadata": {},
   "outputs": [
    {
     "data": {
      "application/vnd.plotly.v1+json": {
       "config": {
        "plotlyServerURL": "https://plot.ly"
       },
       "data": [
        {
         "mode": "lines",
         "name": "No",
         "type": "scatter",
         "x": [
          0,
          1,
          2,
          3,
          4,
          5,
          6,
          7,
          8,
          9,
          10,
          11,
          12,
          13,
          14,
          15,
          16,
          17,
          18,
          19,
          20,
          21,
          22,
          23,
          24,
          25,
          26,
          27,
          28,
          29,
          30,
          31,
          32,
          33,
          34,
          35,
          36,
          37,
          38,
          39,
          40,
          41,
          42,
          43,
          44,
          45,
          46,
          47,
          48,
          49,
          50,
          51,
          52,
          53,
          54,
          55,
          56,
          57,
          58,
          59,
          60,
          61,
          62,
          63,
          64,
          65,
          66,
          67,
          68,
          69,
          70,
          71,
          72
         ],
         "y": [
          1,
          0.9347253192783312,
          0.9108501020363673,
          0.8931259187504195,
          0.8792191137871765,
          0.8664018530491023,
          0.8586559516545014,
          0.8482745658875879,
          0.8398410159367581,
          0.8303351753489059,
          0.8204358609582978,
          0.814064495251931,
          0.8066074159061123,
          0.7982658161803513,
          0.7933952155035926,
          0.7848417878291015,
          0.7780125085508028,
          0.7745593973827722,
          0.7691598895585633,
          0.765033495301275,
          0.7611373625496499,
          0.7577469956786048,
          0.7520238310586761,
          0.749116897038349,
          0.7426233699560622,
          0.7372137298673491,
          0.7338585991149533,
          0.7301207794250637,
          0.727585637829838,
          0.7237393701408698,
          0.7194936066878775,
          0.7165040210645205,
          0.7110989930885506,
          0.7080132211802591,
          0.7048773358502284,
          0.700279540884823,
          0.697020742607696,
          0.6918766780866065,
          0.6881347815042016,
          0.6843329318826312,
          0.6804797059148234,
          0.6765508392524976,
          0.671735530788067,
          0.6664075491527744,
          0.663900686898908,
          0.6617728000819246,
          0.6574218940984798,
          0.6525024105371984,
          0.6497550319665157,
          0.6464734408959779,
          0.6435873987491205,
          0.6406192785396704,
          0.6370461032808832,
          0.630167698511239,
          0.6236318191835513,
          0.6191290623663412,
          0.6139165632444543,
          0.6096909821798413,
          0.6034055081367506,
          0.5982037365148817,
          0.5948316748659818,
          0.5912698085494191,
          0.5890216343724254,
          0.5866624021920284,
          0.5833100456080738,
          0.5788091964907275,
          0.569130112937371,
          0.5638895041626256,
          0.5569279053458032,
          0.5491568182944665,
          0.5375036232112945,
          0.5304543953659002,
          0.5198453074585823
         ]
        },
        {
         "mode": "lines",
         "name": "Yes",
         "type": "scatter",
         "x": [
          0,
          1,
          2,
          3,
          4,
          5,
          6,
          7,
          8,
          9,
          10,
          11,
          12,
          13,
          14,
          15,
          16,
          17,
          18,
          19,
          20,
          21,
          22,
          23,
          24,
          25,
          26,
          27,
          28,
          29,
          30,
          31,
          32,
          33,
          34,
          35,
          36,
          37,
          38,
          39,
          40,
          41,
          42,
          43,
          44,
          45,
          46,
          47,
          48,
          49,
          50,
          51,
          52,
          53,
          54,
          55,
          56,
          57,
          58,
          59,
          60,
          61,
          62,
          63,
          64,
          65,
          66,
          67,
          68,
          69,
          70,
          71,
          72
         ],
         "y": [
          1,
          0.9723677941877085,
          0.9674937701566925,
          0.9615914187373324,
          0.9516524893446988,
          0.9481371503339265,
          0.9450933713601419,
          0.9420115451491853,
          0.9388888549442708,
          0.93571335712597,
          0.9335745837382536,
          0.930868570452056,
          0.926485434157991,
          0.9237048656281056,
          0.9208783513513984,
          0.91859187499795,
          0.9174327685310758,
          0.9098070485880426,
          0.9074393009014114,
          0.905040254501143,
          0.9026057144755849,
          0.8995377140864772,
          0.8952070648439702,
          0.8933224183916674,
          0.8926792777016804,
          0.889402187842276,
          0.8867412987238243,
          0.8860690157073545,
          0.8833405506859304,
          0.8812637312093957,
          0.8791621483845721,
          0.8741830747286723,
          0.8720263730640463,
          0.8683746713342977,
          0.8661518692745682,
          0.8646402604276671,
          0.8638661867835955,
          0.8630836992955666,
          0.8607016835661394,
          0.8574750605724516,
          0.855013409680856,
          0.8516767719845407,
          0.8499751200924635,
          0.8482457709162832,
          0.8482457709162832,
          0.8473491051964982,
          0.8455150162242117,
          0.8426997608982707,
          0.8398203767494158,
          0.8319439840014728,
          0.8279297790123219,
          0.8258702521988578,
          0.8248141521321073,
          0.8237187814121446,
          0.8225903995197992,
          0.8214334509972676,
          0.8202360261415862,
          0.8189894668313402,
          0.8177097957894162,
          0.8177097957894162,
          0.8163377994877562,
          0.8120563075324009,
          0.8090597897924283,
          0.80747959489049,
          0.80747959489049,
          0.8004732643491403,
          0.7949527590777665,
          0.7850406299122082,
          0.7784986246629395,
          0.7735714181777307,
          0.7651016581246898,
          0.7583606743526665,
          0.7489981968915226
         ]
        }
       ],
       "layout": {
        "font": {
         "color": "#646369"
        },
        "height": 500,
        "showlegend": true,
        "template": {
         "data": {
          "bar": [
           {
            "error_x": {
             "color": "#2a3f5f"
            },
            "error_y": {
             "color": "#2a3f5f"
            },
            "marker": {
             "line": {
              "color": "white",
              "width": 0.5
             },
             "pattern": {
              "fillmode": "overlay",
              "size": 10,
              "solidity": 0.2
             }
            },
            "type": "bar"
           }
          ],
          "barpolar": [
           {
            "marker": {
             "line": {
              "color": "white",
              "width": 0.5
             },
             "pattern": {
              "fillmode": "overlay",
              "size": 10,
              "solidity": 0.2
             }
            },
            "type": "barpolar"
           }
          ],
          "carpet": [
           {
            "aaxis": {
             "endlinecolor": "#2a3f5f",
             "gridcolor": "#C8D4E3",
             "linecolor": "#C8D4E3",
             "minorgridcolor": "#C8D4E3",
             "startlinecolor": "#2a3f5f"
            },
            "baxis": {
             "endlinecolor": "#2a3f5f",
             "gridcolor": "#C8D4E3",
             "linecolor": "#C8D4E3",
             "minorgridcolor": "#C8D4E3",
             "startlinecolor": "#2a3f5f"
            },
            "type": "carpet"
           }
          ],
          "choropleth": [
           {
            "colorbar": {
             "outlinewidth": 0,
             "ticks": ""
            },
            "type": "choropleth"
           }
          ],
          "contour": [
           {
            "colorbar": {
             "outlinewidth": 0,
             "ticks": ""
            },
            "colorscale": [
             [
              0,
              "#0d0887"
             ],
             [
              0.1111111111111111,
              "#46039f"
             ],
             [
              0.2222222222222222,
              "#7201a8"
             ],
             [
              0.3333333333333333,
              "#9c179e"
             ],
             [
              0.4444444444444444,
              "#bd3786"
             ],
             [
              0.5555555555555556,
              "#d8576b"
             ],
             [
              0.6666666666666666,
              "#ed7953"
             ],
             [
              0.7777777777777778,
              "#fb9f3a"
             ],
             [
              0.8888888888888888,
              "#fdca26"
             ],
             [
              1,
              "#f0f921"
             ]
            ],
            "type": "contour"
           }
          ],
          "contourcarpet": [
           {
            "colorbar": {
             "outlinewidth": 0,
             "ticks": ""
            },
            "type": "contourcarpet"
           }
          ],
          "heatmap": [
           {
            "colorbar": {
             "outlinewidth": 0,
             "ticks": ""
            },
            "colorscale": [
             [
              0,
              "#0d0887"
             ],
             [
              0.1111111111111111,
              "#46039f"
             ],
             [
              0.2222222222222222,
              "#7201a8"
             ],
             [
              0.3333333333333333,
              "#9c179e"
             ],
             [
              0.4444444444444444,
              "#bd3786"
             ],
             [
              0.5555555555555556,
              "#d8576b"
             ],
             [
              0.6666666666666666,
              "#ed7953"
             ],
             [
              0.7777777777777778,
              "#fb9f3a"
             ],
             [
              0.8888888888888888,
              "#fdca26"
             ],
             [
              1,
              "#f0f921"
             ]
            ],
            "type": "heatmap"
           }
          ],
          "heatmapgl": [
           {
            "colorbar": {
             "outlinewidth": 0,
             "ticks": ""
            },
            "colorscale": [
             [
              0,
              "#0d0887"
             ],
             [
              0.1111111111111111,
              "#46039f"
             ],
             [
              0.2222222222222222,
              "#7201a8"
             ],
             [
              0.3333333333333333,
              "#9c179e"
             ],
             [
              0.4444444444444444,
              "#bd3786"
             ],
             [
              0.5555555555555556,
              "#d8576b"
             ],
             [
              0.6666666666666666,
              "#ed7953"
             ],
             [
              0.7777777777777778,
              "#fb9f3a"
             ],
             [
              0.8888888888888888,
              "#fdca26"
             ],
             [
              1,
              "#f0f921"
             ]
            ],
            "type": "heatmapgl"
           }
          ],
          "histogram": [
           {
            "marker": {
             "pattern": {
              "fillmode": "overlay",
              "size": 10,
              "solidity": 0.2
             }
            },
            "type": "histogram"
           }
          ],
          "histogram2d": [
           {
            "colorbar": {
             "outlinewidth": 0,
             "ticks": ""
            },
            "colorscale": [
             [
              0,
              "#0d0887"
             ],
             [
              0.1111111111111111,
              "#46039f"
             ],
             [
              0.2222222222222222,
              "#7201a8"
             ],
             [
              0.3333333333333333,
              "#9c179e"
             ],
             [
              0.4444444444444444,
              "#bd3786"
             ],
             [
              0.5555555555555556,
              "#d8576b"
             ],
             [
              0.6666666666666666,
              "#ed7953"
             ],
             [
              0.7777777777777778,
              "#fb9f3a"
             ],
             [
              0.8888888888888888,
              "#fdca26"
             ],
             [
              1,
              "#f0f921"
             ]
            ],
            "type": "histogram2d"
           }
          ],
          "histogram2dcontour": [
           {
            "colorbar": {
             "outlinewidth": 0,
             "ticks": ""
            },
            "colorscale": [
             [
              0,
              "#0d0887"
             ],
             [
              0.1111111111111111,
              "#46039f"
             ],
             [
              0.2222222222222222,
              "#7201a8"
             ],
             [
              0.3333333333333333,
              "#9c179e"
             ],
             [
              0.4444444444444444,
              "#bd3786"
             ],
             [
              0.5555555555555556,
              "#d8576b"
             ],
             [
              0.6666666666666666,
              "#ed7953"
             ],
             [
              0.7777777777777778,
              "#fb9f3a"
             ],
             [
              0.8888888888888888,
              "#fdca26"
             ],
             [
              1,
              "#f0f921"
             ]
            ],
            "type": "histogram2dcontour"
           }
          ],
          "mesh3d": [
           {
            "colorbar": {
             "outlinewidth": 0,
             "ticks": ""
            },
            "type": "mesh3d"
           }
          ],
          "parcoords": [
           {
            "line": {
             "colorbar": {
              "outlinewidth": 0,
              "ticks": ""
             }
            },
            "type": "parcoords"
           }
          ],
          "pie": [
           {
            "automargin": true,
            "type": "pie"
           }
          ],
          "scatter": [
           {
            "fillpattern": {
             "fillmode": "overlay",
             "size": 10,
             "solidity": 0.2
            },
            "type": "scatter"
           }
          ],
          "scatter3d": [
           {
            "line": {
             "colorbar": {
              "outlinewidth": 0,
              "ticks": ""
             }
            },
            "marker": {
             "colorbar": {
              "outlinewidth": 0,
              "ticks": ""
             }
            },
            "type": "scatter3d"
           }
          ],
          "scattercarpet": [
           {
            "marker": {
             "colorbar": {
              "outlinewidth": 0,
              "ticks": ""
             }
            },
            "type": "scattercarpet"
           }
          ],
          "scattergeo": [
           {
            "marker": {
             "colorbar": {
              "outlinewidth": 0,
              "ticks": ""
             }
            },
            "type": "scattergeo"
           }
          ],
          "scattergl": [
           {
            "marker": {
             "colorbar": {
              "outlinewidth": 0,
              "ticks": ""
             }
            },
            "type": "scattergl"
           }
          ],
          "scattermapbox": [
           {
            "marker": {
             "colorbar": {
              "outlinewidth": 0,
              "ticks": ""
             }
            },
            "type": "scattermapbox"
           }
          ],
          "scatterpolar": [
           {
            "marker": {
             "colorbar": {
              "outlinewidth": 0,
              "ticks": ""
             }
            },
            "type": "scatterpolar"
           }
          ],
          "scatterpolargl": [
           {
            "marker": {
             "colorbar": {
              "outlinewidth": 0,
              "ticks": ""
             }
            },
            "type": "scatterpolargl"
           }
          ],
          "scatterternary": [
           {
            "marker": {
             "colorbar": {
              "outlinewidth": 0,
              "ticks": ""
             }
            },
            "type": "scatterternary"
           }
          ],
          "surface": [
           {
            "colorbar": {
             "outlinewidth": 0,
             "ticks": ""
            },
            "colorscale": [
             [
              0,
              "#0d0887"
             ],
             [
              0.1111111111111111,
              "#46039f"
             ],
             [
              0.2222222222222222,
              "#7201a8"
             ],
             [
              0.3333333333333333,
              "#9c179e"
             ],
             [
              0.4444444444444444,
              "#bd3786"
             ],
             [
              0.5555555555555556,
              "#d8576b"
             ],
             [
              0.6666666666666666,
              "#ed7953"
             ],
             [
              0.7777777777777778,
              "#fb9f3a"
             ],
             [
              0.8888888888888888,
              "#fdca26"
             ],
             [
              1,
              "#f0f921"
             ]
            ],
            "type": "surface"
           }
          ],
          "table": [
           {
            "cells": {
             "fill": {
              "color": "#EBF0F8"
             },
             "line": {
              "color": "white"
             }
            },
            "header": {
             "fill": {
              "color": "#C8D4E3"
             },
             "line": {
              "color": "white"
             }
            },
            "type": "table"
           }
          ]
         },
         "layout": {
          "annotationdefaults": {
           "arrowcolor": "#2a3f5f",
           "arrowhead": 0,
           "arrowwidth": 1
          },
          "autotypenumbers": "strict",
          "coloraxis": {
           "colorbar": {
            "outlinewidth": 0,
            "ticks": ""
           }
          },
          "colorscale": {
           "diverging": [
            [
             0,
             "#8e0152"
            ],
            [
             0.1,
             "#c51b7d"
            ],
            [
             0.2,
             "#de77ae"
            ],
            [
             0.3,
             "#f1b6da"
            ],
            [
             0.4,
             "#fde0ef"
            ],
            [
             0.5,
             "#f7f7f7"
            ],
            [
             0.6,
             "#e6f5d0"
            ],
            [
             0.7,
             "#b8e186"
            ],
            [
             0.8,
             "#7fbc41"
            ],
            [
             0.9,
             "#4d9221"
            ],
            [
             1,
             "#276419"
            ]
           ],
           "sequential": [
            [
             0,
             "#0d0887"
            ],
            [
             0.1111111111111111,
             "#46039f"
            ],
            [
             0.2222222222222222,
             "#7201a8"
            ],
            [
             0.3333333333333333,
             "#9c179e"
            ],
            [
             0.4444444444444444,
             "#bd3786"
            ],
            [
             0.5555555555555556,
             "#d8576b"
            ],
            [
             0.6666666666666666,
             "#ed7953"
            ],
            [
             0.7777777777777778,
             "#fb9f3a"
            ],
            [
             0.8888888888888888,
             "#fdca26"
            ],
            [
             1,
             "#f0f921"
            ]
           ],
           "sequentialminus": [
            [
             0,
             "#0d0887"
            ],
            [
             0.1111111111111111,
             "#46039f"
            ],
            [
             0.2222222222222222,
             "#7201a8"
            ],
            [
             0.3333333333333333,
             "#9c179e"
            ],
            [
             0.4444444444444444,
             "#bd3786"
            ],
            [
             0.5555555555555556,
             "#d8576b"
            ],
            [
             0.6666666666666666,
             "#ed7953"
            ],
            [
             0.7777777777777778,
             "#fb9f3a"
            ],
            [
             0.8888888888888888,
             "#fdca26"
            ],
            [
             1,
             "#f0f921"
            ]
           ]
          },
          "colorway": [
           "#636efa",
           "#EF553B",
           "#00cc96",
           "#ab63fa",
           "#FFA15A",
           "#19d3f3",
           "#FF6692",
           "#B6E880",
           "#FF97FF",
           "#FECB52"
          ],
          "font": {
           "color": "#2a3f5f"
          },
          "geo": {
           "bgcolor": "white",
           "lakecolor": "white",
           "landcolor": "white",
           "showlakes": true,
           "showland": true,
           "subunitcolor": "#C8D4E3"
          },
          "hoverlabel": {
           "align": "left"
          },
          "hovermode": "closest",
          "mapbox": {
           "style": "light"
          },
          "paper_bgcolor": "white",
          "plot_bgcolor": "white",
          "polar": {
           "angularaxis": {
            "gridcolor": "#EBF0F8",
            "linecolor": "#EBF0F8",
            "ticks": ""
           },
           "bgcolor": "white",
           "radialaxis": {
            "gridcolor": "#EBF0F8",
            "linecolor": "#EBF0F8",
            "ticks": ""
           }
          },
          "scene": {
           "xaxis": {
            "backgroundcolor": "white",
            "gridcolor": "#DFE8F3",
            "gridwidth": 2,
            "linecolor": "#EBF0F8",
            "showbackground": true,
            "ticks": "",
            "zerolinecolor": "#EBF0F8"
           },
           "yaxis": {
            "backgroundcolor": "white",
            "gridcolor": "#DFE8F3",
            "gridwidth": 2,
            "linecolor": "#EBF0F8",
            "showbackground": true,
            "ticks": "",
            "zerolinecolor": "#EBF0F8"
           },
           "zaxis": {
            "backgroundcolor": "white",
            "gridcolor": "#DFE8F3",
            "gridwidth": 2,
            "linecolor": "#EBF0F8",
            "showbackground": true,
            "ticks": "",
            "zerolinecolor": "#EBF0F8"
           }
          },
          "shapedefaults": {
           "line": {
            "color": "#2a3f5f"
           }
          },
          "ternary": {
           "aaxis": {
            "gridcolor": "#DFE8F3",
            "linecolor": "#A2B1C6",
            "ticks": ""
           },
           "baxis": {
            "gridcolor": "#DFE8F3",
            "linecolor": "#A2B1C6",
            "ticks": ""
           },
           "bgcolor": "white",
           "caxis": {
            "gridcolor": "#DFE8F3",
            "linecolor": "#A2B1C6",
            "ticks": ""
           }
          },
          "title": {
           "x": 0.05
          },
          "xaxis": {
           "automargin": true,
           "gridcolor": "#EBF0F8",
           "linecolor": "#EBF0F8",
           "ticks": "",
           "title": {
            "standoff": 15
           },
           "zerolinecolor": "#EBF0F8",
           "zerolinewidth": 2
          },
          "yaxis": {
           "automargin": true,
           "gridcolor": "#EBF0F8",
           "linecolor": "#EBF0F8",
           "ticks": "",
           "title": {
            "standoff": 15
           },
           "zerolinecolor": "#EBF0F8",
           "zerolinewidth": 2
          }
         }
        },
        "title": {
         "font": {
          "family": "Arial",
          "size": 20
         },
         "text": "<b>Probabilidade de Sobrevivência dado o tempo de relacionamento<br>com a empresa</b><br><sup><i>Análise de probabilidade dos coeficiente de Keplen-Meier para pessoas com dependentes</i></sup>",
         "x": 0.1
        },
        "width": 910,
        "xaxis": {
         "showgrid": false,
         "title": {
          "text": "Tempo em meses"
         }
        },
        "yaxis": {
         "showgrid": true,
         "showticklabels": true,
         "title": {
          "text": "Probabilidade de Sobrevivência"
         }
        }
       }
      }
     },
     "metadata": {},
     "output_type": "display_data"
    }
   ],
   "source": [
    "# Inicializando o método\n",
    "kmf = KaplanMeierFitter()\n",
    "\n",
    "# Initializando a figure\n",
    "fig = go.Figure()\n",
    "\n",
    "# Ajustando os dados\n",
    "for resposta in data['Dependents'].unique():\n",
    "    data_dependents = data.query(f\"Dependents == '{resposta}'\")\n",
    "    kmf.fit(data_dependents['tenure'], data_dependents['Churn'], label=resposta)\n",
    "    fig.add_trace(go.Scatter(x=kmf.survival_function_.index,\n",
    "                                y=kmf.survival_function_[f'{resposta}'],\n",
    "                                mode='lines',\n",
    "                                name=resposta))\n",
    "    \n",
    "# Atualizando o layout da figure\n",
    "fig.update_layout(\n",
    "    title='<b>Probabilidade de Sobrevivência dado o tempo de relacionamento<br>com a empresa</b><br><sup><i>Análise de probabilidade dos coeficiente de Keplen-Meier para pessoas com dependentes</i></sup>',\n",
    "    title_font=dict(size=20, family=\"Arial\"),\n",
    "    font_color='#646369',\n",
    "    template='plotly_white',\n",
    "    yaxis=dict(showticklabels=True, showgrid=True, title='Probabilidade de Sobrevivência'),\n",
    "    xaxis=dict(showgrid=False, title='Tempo em meses'),\n",
    "    title_x=0.1,\n",
    "    width=910,\n",
    "    height=500,\n",
    "    showlegend=True\n",
    ")"
   ]
  },
  {
   "cell_type": "code",
   "execution_count": 57,
   "metadata": {},
   "outputs": [
    {
     "name": "stdout",
     "output_type": "stream",
     "text": [
      "Com um p valor de 1.5372382701499682e-52, podemos rejeitar a hipótese nula de que os grupos são significativamente iguais\n"
     ]
    }
   ],
   "source": [
    "# Dividindo os dados por gênero \n",
    "data_dependents_yes = data.query(\"Dependents == 'Yes'\")\n",
    "data_dependents_no = data.query(\"Dependents == 'No'\")\n",
    "\n",
    "# Aplicando o teste\n",
    "resultados = logrank_test(data_dependents_yes['tenure'], data_dependents_no['tenure'], data_dependents_yes['Churn'], data_dependents_no['Churn'])\n",
    "\n",
    "if resultados.p_value < 0.05:\n",
    "    print(f\"Com um p valor de {resultados.p_value}, podemos rejeitar a hipótese nula de que os grupos são significativamente iguais\")\n",
    "    \n",
    "else:\n",
    "    print(f\"Com um p valor de {resultados.p_value}, não podemos rejeitar a hipótese nula de que os grupos são significativamente iguais\")"
   ]
  },
  {
   "cell_type": "markdown",
   "metadata": {},
   "source": [
    "A probabilidade de sobvrevivência de pessoas com dependentes é maior\n",
    "do que para pessoas sem dependentes. A diferença durante o último mês do período\n",
    "chegou a pouco menos de 25%.\n",
    "\n",
    "Com 95% de confiança, podemos dizer que as curvas de churn para os grupos de\n",
    "dependentes são significativamente diferentes.\n",
    "\n",
    "Por fim, vamos analisar como a probabilidade de sobrevivência varia de acordo\n",
    "com o tipo de contrato."
   ]
  },
  {
   "cell_type": "code",
   "execution_count": 58,
   "metadata": {},
   "outputs": [
    {
     "data": {
      "application/vnd.plotly.v1+json": {
       "config": {
        "plotlyServerURL": "https://plot.ly"
       },
       "data": [
        {
         "mode": "lines",
         "name": "Month-to-month",
         "type": "scatter",
         "x": [
          0,
          1,
          2,
          3,
          4,
          5,
          6,
          7,
          8,
          9,
          10,
          11,
          12,
          13,
          14,
          15,
          16,
          17,
          18,
          19,
          20,
          21,
          22,
          23,
          24,
          25,
          26,
          27,
          28,
          29,
          30,
          31,
          32,
          33,
          34,
          35,
          36,
          37,
          38,
          39,
          40,
          41,
          42,
          43,
          44,
          45,
          46,
          47,
          48,
          49,
          50,
          51,
          52,
          53,
          54,
          55,
          56,
          57,
          58,
          59,
          60,
          61,
          62,
          63,
          64,
          65,
          66,
          67,
          68,
          69,
          70,
          71,
          72
         ],
         "y": [
          1,
          0.9019354838709666,
          0.8685713158647337,
          0.8417230081727618,
          0.8175050128498966,
          0.7983233309841447,
          0.785834894050486,
          0.7698756151298832,
          0.7564380245720603,
          0.7412958043292921,
          0.7257296301833199,
          0.7150936316950446,
          0.7030966363488644,
          0.6892664526460954,
          0.6804493623174744,
          0.665996649110961,
          0.6547832358968263,
          0.6449430369854148,
          0.6357295650284802,
          0.6287769518771092,
          0.6207557008963952,
          0.6138939945489775,
          0.6031403297548981,
          0.5973455467628572,
          0.5859154739046657,
          0.5766965241404312,
          0.5687965717549459,
          0.5617273983010128,
          0.5561380709547341,
          0.5475468546166075,
          0.5386484766975943,
          0.530079069113769,
          0.5187202319184738,
          0.5134938315968774,
          0.5060909061085871,
          0.49769105704454397,
          0.49110396952483665,
          0.48065494889664834,
          0.4737112979495056,
          0.4665579394234225,
          0.45763248319097405,
          0.4491734724111041,
          0.43864596915146875,
          0.42861456445153917,
          0.4248215152086053,
          0.4218713657974346,
          0.41466868394235656,
          0.4006304212047246,
          0.3972637790097269,
          0.3856478790386823,
          0.3757910642389718,
          0.36812185884633986,
          0.36145298459187736,
          0.35284696114921343,
          0.3453713899384251,
          0.33590916007709815,
          0.3307413268451428,
          0.3213452664234057,
          0.313105644207421,
          0.3043474443694512,
          0.2971581346599367,
          0.28890374203049385,
          0.2858302979663395,
          0.27910487919066074,
          0.27910487919066074,
          0.26109811279126316,
          0.23271788314003883,
          0.2260688007646091,
          0.20095004512409692,
          0.16548827245513859,
          0.15044388405012593,
          0.12895190061439363,
          0.12895190061439363
         ]
        },
        {
         "mode": "lines",
         "name": "One year",
         "type": "scatter",
         "x": [
          0,
          1,
          2,
          3,
          4,
          5,
          6,
          7,
          8,
          9,
          10,
          11,
          12,
          13,
          14,
          15,
          16,
          17,
          18,
          19,
          20,
          21,
          22,
          23,
          24,
          25,
          26,
          27,
          28,
          29,
          30,
          31,
          32,
          33,
          34,
          35,
          36,
          37,
          38,
          39,
          40,
          41,
          42,
          43,
          44,
          45,
          46,
          47,
          48,
          49,
          50,
          51,
          52,
          53,
          54,
          55,
          56,
          57,
          58,
          59,
          60,
          61,
          62,
          63,
          64,
          65,
          66,
          67,
          68,
          69,
          70,
          71,
          72
         ],
         "y": [
          1,
          1,
          0.99863481228669,
          0.99863481228669,
          0.9979470472644542,
          0.9972564264704998,
          0.9972564264704998,
          0.9965609896319573,
          0.9958591861181324,
          0.9951534035624143,
          0.9951534035624143,
          0.9944348812493725,
          0.9908082040748674,
          0.9900737280155089,
          0.989331543811599,
          0.989331543811599,
          0.989331543811599,
          0.9878083235747835,
          0.9862563859100949,
          0.9839062912653527,
          0.9839062912653527,
          0.9823103362105828,
          0.9790896465836628,
          0.9782723764279165,
          0.9782723764279165,
          0.9748755973430975,
          0.9748755973430975,
          0.9748755973430975,
          0.9730785916337098,
          0.9730785916337098,
          0.972146524017203,
          0.970249652750828,
          0.9692880574557328,
          0.9643926632261585,
          0.9633953595413328,
          0.9603498526091688,
          0.9593071274706133,
          0.9582435940698701,
          0.9539027397365978,
          0.9494762769071939,
          0.9472156191050338,
          0.9425894133951197,
          0.9402061278998098,
          0.9365429871417588,
          0.9340355092645386,
          0.9301651963808455,
          0.9248801668559543,
          0.9235220461997781,
          0.9165468041589938,
          0.9107641744797575,
          0.9092759977240711,
          0.9061459598661569,
          0.9028267438959507,
          0.8906498899320363,
          0.8777419205127314,
          0.8739256512931108,
          0.8619540670288218,
          0.8598099026829791,
          0.846410267835972,
          0.8392975765096194,
          0.8318260847306017,
          0.826510902080566,
          0.8148287691889676,
          0.8084876892731003,
          0.80163609868604,
          0.7900181842123293,
          0.7691182322490403,
          0.7391525868367401,
          0.7145141672755154,
          0.6919505619931309,
          0.6438984396324966,
          0.6438984396324966,
          0.5681456820286734
         ]
        },
        {
         "mode": "lines",
         "name": "Two year",
         "type": "scatter",
         "x": [
          0,
          1,
          2,
          3,
          4,
          5,
          6,
          7,
          8,
          9,
          10,
          11,
          12,
          13,
          14,
          15,
          16,
          17,
          18,
          19,
          20,
          21,
          22,
          23,
          24,
          25,
          26,
          27,
          28,
          29,
          30,
          31,
          32,
          33,
          34,
          35,
          36,
          37,
          38,
          39,
          40,
          41,
          42,
          43,
          44,
          45,
          46,
          47,
          48,
          49,
          50,
          51,
          52,
          53,
          54,
          55,
          56,
          57,
          58,
          59,
          60,
          61,
          62,
          63,
          64,
          65,
          66,
          67,
          68,
          69,
          70,
          71,
          72
         ],
         "y": [
          1,
          1,
          1,
          1,
          1,
          1,
          1,
          1,
          1,
          1,
          1,
          1,
          1,
          1,
          1,
          1,
          1,
          1,
          1,
          1,
          1,
          1,
          1,
          1,
          1,
          0.9993493819128181,
          0.9993493819128181,
          0.9993493819128181,
          0.9993493819128181,
          0.9993493819128181,
          0.9993493819128181,
          0.9993493819128181,
          0.9993493819128181,
          0.9986759658872701,
          0.9986759658872701,
          0.9986759658872701,
          0.9986759658872701,
          0.9986759658872701,
          0.9986759658872701,
          0.9979721773278006,
          0.9979721773278006,
          0.9979721773278006,
          0.9979721773278006,
          0.9972442618082322,
          0.9972442618082322,
          0.9972442618082322,
          0.9964950174342222,
          0.9964950174342222,
          0.995718930972046,
          0.9949305549380218,
          0.9941333349420786,
          0.9941333349420786,
          0.993315118205501,
          0.9924775843790208,
          0.9916278604197919,
          0.9907580114194239,
          0.9898749828887473,
          0.988070288298248,
          0.9871459942960975,
          0.9861995455959094,
          0.9861995455959094,
          0.9831989384592078,
          0.9831989384592078,
          0.9831989384592078,
          0.9809643954172548,
          0.9786287659043563,
          0.9749497103934384,
          0.9710757380342593,
          0.9682972666807995,
          0.9652427011707652,
          0.9567458464069387,
          0.9467797438401998,
          0.9357385806467282
         ]
        }
       ],
       "layout": {
        "font": {
         "color": "#646369"
        },
        "height": 500,
        "showlegend": true,
        "template": {
         "data": {
          "bar": [
           {
            "error_x": {
             "color": "#2a3f5f"
            },
            "error_y": {
             "color": "#2a3f5f"
            },
            "marker": {
             "line": {
              "color": "white",
              "width": 0.5
             },
             "pattern": {
              "fillmode": "overlay",
              "size": 10,
              "solidity": 0.2
             }
            },
            "type": "bar"
           }
          ],
          "barpolar": [
           {
            "marker": {
             "line": {
              "color": "white",
              "width": 0.5
             },
             "pattern": {
              "fillmode": "overlay",
              "size": 10,
              "solidity": 0.2
             }
            },
            "type": "barpolar"
           }
          ],
          "carpet": [
           {
            "aaxis": {
             "endlinecolor": "#2a3f5f",
             "gridcolor": "#C8D4E3",
             "linecolor": "#C8D4E3",
             "minorgridcolor": "#C8D4E3",
             "startlinecolor": "#2a3f5f"
            },
            "baxis": {
             "endlinecolor": "#2a3f5f",
             "gridcolor": "#C8D4E3",
             "linecolor": "#C8D4E3",
             "minorgridcolor": "#C8D4E3",
             "startlinecolor": "#2a3f5f"
            },
            "type": "carpet"
           }
          ],
          "choropleth": [
           {
            "colorbar": {
             "outlinewidth": 0,
             "ticks": ""
            },
            "type": "choropleth"
           }
          ],
          "contour": [
           {
            "colorbar": {
             "outlinewidth": 0,
             "ticks": ""
            },
            "colorscale": [
             [
              0,
              "#0d0887"
             ],
             [
              0.1111111111111111,
              "#46039f"
             ],
             [
              0.2222222222222222,
              "#7201a8"
             ],
             [
              0.3333333333333333,
              "#9c179e"
             ],
             [
              0.4444444444444444,
              "#bd3786"
             ],
             [
              0.5555555555555556,
              "#d8576b"
             ],
             [
              0.6666666666666666,
              "#ed7953"
             ],
             [
              0.7777777777777778,
              "#fb9f3a"
             ],
             [
              0.8888888888888888,
              "#fdca26"
             ],
             [
              1,
              "#f0f921"
             ]
            ],
            "type": "contour"
           }
          ],
          "contourcarpet": [
           {
            "colorbar": {
             "outlinewidth": 0,
             "ticks": ""
            },
            "type": "contourcarpet"
           }
          ],
          "heatmap": [
           {
            "colorbar": {
             "outlinewidth": 0,
             "ticks": ""
            },
            "colorscale": [
             [
              0,
              "#0d0887"
             ],
             [
              0.1111111111111111,
              "#46039f"
             ],
             [
              0.2222222222222222,
              "#7201a8"
             ],
             [
              0.3333333333333333,
              "#9c179e"
             ],
             [
              0.4444444444444444,
              "#bd3786"
             ],
             [
              0.5555555555555556,
              "#d8576b"
             ],
             [
              0.6666666666666666,
              "#ed7953"
             ],
             [
              0.7777777777777778,
              "#fb9f3a"
             ],
             [
              0.8888888888888888,
              "#fdca26"
             ],
             [
              1,
              "#f0f921"
             ]
            ],
            "type": "heatmap"
           }
          ],
          "heatmapgl": [
           {
            "colorbar": {
             "outlinewidth": 0,
             "ticks": ""
            },
            "colorscale": [
             [
              0,
              "#0d0887"
             ],
             [
              0.1111111111111111,
              "#46039f"
             ],
             [
              0.2222222222222222,
              "#7201a8"
             ],
             [
              0.3333333333333333,
              "#9c179e"
             ],
             [
              0.4444444444444444,
              "#bd3786"
             ],
             [
              0.5555555555555556,
              "#d8576b"
             ],
             [
              0.6666666666666666,
              "#ed7953"
             ],
             [
              0.7777777777777778,
              "#fb9f3a"
             ],
             [
              0.8888888888888888,
              "#fdca26"
             ],
             [
              1,
              "#f0f921"
             ]
            ],
            "type": "heatmapgl"
           }
          ],
          "histogram": [
           {
            "marker": {
             "pattern": {
              "fillmode": "overlay",
              "size": 10,
              "solidity": 0.2
             }
            },
            "type": "histogram"
           }
          ],
          "histogram2d": [
           {
            "colorbar": {
             "outlinewidth": 0,
             "ticks": ""
            },
            "colorscale": [
             [
              0,
              "#0d0887"
             ],
             [
              0.1111111111111111,
              "#46039f"
             ],
             [
              0.2222222222222222,
              "#7201a8"
             ],
             [
              0.3333333333333333,
              "#9c179e"
             ],
             [
              0.4444444444444444,
              "#bd3786"
             ],
             [
              0.5555555555555556,
              "#d8576b"
             ],
             [
              0.6666666666666666,
              "#ed7953"
             ],
             [
              0.7777777777777778,
              "#fb9f3a"
             ],
             [
              0.8888888888888888,
              "#fdca26"
             ],
             [
              1,
              "#f0f921"
             ]
            ],
            "type": "histogram2d"
           }
          ],
          "histogram2dcontour": [
           {
            "colorbar": {
             "outlinewidth": 0,
             "ticks": ""
            },
            "colorscale": [
             [
              0,
              "#0d0887"
             ],
             [
              0.1111111111111111,
              "#46039f"
             ],
             [
              0.2222222222222222,
              "#7201a8"
             ],
             [
              0.3333333333333333,
              "#9c179e"
             ],
             [
              0.4444444444444444,
              "#bd3786"
             ],
             [
              0.5555555555555556,
              "#d8576b"
             ],
             [
              0.6666666666666666,
              "#ed7953"
             ],
             [
              0.7777777777777778,
              "#fb9f3a"
             ],
             [
              0.8888888888888888,
              "#fdca26"
             ],
             [
              1,
              "#f0f921"
             ]
            ],
            "type": "histogram2dcontour"
           }
          ],
          "mesh3d": [
           {
            "colorbar": {
             "outlinewidth": 0,
             "ticks": ""
            },
            "type": "mesh3d"
           }
          ],
          "parcoords": [
           {
            "line": {
             "colorbar": {
              "outlinewidth": 0,
              "ticks": ""
             }
            },
            "type": "parcoords"
           }
          ],
          "pie": [
           {
            "automargin": true,
            "type": "pie"
           }
          ],
          "scatter": [
           {
            "fillpattern": {
             "fillmode": "overlay",
             "size": 10,
             "solidity": 0.2
            },
            "type": "scatter"
           }
          ],
          "scatter3d": [
           {
            "line": {
             "colorbar": {
              "outlinewidth": 0,
              "ticks": ""
             }
            },
            "marker": {
             "colorbar": {
              "outlinewidth": 0,
              "ticks": ""
             }
            },
            "type": "scatter3d"
           }
          ],
          "scattercarpet": [
           {
            "marker": {
             "colorbar": {
              "outlinewidth": 0,
              "ticks": ""
             }
            },
            "type": "scattercarpet"
           }
          ],
          "scattergeo": [
           {
            "marker": {
             "colorbar": {
              "outlinewidth": 0,
              "ticks": ""
             }
            },
            "type": "scattergeo"
           }
          ],
          "scattergl": [
           {
            "marker": {
             "colorbar": {
              "outlinewidth": 0,
              "ticks": ""
             }
            },
            "type": "scattergl"
           }
          ],
          "scattermapbox": [
           {
            "marker": {
             "colorbar": {
              "outlinewidth": 0,
              "ticks": ""
             }
            },
            "type": "scattermapbox"
           }
          ],
          "scatterpolar": [
           {
            "marker": {
             "colorbar": {
              "outlinewidth": 0,
              "ticks": ""
             }
            },
            "type": "scatterpolar"
           }
          ],
          "scatterpolargl": [
           {
            "marker": {
             "colorbar": {
              "outlinewidth": 0,
              "ticks": ""
             }
            },
            "type": "scatterpolargl"
           }
          ],
          "scatterternary": [
           {
            "marker": {
             "colorbar": {
              "outlinewidth": 0,
              "ticks": ""
             }
            },
            "type": "scatterternary"
           }
          ],
          "surface": [
           {
            "colorbar": {
             "outlinewidth": 0,
             "ticks": ""
            },
            "colorscale": [
             [
              0,
              "#0d0887"
             ],
             [
              0.1111111111111111,
              "#46039f"
             ],
             [
              0.2222222222222222,
              "#7201a8"
             ],
             [
              0.3333333333333333,
              "#9c179e"
             ],
             [
              0.4444444444444444,
              "#bd3786"
             ],
             [
              0.5555555555555556,
              "#d8576b"
             ],
             [
              0.6666666666666666,
              "#ed7953"
             ],
             [
              0.7777777777777778,
              "#fb9f3a"
             ],
             [
              0.8888888888888888,
              "#fdca26"
             ],
             [
              1,
              "#f0f921"
             ]
            ],
            "type": "surface"
           }
          ],
          "table": [
           {
            "cells": {
             "fill": {
              "color": "#EBF0F8"
             },
             "line": {
              "color": "white"
             }
            },
            "header": {
             "fill": {
              "color": "#C8D4E3"
             },
             "line": {
              "color": "white"
             }
            },
            "type": "table"
           }
          ]
         },
         "layout": {
          "annotationdefaults": {
           "arrowcolor": "#2a3f5f",
           "arrowhead": 0,
           "arrowwidth": 1
          },
          "autotypenumbers": "strict",
          "coloraxis": {
           "colorbar": {
            "outlinewidth": 0,
            "ticks": ""
           }
          },
          "colorscale": {
           "diverging": [
            [
             0,
             "#8e0152"
            ],
            [
             0.1,
             "#c51b7d"
            ],
            [
             0.2,
             "#de77ae"
            ],
            [
             0.3,
             "#f1b6da"
            ],
            [
             0.4,
             "#fde0ef"
            ],
            [
             0.5,
             "#f7f7f7"
            ],
            [
             0.6,
             "#e6f5d0"
            ],
            [
             0.7,
             "#b8e186"
            ],
            [
             0.8,
             "#7fbc41"
            ],
            [
             0.9,
             "#4d9221"
            ],
            [
             1,
             "#276419"
            ]
           ],
           "sequential": [
            [
             0,
             "#0d0887"
            ],
            [
             0.1111111111111111,
             "#46039f"
            ],
            [
             0.2222222222222222,
             "#7201a8"
            ],
            [
             0.3333333333333333,
             "#9c179e"
            ],
            [
             0.4444444444444444,
             "#bd3786"
            ],
            [
             0.5555555555555556,
             "#d8576b"
            ],
            [
             0.6666666666666666,
             "#ed7953"
            ],
            [
             0.7777777777777778,
             "#fb9f3a"
            ],
            [
             0.8888888888888888,
             "#fdca26"
            ],
            [
             1,
             "#f0f921"
            ]
           ],
           "sequentialminus": [
            [
             0,
             "#0d0887"
            ],
            [
             0.1111111111111111,
             "#46039f"
            ],
            [
             0.2222222222222222,
             "#7201a8"
            ],
            [
             0.3333333333333333,
             "#9c179e"
            ],
            [
             0.4444444444444444,
             "#bd3786"
            ],
            [
             0.5555555555555556,
             "#d8576b"
            ],
            [
             0.6666666666666666,
             "#ed7953"
            ],
            [
             0.7777777777777778,
             "#fb9f3a"
            ],
            [
             0.8888888888888888,
             "#fdca26"
            ],
            [
             1,
             "#f0f921"
            ]
           ]
          },
          "colorway": [
           "#636efa",
           "#EF553B",
           "#00cc96",
           "#ab63fa",
           "#FFA15A",
           "#19d3f3",
           "#FF6692",
           "#B6E880",
           "#FF97FF",
           "#FECB52"
          ],
          "font": {
           "color": "#2a3f5f"
          },
          "geo": {
           "bgcolor": "white",
           "lakecolor": "white",
           "landcolor": "white",
           "showlakes": true,
           "showland": true,
           "subunitcolor": "#C8D4E3"
          },
          "hoverlabel": {
           "align": "left"
          },
          "hovermode": "closest",
          "mapbox": {
           "style": "light"
          },
          "paper_bgcolor": "white",
          "plot_bgcolor": "white",
          "polar": {
           "angularaxis": {
            "gridcolor": "#EBF0F8",
            "linecolor": "#EBF0F8",
            "ticks": ""
           },
           "bgcolor": "white",
           "radialaxis": {
            "gridcolor": "#EBF0F8",
            "linecolor": "#EBF0F8",
            "ticks": ""
           }
          },
          "scene": {
           "xaxis": {
            "backgroundcolor": "white",
            "gridcolor": "#DFE8F3",
            "gridwidth": 2,
            "linecolor": "#EBF0F8",
            "showbackground": true,
            "ticks": "",
            "zerolinecolor": "#EBF0F8"
           },
           "yaxis": {
            "backgroundcolor": "white",
            "gridcolor": "#DFE8F3",
            "gridwidth": 2,
            "linecolor": "#EBF0F8",
            "showbackground": true,
            "ticks": "",
            "zerolinecolor": "#EBF0F8"
           },
           "zaxis": {
            "backgroundcolor": "white",
            "gridcolor": "#DFE8F3",
            "gridwidth": 2,
            "linecolor": "#EBF0F8",
            "showbackground": true,
            "ticks": "",
            "zerolinecolor": "#EBF0F8"
           }
          },
          "shapedefaults": {
           "line": {
            "color": "#2a3f5f"
           }
          },
          "ternary": {
           "aaxis": {
            "gridcolor": "#DFE8F3",
            "linecolor": "#A2B1C6",
            "ticks": ""
           },
           "baxis": {
            "gridcolor": "#DFE8F3",
            "linecolor": "#A2B1C6",
            "ticks": ""
           },
           "bgcolor": "white",
           "caxis": {
            "gridcolor": "#DFE8F3",
            "linecolor": "#A2B1C6",
            "ticks": ""
           }
          },
          "title": {
           "x": 0.05
          },
          "xaxis": {
           "automargin": true,
           "gridcolor": "#EBF0F8",
           "linecolor": "#EBF0F8",
           "ticks": "",
           "title": {
            "standoff": 15
           },
           "zerolinecolor": "#EBF0F8",
           "zerolinewidth": 2
          },
          "yaxis": {
           "automargin": true,
           "gridcolor": "#EBF0F8",
           "linecolor": "#EBF0F8",
           "ticks": "",
           "title": {
            "standoff": 15
           },
           "zerolinecolor": "#EBF0F8",
           "zerolinewidth": 2
          }
         }
        },
        "title": {
         "font": {
          "family": "Arial",
          "size": 20
         },
         "text": "<b>Probabilidade de Sobrevivência dado o tempo de relacionamento<br>com a empresa</b><br><sup><i>Análise de probabilidade dos coeficiente de Keplen-Meier para pessoas com dependentes</i></sup>",
         "x": 0.1
        },
        "width": 910,
        "xaxis": {
         "showgrid": false,
         "title": {
          "text": "Tempo em meses"
         }
        },
        "yaxis": {
         "showgrid": true,
         "showticklabels": true,
         "title": {
          "text": "Probabilidade de Sobrevivência"
         }
        }
       }
      }
     },
     "metadata": {},
     "output_type": "display_data"
    }
   ],
   "source": [
    "# Inicializando o método\n",
    "kmf = KaplanMeierFitter()\n",
    "\n",
    "# Initializando a figure\n",
    "fig = go.Figure()\n",
    "\n",
    "# Ajustando os dados\n",
    "for tipo_contrato in data['Contract'].unique():\n",
    "    data_contract = data.query(f\"Contract == '{tipo_contrato}'\")\n",
    "    kmf.fit(data_contract['tenure'], data_contract['Churn'], label=tipo_contrato)\n",
    "    fig.add_trace(go.Scatter(x=kmf.survival_function_.index,\n",
    "                                y=kmf.survival_function_[f'{tipo_contrato}'],\n",
    "                                mode='lines',\n",
    "                                name=tipo_contrato))\n",
    "    \n",
    "# Atualizando o layout da figure\n",
    "fig.update_layout(\n",
    "    title='<b>Probabilidade de Sobrevivência dado o tempo de relacionamento<br>com a empresa</b><br><sup><i>Análise de probabilidade dos coeficiente de Keplen-Meier para pessoas com dependentes</i></sup>',\n",
    "    title_font=dict(size=20, family=\"Arial\"),\n",
    "    font_color='#646369',\n",
    "    template='plotly_white',\n",
    "    yaxis=dict(showticklabels=True, showgrid=True, title='Probabilidade de Sobrevivência'),\n",
    "    xaxis=dict(showgrid=False, title='Tempo em meses'),\n",
    "    title_x=0.1,\n",
    "    width=910,\n",
    "    height=500,\n",
    "    showlegend=True\n",
    ")"
   ]
  },
  {
   "cell_type": "code",
   "execution_count": 59,
   "metadata": {},
   "outputs": [
    {
     "name": "stdout",
     "output_type": "stream",
     "text": [
      "Com um p valor de 0.0, podemos rejeitar a hipótese nula de que os grupos são significativamente iguais\n"
     ]
    }
   ],
   "source": [
    "# Aplicando o teste\n",
    "resultados = pairwise_logrank_test(data['tenure'], data['Contract'], data['Churn'])\n",
    "\n",
    "# Buscando o menor p valor\n",
    "p_valor = resultados.p_value.min()\n",
    "\n",
    "if p_valor < 0.05:\n",
    "    print(f\"Com um p valor de {p_valor}, podemos rejeitar a hipótese nula de que os grupos são significativamente iguais\")\n",
    "\n",
    "else:\n",
    "    print(f\"Com um p valor de {p_valor}, não podemos rejeitar a hipótese nula de que os grupos são significativamente iguais\")"
   ]
  },
  {
   "cell_type": "markdown",
   "metadata": {},
   "source": [
    "Contratos mensais têm uma probabilidade de sobrevivência menor do que contratos\n",
    "anuais. A probabilidade de sobrevivência ficou abaixo de 50% no trigésimo quinto\n",
    "mês para contratos mensais.\n",
    "\n",
    "Com 95% de confiança, podemos dizer que pelo menos uma das curvas de churn para \n",
    "os grupos de contrato é significativamente diferente."
   ]
  },
  {
   "cell_type": "markdown",
   "metadata": {},
   "source": [
    "### Treinando um modelo multivariado\n",
    "Até aqui, usamos apenas uma variável para estimar a probabilidade de \n",
    "sobrevivência. Agora, vamos usar uma abordagem multivariada, usando todas as\n",
    "variáveis disponíveis."
   ]
  },
  {
   "cell_type": "code",
   "execution_count": 60,
   "metadata": {},
   "outputs": [],
   "source": [
    "# Criando 2 grupos estratificados para treino e teste\n",
    "treino, teste = train_test_split(data, \n",
    "                               test_size=0.2, \n",
    "                               random_state=200, \n",
    "                               stratify=data['Churn'])\n",
    "\n",
    "# Selecionando as variáveis categóricas\n",
    "cat_cols = treino.select_dtypes(include='object').columns\n",
    "\n",
    "# Criando um pipeline para as variáveis categóricas\n",
    "cat_pipe = Pipeline([('onehot', OneHotEncoder(drop='first'))])\n",
    "\n",
    "# Criando um transformer para as variáveis categóricas\n",
    "transformer = ColumnTransformer([('cat', cat_pipe, cat_cols)], remainder='passthrough')"
   ]
  },
  {
   "cell_type": "code",
   "execution_count": 61,
   "metadata": {},
   "outputs": [],
   "source": [
    "# Transformando os dados de treino\n",
    "treino_transformado = transformer.fit_transform(treino)\n",
    "\n",
    "# Buscando os nomes das colunas\n",
    "colunas = transformer.get_feature_names_out()\n",
    "\n",
    "# Transformando os dados de teste\n",
    "teste_transformado = transformer.transform(teste)\n",
    "\n",
    "# Criando um dataframe com os dados transformados\n",
    "treino_transformado = pd.DataFrame(treino_transformado, columns=colunas)\n",
    "teste_transformado = pd.DataFrame(teste_transformado, columns=colunas)"
   ]
  },
  {
   "cell_type": "code",
   "execution_count": 62,
   "metadata": {},
   "outputs": [
    {
     "name": "stderr",
     "output_type": "stream",
     "text": [
      "/home/daniel/Documents/survival_analysis/.venv/lib/python3.10/site-packages/lifelines/utils/__init__.py:1185: UserWarning:\n",
      "\n",
      "Attempting to convert an unexpected datatype 'object' to float. Suggestion: 1) use `lifelines.utils.datetimes_to_durations` to do conversions or 2) manually convert to floats/booleans.\n",
      "\n"
     ]
    },
    {
     "data": {
      "text/plain": [
       "<lifelines.CoxPHFitter: fitted with 5634 total observations, 4139 right-censored observations>"
      ]
     },
     "execution_count": 62,
     "metadata": {},
     "output_type": "execute_result"
    }
   ],
   "source": [
    "# Instanciando o modelo\n",
    "modelo = CoxPHFitter(penalizer=0.01)\n",
    "\n",
    "# Ajustando o modelo\n",
    "modelo.fit(treino_transformado, \n",
    "           duration_col='remainder__tenure', \n",
    "           event_col='remainder__Churn')"
   ]
  },
  {
   "cell_type": "code",
   "execution_count": 63,
   "metadata": {},
   "outputs": [
    {
     "data": {
      "text/plain": [
       "0.9234288939914063"
      ]
     },
     "execution_count": 63,
     "metadata": {},
     "output_type": "execute_result"
    }
   ],
   "source": [
    "# Checando o c-index do treino\n",
    "modelo.score(treino_transformado, \n",
    "            scoring_method='concordance_index',)\n"
   ]
  },
  {
   "cell_type": "code",
   "execution_count": 65,
   "metadata": {},
   "outputs": [
    {
     "data": {
      "text/plain": [
       "0.9286198322034427"
      ]
     },
     "execution_count": 65,
     "metadata": {},
     "output_type": "execute_result"
    }
   ],
   "source": [
    "# Checando o c-index do teste\n",
    "modelo.score(teste_transformado, \n",
    "             scoring_method='concordance_index')"
   ]
  },
  {
   "cell_type": "code",
   "execution_count": 20,
   "metadata": {},
   "outputs": [
    {
     "data": {
      "text/plain": [
       "(0.935139504171267, 5337633, 370204, 21, 129030)"
      ]
     },
     "execution_count": 20,
     "metadata": {},
     "output_type": "execute_result"
    }
   ],
   "source": [
    "# Dividindo os dados de treino\n",
    "x_treino = treino_transformado.drop(['remainder__tenure', 'remainder__Churn'], \n",
    "                                    axis=1)\n",
    "y_treino = treino_transformado[['remainder__Churn', \n",
    "                                'remainder__tenure']].to_records(index=False, \n",
    "                                                                column_dtypes={'remainder__Churn': 'bool',\n",
    "                                                                               'remainder__tenure': 'int64'})\n",
    "\n",
    "# Inicializando o modelo\n",
    "modelo_forest = RandomSurvivalForest(random_state=200)\n",
    "\n",
    "# Treinando o modelo\n",
    "modelo_forest.fit(x_treino, y_treino)\n",
    "\n",
    "# Calculando o c-index\n",
    "concordance_index_censored(y_treino['remainder__Churn'], y_treino['remainder__tenure'], modelo_forest.predict(x_treino))\n"
   ]
  },
  {
   "cell_type": "code",
   "execution_count": 21,
   "metadata": {},
   "outputs": [
    {
     "data": {
      "text/plain": [
       "(0.9046468701887499, 319059, 33630, 0, 7503)"
      ]
     },
     "execution_count": 21,
     "metadata": {},
     "output_type": "execute_result"
    }
   ],
   "source": [
    "# Calculando o c-index do teste\n",
    "x_teste = teste_transformado.drop(['remainder__tenure', 'remainder__Churn'], \n",
    "                                    axis=1)\n",
    "y_teste = teste_transformado[['remainder__Churn',\n",
    "                                'remainder__tenure']].to_records(index=False, \n",
    "                                                                    column_dtypes={'remainder__Churn': 'bool',\n",
    "                                                                                 'remainder__tenure': 'int64'})\n",
    "                                \n",
    "concordance_index_censored(y_teste['remainder__Churn'], y_teste['remainder__tenure'], modelo_forest.predict(x_teste))"
   ]
  },
  {
   "cell_type": "markdown",
   "metadata": {},
   "source": [
    "O modelo baseado em árvore de decisão foi o que teve o melhor desempenho no\n",
    "conjunto de treino, com um c-index de 0.93. No entanto, o modelo de Cox conseguiu\n",
    "um desempenho geral melhor, com um c-index médio de 0.9260243630974245 contra\n",
    "0.9198931871800085 do modelo baseado em árvore de decisão.\n",
    "\n",
    "Como passo final, vou unir os dados de treino e teste e prever a expectativa de\n",
    "vida de cada cliente. Para tal, vou usar o modelo de Cox, já que ele teve o\n",
    "melhor desempenho no conjunto de teste."
   ]
  },
  {
   "cell_type": "code",
   "execution_count": 72,
   "metadata": {},
   "outputs": [],
   "source": [
    "# Juntando os dados de treino e teste\n",
    "data_full = pd.concat([treino_transformado, teste_transformado])\n",
    "\n",
    "# Buscando apenas os clientes que não deram churn\n",
    "data_full = data_full.query(\"remainder__Churn == False\")"
   ]
  },
  {
   "cell_type": "code",
   "execution_count": 73,
   "metadata": {},
   "outputs": [
    {
     "name": "stderr",
     "output_type": "stream",
     "text": [
      "/home/daniel/Documents/survival_analysis/.venv/lib/python3.10/site-packages/lifelines/utils/__init__.py:933: UserWarning:\n",
      "\n",
      "DataFrame Index is not unique, defaulting to incrementing index instead.\n",
      "\n"
     ]
    }
   ],
   "source": [
    "# Concatenando a expectativa de vida\n",
    "expectativa = modelo.predict_expectation(data_full)\n",
    "data_full['expectativa'] = expectativa"
   ]
  },
  {
   "cell_type": "code",
   "execution_count": 81,
   "metadata": {},
   "outputs": [
    {
     "data": {
      "application/vnd.plotly.v1+json": {
       "config": {
        "plotlyServerURL": "https://plot.ly"
       },
       "data": [
        {
         "type": "histogram",
         "x": [
          43.35247423500222,
          42.82235214531283,
          67.95432430627338,
          26.39809124463016,
          65.27192436454109,
          68.2204343518196,
          53.104587024392984,
          56.958007250910526,
          45.42595745639551,
          71.92956657089236,
          61.897176625060794,
          12.49685230470478,
          69.91292827444339,
          23.988139167216232,
          71.94776099557589,
          69.37788546257923,
          70.51525952662638,
          71.79762319611498,
          66.20649039892031,
          12.36425851840783,
          71.44552791315064,
          54.174453808771844,
          66.58078739899945,
          10.249061238544583,
          4.651657333302503,
          34.50222609231639,
          32.616337199154444,
          67.62736973109321,
          16.469839201482614,
          19.477513604103528,
          71.47571139174306,
          49.90848108637768,
          32.17371888003282,
          42.8831633776484,
          71.87951858124362,
          71.7884313068908,
          70.47414762416918,
          36.60277411818682,
          19.38210710734377,
          5.9419182683998155,
          71.93765282006738,
          21.948919844907984,
          56.484098164532696,
          71.53413121564762,
          20.101291743871503,
          71.01741597923089,
          71.7658942800226,
          70.61328112460075,
          36.18632783637013,
          38.76933759611576,
          65.6854557266762,
          70.44788389098471,
          41.367083104830954,
          18.56697924620002,
          66.9206276396805,
          71.85058882516425,
          59.292852678800095,
          7.0659248514575435,
          63.314251760917124,
          70.44421284051663,
          5.936666069477216,
          18.322142859404792,
          49.494717166617306,
          50.34067122900301,
          4.653042090444084,
          34.74992750756533,
          62.03903601786378,
          71.04967165041768,
          50.426993824910554,
          70.8380824301248,
          70.71711935032934,
          70.7293798303755,
          57.691190731340846,
          40.2686019056757,
          71.58302610296502,
          19.44316499201734,
          55.1835254350794,
          65.1796936643679,
          36.02092386125331,
          54.66427621927509,
          71.95827009488026,
          34.81240935501452,
          67.72133008398609,
          69.42997120070493,
          24.19789604397134,
          71.5609608251304,
          71.89238571559402,
          47.26941292635591,
          4.865425055756596,
          71.39161793134843,
          56.78124081692987,
          66.33106778993255,
          64.34154335995999,
          70.82920266515798,
          56.30272836574065,
          69.77242289362191,
          68.09525644715805,
          43.01856217351717,
          70.70372458141395,
          52.38173626508478,
          10.721866746451822,
          63.80592556759191,
          57.31960907425503,
          9.810337215823667,
          56.45260235312767,
          24.284192758264957,
          50.23148985722595,
          68.99898191212048,
          45.83926880871271,
          17.101426433218958,
          16.213625077128185,
          69.45542389387361,
          11.75149356459113,
          61.89486497731214,
          44.082830146297525,
          29.59089896431057,
          69.17467701455006,
          55.09788560610616,
          70.68268388973411,
          65.68700053054191,
          70.09978858278726,
          61.21316487446815,
          12.875006502035975,
          55.34890808706439,
          43.58274244114278,
          64.24449893393691,
          23.196245452866968,
          38.379984496861994,
          71.62622547117118,
          57.754312252748896,
          48.97244704800539,
          17.30357790510488,
          70.32194346881397,
          38.628677189008286,
          69.15960208291355,
          18.593547436773406,
          28.379681394671415,
          24.474997495463114,
          70.30874131303464,
          17.628266787061133,
          24.572660145532183,
          71.91494523059384,
          44.61684468401439,
          26.378078660910624,
          53.069543763079196,
          23.75302729830618,
          70.41868600407983,
          29.674079238724342,
          71.71819256387208,
          20.730416514695683,
          70.94791513366872,
          69.20900429683263,
          40.089650371433386,
          61.626857985187826,
          63.257305330695814,
          62.9960977795437,
          52.099312649263695,
          30.66054786709341,
          71.19287987496685,
          15.953605575630853,
          71.62334412059387,
          69.81111398417357,
          65.9411296163196,
          27.992693603601477,
          27.55170397149238,
          67.02893146793964,
          71.73816331448984,
          65.66325207450201,
          71.85922857107191,
          69.86513866212134,
          71.83703388882326,
          9.379215175481363,
          38.678927736435355,
          16.14311591148412,
          54.984957727603025,
          60.84307051174955,
          71.83552998461873,
          46.303778299000065,
          40.25160604704998,
          20.76096760753194,
          40.874157280808184,
          66.50007186084176,
          69.73185384479468,
          20.894216335169475,
          71.33182200352717,
          69.67523657657136,
          47.75838078132002,
          8.258816514214216,
          47.695121430611515,
          37.732695428474685,
          71.70262108686609,
          31.602081229519285,
          71.51477475667349,
          5.275253168341653,
          70.83373013377343,
          71.9203501491173,
          35.93574072601473,
          71.47391869686084,
          71.5700366057728,
          71.44640411167113,
          12.159600047856536,
          54.05274856092474,
          40.20655178559831,
          40.85250288738081,
          71.86710704347267,
          69.63889227714029,
          8.683408706329969,
          16.85248878069416,
          34.477741277571894,
          23.03804904569352,
          52.209492255686555,
          71.95204545173752,
          48.14631166211142,
          71.69679818549943,
          67.19846909211697,
          36.0788191276448,
          62.623612925116824,
          69.45931194940952,
          43.422486762911106,
          43.81050414289511,
          71.93489605016806,
          71.69341483997536,
          71.42105242839926,
          26.805159137870817,
          19.791917140627568,
          66.52308692174212,
          70.96850520038747,
          62.7624268482406,
          65.52863492339577,
          65.3020358496921,
          38.499220100691645,
          29.68843238814725,
          37.96917382645515,
          5.217733692438513,
          70.13101331417796,
          45.654376387749245,
          37.21120339623498,
          70.24237245474407,
          60.242872009968515,
          70.10435083525333,
          49.79778529494298,
          32.69435277559435,
          44.96134958551812,
          69.46116156326543,
          50.86058101606696,
          71.5865107760988,
          33.42687636367558,
          69.28466228689689,
          58.917942987642,
          43.0445651379053,
          69.29291683774824,
          4.48719737922789,
          69.79289867282847,
          71.87418267098687,
          13.648514760043568,
          66.56893865753713,
          36.892601308569525,
          56.15177118937039,
          49.384194056257606,
          47.49579544584502,
          41.672125982256325,
          22.730961424869985,
          34.76441275174411,
          9.579423226584648,
          31.842382296771433,
          48.07663323943482,
          60.582232863804194,
          69.9130427618898,
          66.02751610900175,
          20.049041539078765,
          33.22498015021202,
          39.525819357456804,
          18.803277580972402,
          44.919075821629946,
          48.35280003848248,
          48.51673576159418,
          64.07802997597199,
          18.274950981563414,
          35.58982439107129,
          71.23101443196732,
          21.152688454690864,
          66.89801377426106,
          25.89141682441409,
          39.44103337614886,
          56.13582473248857,
          52.075640991881414,
          30.435335772750243,
          69.41058688714006,
          66.93880743829949,
          71.91584169819026,
          54.22746582608788,
          67.5045677530659,
          57.29230501431806,
          8.728715686447728,
          65.49312803619576,
          21.078786854717123,
          47.283323617061896,
          8.819394358607536,
          31.28528271167034,
          65.64119798779589,
          34.10115644772573,
          65.61990075056843,
          71.84270325152622,
          15.675077148629445,
          61.41757891143468,
          67.27835492335598,
          15.764411058008566,
          19.614554122409807,
          69.70914649866856,
          71.59659451392507,
          4.38060538212607,
          56.1680914886,
          45.96767544804689,
          41.66789946347053,
          71.76281847061955,
          65.92347057240448,
          14.72960145995601,
          71.84513180443108,
          51.50631415448593,
          34.62945388334344,
          55.32893057801477,
          50.70826331868028,
          71.24545489825725,
          71.16894928525558,
          71.03418401493904,
          37.771460858675155,
          4.931529351429574,
          70.10873521951075,
          35.77201587950614,
          39.118438940942866,
          46.80614175892494,
          22.670326406008407,
          7.660688237258654,
          70.7556212534536,
          15.733208148257678,
          11.640877513051382,
          67.24678999272334,
          57.253570183857654,
          54.58881242865539,
          70.3529540308422,
          39.45165908990071,
          70.90812141864811,
          37.673450819608206,
          34.30951302389451,
          21.755653594063617,
          70.88584948946226,
          70.13005494237098,
          20.85860718662454,
          69.84714336506303,
          71.77252803953019,
          57.17387429750649,
          69.78233563920942,
          61.22317973812955,
          67.7343203553371,
          21.07815314774567,
          40.34058804546061,
          7.843330085837492,
          66.60330600002337,
          51.763269087077724,
          66.55254524752112,
          67.49797210714728,
          17.338914064067957,
          52.42596764499163,
          13.314348934120208,
          52.26706628465415,
          51.44019140638342,
          59.017796058460654,
          69.02301261413625,
          67.59014608491773,
          47.953584708432544,
          24.918721112214715,
          64.33134530166899,
          67.82127146172549,
          71.6979082242936,
          71.71192688092925,
          56.50651671560691,
          22.136147992091757,
          32.57701928342233,
          24.462550568699914,
          68.91005068350998,
          61.92391125336758,
          71.3405516119085,
          55.76516774446977,
          64.3552332105306,
          67.62749755266327,
          22.617467232579603,
          31.334685180728755,
          66.69529691724397,
          43.566259009251795,
          11.609081081501195,
          71.49758628459026,
          66.76553490907531,
          68.95631798689499,
          34.90113133807779,
          71.90644439106705,
          71.40250773581126,
          71.95383205749599,
          68.53492748414106,
          50.59732072954117,
          62.56881468874237,
          71.1386447763839,
          19.27584056000307,
          18.47880751637357,
          70.21764914382433,
          39.69341114226077,
          21.224143162862482,
          27.538650396407814,
          44.88484419295882,
          55.93630396369535,
          52.48547701213997,
          27.251059383988768,
          51.13337718571071,
          19.030082624671167,
          70.28168910028609,
          70.67141278736116,
          62.20138569404382,
          70.3895155757496,
          71.74276193644874,
          70.27948008085438,
          42.02094325499722,
          71.43446051383681,
          37.33797766806145,
          63.63792980845811,
          61.89422459161459,
          68.38370777662254,
          71.74251892345018,
          22.505943912074112,
          71.49432605942555,
          60.74958671447637,
          70.52034849344415,
          15.739560540554447,
          60.51702600486692,
          71.84472090879743,
          13.35439510943056,
          57.807927654804764,
          18.658796584414244,
          70.78204619827548,
          71.4713333915308,
          15.891526591604233,
          65.19022064524992,
          57.25140792498185,
          11.805847524139065,
          61.458140072758596,
          70.7919285841223,
          70.99967487968514,
          59.3680917716885,
          58.10110363166828,
          16.75577300771736,
          11.647617225507329,
          64.09283252075375,
          65.0027336258069,
          59.15902276217423,
          69.58267370854787,
          71.64518475669027,
          42.35494887959882,
          38.98285780030343,
          48.28817499063315,
          71.91402436441658,
          63.91948144252674,
          53.14956855588336,
          61.83625930762785,
          65.00448731874272,
          13.268336021821556,
          42.1076464619689,
          69.77292971073473,
          71.71312585958708,
          14.148798279286893,
          69.85543492437377,
          70.4078650503015,
          62.090429045516075,
          17.585242393196616,
          70.23372037836381,
          25.080104893486933,
          56.12865741944717,
          25.300550653016636,
          35.41969071267475,
          52.89151002174482,
          67.74945204674033,
          51.73503990527674,
          71.76546793723438,
          68.91570729472821,
          48.48478316556876,
          70.55202411954218,
          8.201164644109205,
          46.6675131065478,
          27.706057122494848,
          22.291699710376506,
          56.100619597062334,
          64.25778563542607,
          69.94616866334536,
          71.95135815746596,
          39.05538850437508,
          43.542853996483906,
          69.43306884860775,
          13.124819137059239,
          66.21035342280213,
          70.22180582038283,
          12.270402285936518,
          71.91792477668093,
          67.23663164227881,
          71.89085338464608,
          71.85380073884212,
          20.520022300301903,
          38.51127940420638,
          71.90883681886211,
          70.78595453092834,
          60.76932711445265,
          13.244943058363376,
          71.07960914520126,
          44.57691605546919,
          71.92241231260168,
          70.12350757891548,
          71.89597330238465,
          47.63652137414728,
          65.65661327538183,
          70.97932800355045,
          61.55401212150437,
          71.35427589770674,
          12.633915073974762,
          71.8194534191239,
          70.94893527418984,
          71.55642678586051,
          15.27510661136516,
          69.92133651275347,
          70.67599450462882,
          62.198189752637134,
          62.628293363341434,
          62.93321357004021,
          22.187775792197108,
          50.27811746376426,
          35.92825052942923,
          58.706129971286984,
          52.61423227206375,
          17.89543335742999,
          37.86536760128232,
          40.555326168803965,
          70.28631539681724,
          16.258071222583418,
          69.18969823501186,
          71.41648771599635,
          71.66321081213609,
          54.24247142106087,
          13.424038876650723,
          43.379503743597894,
          57.03377768457726,
          41.21744698802458,
          24.88354500314097,
          12.155997228064669,
          32.74038495919028,
          69.72787075182671,
          39.99356638541735,
          13.243871052809656,
          71.36552770156936,
          58.48290946087316,
          22.60710453843695,
          33.397247023831014,
          71.85647067552519,
          50.96408071562192,
          67.38065120982915,
          54.102575055132604,
          71.90243862667515,
          53.6708598160146,
          58.63576278941572,
          70.70626161842507,
          6.176649950306768,
          52.022165895859835,
          71.2340507437003,
          20.19768898108774,
          69.85789944976239,
          34.67869826299926,
          20.778810206237548,
          9.966614298277964,
          37.592823980005164,
          69.70139788040966,
          69.38166503841776,
          70.95313447562631,
          65.24907214345528,
          30.26248340422073,
          43.904858365053556,
          35.59366155223378,
          61.155206990668006,
          63.07032163246908,
          62.98344643061375,
          49.70707142762198,
          27.964112888276947,
          66.29141096405795,
          62.107561235976476,
          16.914173748696097,
          53.03778948558724,
          47.37648174467347,
          33.00401365463757,
          15.56420734310888,
          41.22597508058517,
          71.29673117796713,
          70.98988944784966,
          21.514663650453084,
          67.81302125783753,
          6.191099009812606,
          58.32720672071143,
          71.23214614182177,
          19.0087326970028,
          61.5649101596213,
          50.04507777478182,
          66.77652621562669,
          49.62141474775579,
          57.81335465494905,
          69.49686920766669,
          22.289836233205364,
          31.817248299861852,
          50.51444097643116,
          12.769636600265237,
          30.819463896970788,
          69.42349873304126,
          70.83823727984219,
          50.309962050282046,
          70.3400245454816,
          8.299753481449166,
          71.82258747757037,
          67.95117681060064,
          36.235163826429016,
          40.79392759547939,
          71.63820984644943,
          33.53333547554789,
          40.340740619004634,
          58.58985759152364,
          52.85720253183922,
          64.14998832412097,
          70.5155848079497,
          49.02892362396421,
          25.624794924589658,
          60.12167359185831,
          65.82914912208153,
          32.419769351308965,
          44.644047407176274,
          24.202308225069075,
          38.19069911136955,
          30.807830194148213,
          69.29089824526947,
          8.241136601586629,
          29.911039546174777,
          34.85780895061102,
          71.8655801310261,
          17.802875226511127,
          8.513952979751451,
          69.88600883894654,
          56.64075704595406,
          60.75299456891196,
          71.21871108573849,
          70.81911609249266,
          18.562208529535017,
          63.66500706596004,
          71.89734874526357,
          55.94826157147934,
          24.13642072779328,
          70.14106755504758,
          62.89500628911193,
          68.85288979231913,
          68.24426453423143,
          53.78675250691049,
          71.18885300374191,
          61.13584080153054,
          65.99678114115304,
          58.74709085915415,
          56.09653900161639,
          70.01601781347344,
          20.8532967893506,
          42.09646759665651,
          71.8706140936863,
          39.48109540966608,
          67.76167009425951,
          14.790850150492858,
          35.27474783737615,
          57.920128489870535,
          58.07264094089587,
          6.7885698357466495,
          23.07684091724382,
          53.2158377858171,
          69.1488224010208,
          43.33545314393257,
          71.95903207713161,
          49.10048998961871,
          61.75252631934076,
          69.31957762202147,
          71.01894914610222,
          71.87671480200615,
          44.725342397595675,
          52.783224577469056,
          57.99356244050878,
          70.78432874133814,
          71.93635175380824,
          69.15556685670123,
          35.30658819471087,
          71.27995714336924,
          71.74561545563478,
          41.31895293634999,
          27.94560943183553,
          33.452045638165174,
          57.39632311930384,
          57.77767407867066,
          36.08103869628103,
          4.790155409006109,
          70.51541622927263,
          71.87323888653656,
          44.054697745040684,
          71.9629473566494,
          35.67894607693634,
          56.58725194238539,
          26.332616280116866,
          71.93252192710878,
          31.913165769328895,
          43.5443344692832,
          71.94121236364346,
          48.74466840899173,
          57.3064603749954,
          71.74415077763265,
          68.25987345924395,
          6.534106038800953,
          38.0094919333642,
          69.8881725302939,
          30.883495710180505,
          51.67282911890629,
          68.4376722425797,
          71.55167925497375,
          71.9634671866462,
          42.03471972724759,
          60.168087000662226,
          48.65542073984271,
          41.4776593984209,
          53.58769021144545,
          71.19432028559143,
          50.98382779860067,
          52.024131572032516,
          64.43494076531212,
          25.55663361877996,
          65.47793582526714,
          55.970449183840714,
          56.918073004756344,
          42.273290997168246,
          71.53200276512396,
          62.60959665549144,
          70.31747436044263,
          61.70294280682789,
          54.874172388502714,
          69.27627389166122,
          47.06503083444794,
          55.86323750617623,
          34.39064254827167,
          70.94718219345938,
          38.00130799024184,
          70.07373110447904,
          20.373169070268425,
          70.10708729308743,
          59.61243206669667,
          57.9862353943208,
          50.799427053380384,
          69.69074832613917,
          67.64467892861214,
          29.477367333916924,
          67.21357147140387,
          40.16843513874899,
          28.475244467818264,
          58.17217649555202,
          63.06295823255873,
          17.78752954187887,
          24.913829307387548,
          71.16491193964751,
          68.78613469740124,
          68.42035435837954,
          26.863296055016765,
          70.11234333288323,
          10.492210046183374,
          51.73529711627492,
          71.13178238664649,
          55.803393811279264,
          66.93503519385547,
          56.75043112190731,
          13.566549975055768,
          14.624716867875488,
          4.442452840168871,
          69.91939563357889,
          12.864136880102743,
          71.48468185021659,
          39.77292460919668,
          68.72746684833356,
          33.5616262938219,
          59.09711264991909,
          67.38328137221467,
          62.8039527373739,
          30.806223235262074,
          70.64019754693663,
          47.516639692871074,
          33.20956618917738,
          71.83202312765548,
          65.06309073567823,
          52.608903558917675,
          64.90809595985937,
          71.80262907781903,
          65.86579822005619,
          24.73291882954075,
          62.7867525782423,
          59.315792106061835,
          33.807181405155944,
          7.84665050879303,
          64.61294086203148,
          71.72610747464188,
          34.91158153117867,
          33.76659407116901,
          71.83412407391864,
          34.89346352788438,
          35.190419200445504,
          5.51530802145163,
          21.55683666336442,
          20.23776582882304,
          65.85837993869089,
          11.156122468542838,
          71.27875795346029,
          57.294750428628944,
          70.64111955760947,
          55.3838121128539,
          41.385939355361,
          46.969645672194915,
          71.85459345524495,
          64.32116463013644,
          42.942933717233046,
          54.52301879049412,
          68.13703244742041,
          35.53015519144143,
          71.0058143757134,
          27.328554331741643,
          27.14352932812436,
          71.21390044958349,
          69.10104019649137,
          42.66588174877765,
          68.12421981502656,
          61.66948361112122,
          64.37409533086439,
          66.72032952260912,
          71.88303128458982,
          70.33670741682914,
          71.48306740828193,
          69.8846317395906,
          16.069297315334552,
          19.712239414036297,
          69.81440928407915,
          68.50565388509052,
          40.52052918831406,
          70.26576208229278,
          13.725310099151342,
          2.7725897356302234,
          67.55671178172369,
          18.071528388226103,
          4.153199587397581,
          60.08890473730117,
          60.71141789882633,
          4.650714742750485,
          50.22424304012367,
          17.517962285762458,
          71.31950554583244,
          70.55303228878408,
          55.68213456343705,
          70.17791633543075,
          71.88889995639727,
          70.29714208065623,
          22.79673806537337,
          71.70578247494097,
          38.978219629453584,
          56.7233810160357,
          65.7954418933359,
          66.7363960893367,
          63.78436492530872,
          66.91042367603617,
          69.57181589143863,
          20.201056454689457,
          35.9924840372676,
          4.7570667743558515,
          21.317984957255064,
          63.526071767970116,
          35.82425161807697,
          69.47528185258696,
          67.00886004655314,
          64.54567774299862,
          32.00500669455886,
          43.54134977416351,
          39.99045816377337,
          70.11501372815083,
          70.80929239106604,
          48.81223389241748,
          71.06036686069541,
          6.191382641483891,
          69.96669671491844,
          48.82729367726657,
          69.39434696419232,
          68.47538829415186,
          17.673309014736624,
          13.729461411558395,
          71.12957022232422,
          25.05125334087492,
          53.45987455818182,
          37.59987182602728,
          71.9342450948867,
          19.525814948748884,
          22.230026460962517,
          14.62748693655899,
          71.64568017248675,
          18.032509576046387,
          37.319056403064764,
          55.84105401924455,
          15.033389935484761,
          8.83445278491848,
          71.88076279636371,
          71.83222089677315,
          71.76403582817863,
          70.9583106782828,
          64.84047527038334,
          35.937211027937536,
          22.28189559725857,
          7.600698964464863,
          69.24597653289467,
          66.5443623223896,
          71.16606348969387,
          9.202746653477341,
          25.907155647606622,
          23.026848383904888,
          66.1792462478193,
          40.46862009300961,
          71.95195669580022,
          30.46794118529828,
          19.913008051659627,
          11.519019103326666,
          20.70489524711821,
          61.360300416453946,
          61.020865946623246,
          55.100113634949906,
          71.93992572232226,
          69.67454654386853,
          20.911680138894916,
          71.44040327175283,
          71.80120043083153,
          63.07119332579259,
          43.73258093125027,
          64.58200337324357,
          69.65364186643471,
          68.9138715756683,
          25.92991665381693,
          14.91174426258717,
          62.89316404178088,
          52.475591585637666,
          71.838366329233,
          67.79326905130029,
          42.65800051574146,
          69.24723263670745,
          71.93760276213222,
          4.129961525794654,
          42.96970268487692,
          39.81626753869344,
          71.81358281457203,
          39.846218028741745,
          71.53293367558528,
          58.455176763793645,
          44.75455509669601,
          70.75459165770101,
          31.529829207658672,
          6.264827537971753,
          66.84900033395199,
          70.50930169268007,
          71.40977558117135,
          47.84757655374454,
          41.98850614733779,
          59.92868988525264,
          70.45650559103612,
          52.44986622529315,
          50.53730814381598,
          42.91739501732034,
          30.18900129806168,
          71.12755955175376,
          69.18735466412903,
          55.59176609267243,
          35.436352443047824,
          11.680008069185046,
          55.18370510784525,
          50.181416250851704,
          34.24652690571828,
          71.91804479877644,
          43.00769974227126,
          67.71629329238448,
          53.9709452942817,
          31.889159350929827,
          45.09416800886723,
          69.33918138473713,
          71.17396252854275,
          68.22557621890361,
          25.99707864058155,
          65.35862157340542,
          71.56373382011876,
          71.43704354641145,
          47.87540891131083,
          55.24000228140832,
          29.483575137793807,
          18.81560000833044,
          35.335431162868474,
          69.27974986221848,
          11.570596905205509,
          4.235797391720283,
          71.20417138611086,
          70.17830431027276,
          64.47188148502852,
          39.663367348883526,
          33.66491631839087,
          26.64259701980147,
          32.37887578404954,
          56.98170843325414,
          25.274299141221615,
          58.90985365522131,
          17.739269212495884,
          71.93033069032995,
          54.752166985534814,
          32.683694402456474,
          49.77778700071157,
          69.3047849815509,
          68.88805433852303,
          23.301017383032036,
          61.76147283442454,
          35.00731497874677,
          32.08743442363632,
          50.344231746421954,
          54.33108830587017,
          69.55825865290231,
          48.97609896703007,
          55.75459731538534,
          60.13923770225886,
          36.4511569774096,
          71.11775114151567,
          19.35089802789812,
          14.8883215882599,
          65.34824964069082,
          71.77349357313258,
          71.73855996349843,
          17.87203677654992,
          62.24140906800637,
          65.0386585910974,
          48.27943386520108,
          8.030817681446223,
          68.87085477846367,
          10.882133623509237,
          38.891224660945966,
          29.473312938303263,
          67.27598579340386,
          47.094024549832504,
          60.513214643972525,
          68.55958989919586,
          15.351485317525384,
          68.68698771190387,
          18.148504271963972,
          70.05794042407292,
          70.39793917519555,
          27.56826450143474,
          11.763023275563631,
          11.033624524982589,
          69.66525974437252,
          30.38203545523263,
          16.149713184536218,
          66.81371239496505,
          27.07348756264802,
          9.535948052315392,
          66.07862089428436,
          34.7351370516713,
          57.80731176288522,
          65.55080033441308,
          33.959773852124655,
          31.662503650539833,
          62.990493046275525,
          35.54220162790382,
          71.80052563931886,
          66.68129034191597,
          70.64106115592591,
          30.736186808831146,
          71.95485403307572,
          67.09914451956433,
          70.4261983348344,
          67.14503292577055,
          53.262963335438144,
          53.90766992399807,
          71.72656687332638,
          71.96916746022956,
          65.51601600955277,
          5.698756049236099,
          63.829794672032406,
          71.95583739245745,
          58.202075156909714,
          67.02478618926723,
          29.69455304108214,
          68.68862768315398,
          68.70416376469686,
          70.31470854515672,
          51.8399266621509,
          71.9399208049507,
          40.37493595960346,
          69.68125231243184,
          37.84570329499556,
          71.94447483899427,
          70.58361887967934,
          62.08826976445736,
          14.373489469704266,
          69.22941502008011,
          69.36649861655602,
          71.94702902186596,
          43.67922663532481,
          21.186747284545262,
          71.26368547350569,
          41.315618534516666,
          8.310709123806891,
          71.81181137823873,
          70.96925729127834,
          53.52013851481903,
          64.88529424468936,
          67.9409341064188,
          70.45128806818619,
          41.828007218962085,
          71.87515421036841,
          20.266846074987434,
          38.27837944670334,
          68.97432228461308,
          48.46079231524564,
          38.21936813205193,
          70.16890095960062,
          35.00081952711377,
          52.473386477126645,
          52.227102390128294,
          69.38387813884025,
          38.8022896615069,
          71.87349271311207,
          69.64037313340803,
          65.43439805746243,
          15.424552636898817,
          18.415944877557305,
          66.9466841237627,
          66.23749492046528,
          69.88507224757922,
          18.11204723622229,
          37.31232101730578,
          21.802945603014628,
          43.58714403330395,
          26.654092959445872,
          54.19599565781226,
          10.771347574331083,
          10.786649873913518,
          71.17313988603496,
          29.32968078734895,
          55.89620770987551,
          70.58066523504534,
          35.36451991129566,
          8.449595748149477,
          31.954735690882977,
          68.87177482232028,
          71.35234076700542,
          71.87411206314374,
          51.82699073134984,
          70.6289242888294,
          71.31440404440687,
          70.25704779802385,
          64.32256678594925,
          35.22687535556007,
          63.72991863734445,
          55.922231836871475,
          23.34051716616002,
          56.431816289337746,
          71.86741672340395,
          12.325940196380074,
          71.94425533042912,
          70.98340185450206,
          34.666374733786625,
          13.094223280429778,
          21.754639656875142,
          43.036217768517474,
          24.485566327895498,
          10.56272266377989,
          71.94522780691203,
          43.46691994830876,
          69.84125484857466,
          22.929708244629193,
          36.231616692561204,
          70.28702727502758,
          36.477162359614425,
          43.363150198518134,
          71.76711400076721,
          31.24138133512023,
          56.27027246403186,
          59.28640951692705,
          40.478181927214735,
          67.70234208476094,
          31.734710599536445,
          23.535030151432963,
          16.646213687214093,
          71.38897263216353,
          71.85865882023677,
          71.82962760623649,
          67.9428090291141,
          25.02189895201433,
          71.33132782157949,
          71.96938241285497,
          22.212323295167714,
          71.25577323884116,
          5.466431172734744,
          21.365625251053174,
          26.809823692819773,
          10.963332015833092,
          63.10685945230851,
          6.229247304877912,
          59.36976443535241,
          68.00678924758861,
          62.188652292367834,
          15.242939958847913,
          65.94697157213642,
          63.298311754760654,
          28.641097336688716,
          71.06666521116645,
          14.82503959209748,
          61.81067832995936,
          11.805341150211895,
          68.72549381612825,
          69.50995761555568,
          66.69394614021269,
          71.60926900585534,
          63.13317147286217,
          28.082037364640982,
          55.11583295270803,
          36.139808060183384,
          71.96144801383123,
          61.149635584023926,
          43.72988492331294,
          70.92632116768868,
          49.955489082345736,
          70.82600543806323,
          71.9745104312629,
          57.917248773403266,
          71.28802876048647,
          66.27144509297429,
          17.204948262203885,
          71.34393233501035,
          64.36310511478143,
          65.54157163669586,
          68.06143804240524,
          9.580549152062567,
          63.37942962030699,
          45.00101097912489,
          41.15427942462854,
          65.98268064468822,
          34.544868895247504,
          37.309302968776095,
          45.995497164812946,
          49.23858911357107,
          46.47262311216292,
          71.87081210886382,
          71.01804748234537,
          70.42462824695122,
          26.75797759895402,
          59.19383956980456,
          47.14101630509926,
          67.60674398110736,
          46.91687995725045,
          13.653796943836488,
          67.43702261258747,
          70.67015380700468,
          68.78470863492848,
          15.856152802864274,
          68.95788586813767,
          3.428376603506745,
          71.88925674171949,
          28.90544430778736,
          69.34158476930827,
          11.76480181152661,
          29.438138410857228,
          68.2151961218563,
          71.48887277458348,
          69.98109130813734,
          5.291656360554399,
          65.13062353607623,
          69.04647945155023,
          50.88484134937251,
          25.432876776963013,
          52.76129973575879,
          25.786721937398518,
          57.94671786535538,
          71.66137384892258,
          68.82358123010498,
          70.10893517681828,
          23.236599580221654,
          71.42540207284453,
          35.785792458082696,
          70.44385251595038,
          11.126698294050623,
          53.36665064819208,
          61.68674381115285,
          70.82510236738821,
          64.31922817938181,
          21.50000162221901,
          71.06675422414013,
          70.9017376222408,
          71.85167377343066,
          53.30148355517857,
          68.88235710965294,
          6.144012214683304,
          35.34680296658762,
          71.81996023766496,
          58.291312649881945,
          22.851865192942952,
          71.56903583671547,
          68.1566336950151,
          52.252898584044914,
          67.1937065127656,
          5.787994317513828,
          69.8020060541813,
          21.713491970421252,
          11.699428098976709,
          64.76969439437883,
          31.00990074805597,
          69.88694001468753,
          68.04262375691643,
          71.40543818441313,
          13.237411222383589,
          51.83040264052842,
          70.14893796553325,
          53.43170835769148,
          34.22831805699555,
          24.95288889205475,
          62.90709538124473,
          18.980836372224097,
          61.06570813462089,
          71.88946377055859,
          71.95445578475544,
          35.156709857248075,
          51.818986145680825,
          71.72071390217994,
          67.01941281853931,
          41.00141055351067,
          41.59665668421038,
          7.513107054157867,
          40.23787853537841,
          71.65534655147223,
          33.20574072911789,
          71.7042507859075,
          71.81254044291532,
          70.88966651420266,
          54.32377960984158,
          69.0191409276119,
          17.60879499811028,
          70.19911674938581,
          40.345036338164924,
          67.76929253948904,
          69.98093043905632,
          71.48735893360424,
          71.41838005795624,
          71.64310741714105,
          69.15474560799896,
          71.68552456086246,
          67.28838280250864,
          70.86964483241553,
          71.85952979965747,
          17.776737434477457,
          68.12080074412692,
          26.954041574563018,
          53.12575267458255,
          71.66566151217556,
          51.77763543515181,
          14.35313068585363,
          37.25614040616723,
          25.972868106514806,
          71.96484186811213,
          57.11675024355624,
          56.72218403602399,
          71.89800221594143,
          61.631889927815195,
          70.95329001022284,
          4.8782124997996466,
          28.02450000494263,
          70.65396111538895,
          56.22938673015249,
          35.471972050825414,
          71.0951865825752,
          69.2080293570223,
          30.563441978253778,
          16.41400361974465,
          70.36434101330723,
          61.45487113456146,
          70.92327050260168,
          64.52929046680781,
          56.09033314389259,
          71.31832062652698,
          68.8720266072149,
          39.4459252828812,
          69.17436151222194,
          60.75338578024711,
          10.777146414148088,
          35.22087456542727,
          65.006650013612,
          68.63408560548285,
          61.371098315499154,
          56.33149509016367,
          68.5621248964236,
          69.7192000441039,
          56.58998868139589,
          70.76849548550636,
          66.29676587626577,
          71.95580687367826,
          63.79268598035073,
          67.3968267985552,
          7.046317305022408,
          71.87943300614307,
          67.6125205509386,
          55.19474039342076,
          7.70603560338015,
          68.827385095067,
          49.92798592921238,
          70.40795843394577,
          68.80915055371243,
          40.24252113803103,
          31.471127688556585,
          51.4104663643931,
          63.86747613070326,
          71.81464367189639,
          69.89583957551872,
          68.29316269525589,
          71.42776838950465,
          56.239645457611296,
          44.99461406116349,
          70.8080154279528,
          69.06745191983583,
          25.017654777694947,
          71.49140004205412,
          65.85311174400739,
          71.2837333303166,
          70.9087671707539,
          70.11439127231353,
          69.50980505140157,
          66.9275533390458,
          71.76980297023455,
          33.585495598274804,
          21.276041173844007,
          67.40064620847409,
          39.30023325328712,
          22.74699233439992,
          66.18509961088009,
          71.77723815636442,
          65.77376913078324,
          48.68013732874755,
          57.32800148131543,
          31.055871294738612,
          7.165078026791958,
          51.390042859055626,
          67.05738775807858,
          12.49702495559594,
          54.41118283351919,
          47.83451512763556,
          68.59691652804388,
          66.38704490946623,
          65.23788169926756,
          69.75931529806117,
          14.456742776218796,
          69.63012302417452,
          52.31834363045098,
          38.48105721127996,
          60.99078633561835,
          35.4651982345337,
          14.344857256578972,
          40.150811752571826,
          34.14708982697958,
          11.87880696525523,
          47.74399482447585,
          71.61065445719267,
          68.52372970051678,
          71.2551654924795,
          29.339383290159,
          40.05286189332662,
          23.664592723138018,
          68.95705186893666,
          15.557693149425798,
          27.702674544322974,
          68.33886846611793,
          71.64610847851472,
          68.86082509874885,
          34.904965270649235,
          71.82419599901391,
          71.88304217852136,
          22.66129996306647,
          69.94045620294452,
          68.082825282795,
          71.82619402633308,
          35.7823583364153,
          56.62700985510707,
          68.20201214914826,
          68.3263380732746,
          71.69993551390954,
          70.3396061910971,
          69.4769931840811,
          61.64776823235705,
          52.98596104744264,
          37.61061798141756,
          41.01110909610607,
          6.033649098735436,
          57.75582711021646,
          71.84349121972895,
          70.75395064646827,
          71.54355122682762,
          70.82365773843858,
          25.27279207031632,
          53.51478285319636,
          26.901966646905954,
          70.96941853095822,
          68.89715669396963,
          66.94145196288855,
          9.055521662220155,
          12.797775989034875,
          32.394273072193826,
          71.91973322922283,
          26.68968096450361,
          46.00388926144819,
          39.29979052852517,
          33.43277617153903,
          42.37322428993403,
          17.948453784510566,
          69.04120012228348,
          71.29220389864166,
          10.687037428978284,
          67.61219117154371,
          64.80614472265759,
          35.415606119445144,
          50.333633115429095,
          36.26717840711105,
          69.5415307040128,
          25.655994471628794,
          35.92479631639771,
          65.0473578462618,
          42.373008535761414,
          70.5388481218021,
          62.72739835819742,
          61.8800579809954,
          71.7990362726741,
          61.29006188109213,
          71.7226377289719,
          61.08368518241326,
          70.32922532931113,
          55.84404974209487,
          20.991410149235747,
          64.41600519006838,
          51.1262556280026,
          44.003804637125185,
          44.68103443265062,
          71.81016526049592,
          17.081487404305477,
          69.4101238280661,
          71.93607951498191,
          7.868110032030982,
          70.22039774796005,
          70.70046631674612,
          39.54209548790115,
          42.980746226235006,
          13.21390988221059,
          40.82964304145965,
          41.90539681963007,
          33.60630775620153,
          70.07103323153387,
          65.34203966977715,
          71.68954172244496,
          69.60033333056472,
          55.29170760137053,
          28.89317779312666,
          58.1638656319262,
          59.91239541447494,
          14.622489181753545,
          65.87814953107294,
          53.201908437100144,
          67.98956313860099,
          42.44237261280904,
          70.38555553975911,
          37.95805890029782,
          47.66795700327369,
          60.14494788157474,
          71.92106884988776,
          69.64116994599225,
          64.74643692441308,
          71.79934885999967,
          6.259241682784326,
          23.952613319588448,
          41.176964597872065,
          35.065630291095246,
          70.14214439122836,
          43.7929120382843,
          46.9599619802858,
          19.807592221503235,
          67.91098574759128,
          22.59359533671597,
          13.151312815891611,
          69.44298680676603,
          34.86279302028454,
          70.68325161982271,
          60.38785180111891,
          37.18075059985952,
          25.329997836726605,
          68.91023535818226,
          51.18151983331328,
          71.95996114836177,
          55.25338079799701,
          65.91144626928681,
          45.44052899715082,
          44.432752705159174,
          63.19940421714139,
          26.217056136368356,
          25.532187632230098,
          71.58535683585515,
          61.22459725820308,
          25.713038121632888,
          53.22845917452247,
          71.88259613603127,
          50.51391778715558,
          71.89710415032684,
          34.109917989235726,
          5.044908226028589,
          71.64605377475297,
          15.712667340615392,
          11.506675202295614,
          63.24453004383201,
          27.083253040024584,
          9.530474181191842,
          71.84319877238107,
          18.804268047758967,
          40.19004600398489,
          69.20691829958581,
          61.13467362139383,
          70.73616536360757,
          63.38678040198366,
          13.26915770982682,
          31.15471136749246,
          5.943822031260915,
          69.01691751031726,
          47.86822938815789,
          70.70366417124215,
          66.77781470561891,
          52.678033910794255,
          71.70385035840091,
          71.82555550032467,
          37.8259760164956,
          65.73079127315584,
          51.113232858243194,
          63.02567953743451,
          35.81354615040128,
          60.46736298903498,
          70.21508646337895,
          36.25865587648549,
          46.94483493153534,
          55.711483393869514,
          61.54857157914063,
          55.71369521539368,
          21.938062500815544,
          71.721958077779,
          42.205400881955526,
          66.24179119124676,
          65.51987979290999,
          70.85284681443312,
          55.39461841910528,
          63.611166189945585,
          53.62761891981667,
          71.94645246206181,
          41.80054523914362,
          70.92590198317717,
          60.98716200142465,
          70.03782917478006,
          35.67847321406268,
          25.59930174514993,
          69.18860586538366,
          65.0170729299479,
          70.3451103543871,
          30.4294075345975,
          71.39325190695303,
          20.151702172430426,
          66.49744859495547,
          20.48177284303327,
          26.306336142639204,
          64.64491518093493,
          64.25428419977206,
          37.74793538944928,
          69.18058441954807,
          36.580440647079016,
          67.43304002874426,
          59.649818966683206,
          71.71783411178373,
          71.77813468606644,
          69.81746361262775,
          40.51603518414282,
          37.81476197058228,
          63.336616765229294,
          62.184061708692525,
          67.72365848543902,
          8.333511076415343,
          57.72376202930462,
          30.171388089817565,
          69.24681926157639,
          20.227554186236695,
          57.984172496081484,
          64.86791127022596,
          71.63650803845766,
          39.69359635499729,
          6.683592366988019,
          16.7508594684274,
          41.870605861162076,
          40.562033146729135,
          63.234161410329996,
          52.85702169260311,
          71.9287942201587,
          63.277791003880516,
          17.03393077395166,
          70.79792685306654,
          41.40885758463131,
          66.29045969234755,
          65.8796411376191,
          49.81673285391105,
          71.69773984299088,
          64.44888049316907,
          46.473815742920834,
          67.22561431194393,
          68.93014188367994,
          36.44559595903361,
          8.151113142630711,
          46.258290510247036,
          61.896856273981605,
          42.485244825314226,
          70.22586436800108,
          14.017883593514656,
          10.277457411187516,
          69.60409855981257,
          16.01578209322426,
          36.38008970257516,
          70.31328950968876,
          11.51371609216628,
          49.49603527188056,
          23.871818159022396,
          71.34820582928856,
          5.403434467556015,
          54.026254302543336,
          5.590209962269704,
          67.11123347721627,
          36.32295396858413,
          71.94679788709276,
          71.17994872991446,
          15.687682129990646,
          68.81799261918988,
          63.753400601649226,
          34.94330560293339,
          46.11307990206863,
          41.497506189753956,
          8.783778036328115,
          47.69238149130204,
          64.1950244444199,
          70.66485768935094,
          71.75715084737628,
          38.06132402719806,
          6.031954841052747,
          14.23585042916331,
          70.8936176341545,
          71.5115131671754,
          42.71879804838598,
          71.80849215893387,
          71.6290720654458,
          64.8809975270749,
          36.554321513196804,
          50.830680968332686,
          56.02284100759336,
          37.03412068925168,
          54.621816108002584,
          71.01596684116123,
          71.72032212956415,
          24.41763606763271,
          42.385406322876314,
          23.9676830198477,
          60.360708925158754,
          66.37538907390913,
          52.025622133686014,
          70.01420146353956,
          32.961439896190825,
          55.28016542202734,
          51.050635491181666,
          36.980294661807264,
          59.21996967337266,
          60.71073424983295,
          37.66824507096413,
          8.826374793251455,
          36.03202717778253,
          70.09596037213414,
          19.617563748324002,
          35.99042224949078,
          33.75510912715833,
          59.586854575216265,
          19.18947210914334,
          19.51296172704433,
          70.09511177004613,
          71.73962430663411,
          40.61976189247805,
          63.571503632369385,
          36.72235125419419,
          35.28324938447499,
          71.96614499416768,
          65.80871714349672,
          16.893715878993962,
          47.879843977628326,
          59.03604811041069,
          56.61139963813763,
          42.4202014053911,
          69.04606398382536,
          12.62473603611607,
          59.41648754532986,
          51.074257651876145,
          25.589577752450467,
          70.22002644949293,
          66.04017876078295,
          35.47471777134575,
          41.4721839196435,
          71.92148555154972,
          64.5321267414582,
          63.43149724886236,
          25.706922911456118,
          7.660384270771197,
          71.15461168386469,
          71.87080330847513,
          36.033255768906926,
          63.76457044737007,
          13.236808128695149,
          44.69526257275017,
          71.29909528721123,
          12.10082676418715,
          69.34033294363564,
          20.309278166950293,
          62.353554400924494,
          45.22636344612944,
          37.53875314844012,
          58.7174370317129,
          28.870424205188975,
          71.79864533092072,
          56.24475813173055,
          45.2502659631898,
          69.77248835860925,
          50.07866550644283,
          34.49510148852918,
          71.03872333438497,
          69.0477640382647,
          68.15607040534209,
          56.449552757501664,
          44.35141301519249,
          50.866369250365665,
          71.20104796629597,
          67.5544519641353,
          25.25781273326247,
          54.797252193599135,
          29.160143973413064,
          67.2670778919127,
          23.605743531908928,
          63.060122139428806,
          34.06512888729478,
          11.518851913290284,
          70.58693058520863,
          13.5628167328682,
          9.243812801762909,
          15.520040353211655,
          71.90488379811228,
          47.45274927469994,
          62.327197560226914,
          68.90235050098985,
          56.26532540152639,
          69.60137133260275,
          66.02723650178038,
          23.831970870280106,
          29.675743915871543,
          71.69733793435117,
          70.9530199312035,
          56.18166501889877,
          17.592297861386264,
          30.108544642247985,
          71.87694582650482,
          71.85052263059526,
          23.459134981345496,
          55.57368840798529,
          56.667439549946636,
          16.52690586231808,
          71.25931933450929,
          70.06259743588026,
          71.98011136220981,
          20.711805358137,
          69.41805632938397,
          61.65107048892257,
          71.5055966194112,
          71.9209401666973,
          69.9867918745062,
          61.9111410005934,
          9.204213649920451,
          68.156743067419,
          71.77596536383118,
          71.97055718634539,
          69.45256310824577,
          47.205927535226564,
          66.6269670097798,
          71.85965085924097,
          66.16205068964297,
          65.86463090551948,
          69.81089675622982,
          19.10751288225054,
          50.3892499205616,
          40.60831710530677,
          60.460841401308535,
          69.84127519894282,
          71.89316687253599,
          65.17236860625448,
          13.256097323201743,
          70.52636671282224,
          34.970144923199626,
          6.154237130545036,
          68.95515810742884,
          71.8703320278048,
          16.145357993873006,
          55.955921078908155,
          71.96444624529569,
          46.01845338356878,
          53.136029004071986,
          49.2151748264496,
          70.46782982772164,
          23.901734311865184,
          71.77128578449137,
          68.88862362912143,
          51.14941380146844,
          67.2636797476286,
          59.054628165943136,
          44.08907584090936,
          70.39301288274243,
          69.0485713679162,
          51.570739512559726,
          69.31033622773828,
          68.52424387151552,
          17.558651918820512,
          62.17392710739306,
          71.677623860627,
          71.73998029625875,
          40.86722644310218,
          67.59440800326612,
          71.25417722108446,
          65.08245906807429,
          13.777978932075742,
          35.45937142676372,
          52.3772495171841,
          67.17931022749184,
          33.96691086787742,
          67.46836793614924,
          71.89778709869148,
          52.31172066772427,
          69.01059933074808,
          6.430774603701056,
          71.60102063771741,
          71.78447670052572,
          21.63834628583242,
          71.862039569427,
          55.99642869461825,
          35.408297256715045,
          60.103092622125814,
          69.48556848081667,
          24.152359670623614,
          70.35101615275255,
          46.253332705675135,
          67.07060978024043,
          68.40909696440116,
          70.97438398261926,
          12.394204935998232,
          70.68133136864617,
          23.811511256756464,
          71.69386331896496,
          65.42064160600253,
          67.31659195521547,
          67.75928655082083,
          30.96717580243177,
          71.73181755015605,
          71.52906389187213,
          71.71607001864885,
          64.25561153877749,
          47.60706064024896,
          63.93091793040455,
          71.13731618482501,
          71.88379824971315,
          63.90654925779444,
          71.61066568994055,
          39.97576707540466,
          70.86734960127933,
          5.224815820530362,
          43.31107148921199,
          62.87301015237906,
          70.08634034474805,
          55.772623465798745,
          24.40178189503723,
          70.79162837916338,
          68.48205503381024,
          33.28011002056593,
          71.72992069738409,
          55.300521814845126,
          19.441242420792715,
          61.749237627380126,
          27.862885933415484,
          5.38699052385838,
          71.84674393965355,
          48.05702858255747,
          53.84547659788523,
          64.28270104187887,
          62.47299620416078,
          24.88668757343369,
          55.244129214023346,
          23.22225454243644,
          26.451841354989853,
          71.87708018985961,
          57.64606373449577,
          51.314058370303165,
          5.817193173912977,
          26.98653755379832,
          68.80299155344895,
          32.41943554863181,
          18.36736442640668,
          3.7375445290471996,
          37.35070451014537,
          71.8524576166078,
          53.08574299106331,
          13.82075215176933,
          71.9139553392153,
          49.815951232047524,
          62.47011808885194,
          31.51229219452736,
          44.34210830536465,
          49.72672740983973,
          14.087080527848304,
          64.68206226765854,
          48.315748916517975,
          65.21452435303047,
          6.267775791082212,
          62.4593062394399,
          40.114185526887574,
          21.38594613785861,
          15.205170840355578,
          61.28664782554765,
          68.13955075146123,
          66.66586502657788,
          26.76493514111712,
          23.6701881911452,
          58.022163790492016,
          69.32678920129484,
          16.77267130955877,
          63.05435869937868,
          11.448137854757995,
          71.80671351373569,
          38.66532462036125,
          56.68152745323022,
          68.29406034545823,
          44.74947720391408,
          71.4839772235959,
          63.249608874547896,
          34.9586422477894,
          38.882459676565745,
          43.597702574093915,
          15.375016147934929,
          56.283178274968364,
          33.06244676209457,
          29.215052203554432,
          30.79119032437044,
          39.45517389683478,
          5.640244219333166,
          39.53873487830439,
          43.04834572162685,
          25.348126964468854,
          68.75438903019722,
          22.574487377747683,
          56.39812430362524,
          42.5980139688353,
          40.98417700748165,
          45.39228726781509,
          32.635020881437526,
          29.435587458629985,
          71.1787377069446,
          34.69169724428992,
          67.85413111448662,
          71.7635925967841,
          58.01578093561938,
          40.45438356178839,
          68.3012720751966,
          53.51629076247095,
          71.50987707052616,
          39.11380501116855,
          71.83848917940632,
          69.33159577336039,
          69.19041219759025,
          71.02030694340556,
          69.97680093467191,
          61.75805550292418,
          70.32637661375506,
          69.5945242910154,
          39.7494082934482,
          45.327551692194476,
          48.420368139592156,
          35.48622771619992,
          69.69190313096891,
          64.98413377944098,
          54.77824913466201,
          71.92995002976889,
          64.39244507656488,
          40.81656956948509,
          42.293526563019356,
          68.40991603095168,
          64.58465891252902,
          48.005752876331364,
          70.7044409742766,
          39.85952911198905,
          70.81094801128896,
          68.89340507309333,
          70.29828350410489,
          24.305705025142277,
          66.55149934397866,
          62.888655268252165,
          58.89667691495018,
          66.52117282395926,
          67.56882044734047,
          69.23919287393733,
          70.27955457786771,
          71.9171769789181,
          66.39617749723449,
          71.54342710154776,
          67.20477976924045,
          4.594060644649565,
          71.7407406979209,
          66.98522223007171,
          69.37843917462726,
          34.93947148740208,
          57.94152439244036,
          26.22427273493146,
          60.559639365141194,
          71.90626178292455,
          69.52759520229628,
          47.70699570365004,
          25.262413413857892,
          62.483266011634264,
          35.96891853070167,
          37.425982008628125,
          71.90309740480157,
          71.96241601247075,
          66.0931605678036,
          42.18290887422623,
          71.96615714982941,
          34.69304512398043,
          51.23519818710665,
          11.54970130675555,
          69.12764939848415,
          27.85816549537627,
          4.478295379471834,
          59.18644827801476,
          47.606068155352474,
          71.43062399912147,
          70.89781055505783,
          53.929509937511256,
          71.64679379754058,
          5.753109318292605,
          14.832601199525492,
          71.72027050518037,
          19.565753376942926,
          64.70066781322696,
          4.634481797236978,
          71.91917734683787,
          70.20871318762678,
          53.91999813109078,
          35.520758508285354,
          7.527222324728346,
          27.53133580232618,
          24.547682896153773,
          21.545229565612935,
          57.26485317053204,
          14.654024767488764,
          35.97052188533159,
          11.763871306558741,
          3.813001491223205,
          71.48813963802542,
          54.01909895909859,
          61.4141151692656,
          62.60887353252926,
          30.418012111493027,
          54.70686036571618,
          69.1189149544897,
          68.20864581902221,
          52.726921442180554,
          71.76249686202485,
          60.19030154082682,
          6.913420821878587,
          14.675809673666574,
          71.25569704852889,
          54.54500839968502,
          38.69047585324491,
          31.034083407399436,
          22.74910536995683,
          70.94262833955081,
          67.40867783375313,
          43.08370095595429,
          66.75406373199262,
          71.9710330225099,
          71.59747403318521,
          69.93108010313638,
          54.383006164401316,
          17.95579569109251,
          54.4267242916611,
          71.96067536502196,
          62.77315517180439,
          70.81050782497968,
          46.76454888320461,
          21.950196641251875,
          56.664942363330034,
          14.191187224287903,
          33.72448346452981,
          71.51801891317524,
          7.726507618055482,
          19.676604045899857,
          34.96631067980632,
          22.394882458747638,
          70.71669397443367,
          64.50939324131559,
          36.7960691894894,
          49.08002930800761,
          15.573502167853338,
          59.621513302757535,
          55.18743779129084,
          52.21730523976619,
          68.93113863153441,
          32.07230701559599,
          57.02411109003695,
          9.637957458017903,
          24.803568401945363,
          46.670085202328266,
          71.54511214366823,
          13.14196842016012,
          65.56266516922825,
          33.073010112705504,
          46.12865677317689,
          35.68666758345425,
          51.014688030662015,
          39.73952023453471,
          46.97026141996212,
          66.55106276278246,
          68.62405865961249,
          51.949845681680294,
          26.703493528670016,
          68.8971994650642,
          24.32752050610997,
          71.80193393992798,
          5.079988787816523,
          61.6588608468513,
          70.33878728754755,
          23.672262410775335,
          71.85313265542524,
          46.76172052429714,
          35.008497954602646,
          47.58155512319365,
          68.12106396872554,
          70.57028134952697,
          48.222307276462985,
          7.702228632377604,
          65.97303288137539,
          71.94171031864269,
          71.54338635515488,
          5.8032554139656485,
          71.34151453540903,
          51.030468132531496,
          12.097827012520312,
          63.52456049643696,
          68.36426352722813,
          68.71465040623937,
          47.49509711203481,
          71.1057493259045,
          45.65524081688133,
          61.90226096481878,
          70.49130987285034,
          62.249566992570564,
          71.58862533680933,
          67.17929651328225,
          31.93061968737174,
          65.9994705439523,
          71.68697101757581,
          69.537739898482,
          16.891104137441502,
          71.96074451640905,
          29.8555970244515,
          48.01505984437256,
          68.643616618465,
          52.90653508612908,
          21.690473496864286,
          71.93393936066315,
          32.693509033643416,
          71.12872927868469,
          15.039328241364064,
          16.33123379503958,
          55.97315312365077,
          39.32832595311446,
          40.5237791255364,
          41.19598953063118,
          60.87310100617938,
          66.45344191717973,
          43.59192461710581,
          36.24406166359892,
          51.52237896240494,
          71.75563493230806,
          30.408628782273464,
          49.11103496931163,
          69.20763978297926,
          71.61550568462332,
          39.381871116663675,
          69.62169876441638,
          60.86562244360532,
          40.51282973602863,
          70.8067610013281,
          19.494694003504545,
          32.332649236620895,
          31.69357697968359,
          69.03207337308602,
          71.32090266724362,
          71.94401594604244,
          62.02027923322647,
          10.703662811559745,
          38.982669585899316,
          35.87959506553943,
          71.89556954823678,
          71.88535434775278,
          68.45728798952607,
          64.55954544887916,
          71.86772064116924,
          64.43370211005565,
          68.96050040637111,
          63.6164460970997,
          36.27474473372328,
          39.87584611272849,
          71.73122419944798,
          70.65446240192418,
          70.91689927018665,
          11.72796252617425,
          53.067763931051346,
          71.8863667777576,
          41.79558277538021,
          49.23991656285015,
          67.49825299844582,
          71.79689275574992,
          50.413942414187716,
          71.80195532784201,
          32.9784414460069,
          71.87833582734808,
          69.28478746481426,
          22.286280050898235,
          71.6766922636404,
          23.373738936138707,
          43.33666818518894,
          59.06119611749962,
          40.01428943783283,
          44.08193408620882,
          44.80336948215384,
          41.93945985964733,
          71.86571321393805,
          55.118651153784086,
          68.5949795581181,
          71.58751332577381,
          36.89271004649269,
          32.52358940187173,
          39.50075239312585,
          13.086230096601755,
          50.07006091612597,
          67.89965502185754,
          19.640777392703747,
          71.96218538171921,
          64.06278676701612,
          25.006953234885046,
          69.52864161940542,
          50.2790680279345,
          71.9318034803367,
          71.27577049800625,
          64.54446175184027,
          56.242124753463386,
          69.58401032017393,
          37.95607030349333,
          7.236682670100937,
          71.9539923133277,
          56.83062952761895,
          70.3956235881813,
          69.5981938651875,
          70.38526546286164,
          28.33678098610769,
          70.25579174988675,
          62.749052570789836,
          35.20851155842931,
          69.06535708807576,
          65.82605719601347,
          64.71087863997387,
          71.89803339435167,
          30.538740877458704,
          18.03550678960918,
          50.54500751695812,
          71.37586335823782,
          24.2102926336513,
          15.429592435031136,
          71.90557605767933,
          61.37430041123069,
          36.12918339633306,
          49.54043837443574,
          54.59670442810773,
          71.33463700864976,
          71.93955762334157,
          68.07615282634922,
          71.37981057923379,
          31.03192460518635,
          71.35929137384598,
          25.921753028227446,
          43.57742155512142,
          65.41745707348612,
          65.05697696454914,
          71.87962266101391,
          69.85659936911253,
          71.58941961958706,
          54.81086765538801,
          41.31149739707972,
          7.745273047502861,
          71.91406585883658,
          67.8087577795217,
          19.875720712906293,
          57.258218037807865,
          52.07291195241967,
          44.11961317208055,
          25.884927452800806,
          62.08445026828956,
          71.81829530248338,
          69.7769901804041,
          17.58006740148878,
          70.07547483166618,
          70.58255844260606,
          30.129151521643514,
          69.22423284064115,
          71.79401638157096,
          59.98382043999533,
          71.68263114735585,
          71.04365539026529,
          71.69272317079489,
          21.527482493827478,
          55.07863331579142,
          69.96434576762317,
          51.94940368436268,
          26.305294584412295,
          71.84913021538235,
          34.96631067980632,
          71.89652668683387,
          71.43323770011531,
          71.906840439573,
          14.685221608813823,
          71.33454837056756,
          43.402352986289415,
          71.9559924702175,
          71.60658611837408,
          34.95097388882232,
          60.384730907402115,
          33.1521864028461,
          65.04157457985947,
          71.97007072397264,
          71.78951333352933,
          41.31145606207897,
          35.67803994368976,
          71.88195661284877,
          71.19390825373867,
          45.13066191012466,
          70.72136614321408,
          7.138086360063214,
          71.923911869432,
          50.89259090581101,
          50.1778285470766,
          33.24542580232199,
          7.402914903708137,
          63.62679447913572,
          26.490651858659,
          10.525592126344335,
          66.3813314878729,
          42.854574048826066,
          22.605699996581716,
          13.37666520615837,
          63.78624652316185,
          28.375398762310844,
          71.18349198736112,
          66.64143972933164,
          70.85772333734315,
          71.81819320244365,
          71.92044498325144,
          17.5629975329761,
          68.24155027984236,
          58.619907263762954,
          34.93947148740208,
          32.7253829201863,
          23.988471858371735,
          69.8469400576005,
          46.23283196787345,
          64.02072523424616,
          68.60827802374865,
          70.73605703907305,
          68.26693863267226,
          59.790742723375025,
          71.91368340277992,
          69.61930119142849,
          49.478435102279775,
          9.959310916957152,
          49.11621779503467,
          49.96654728181005,
          9.0931657690696,
          59.00612149729345,
          63.16537887693471,
          40.7584477072582,
          18.482960663454644,
          47.67641297416607,
          6.778089302934008,
          71.91972484186576,
          60.39026536629433,
          68.15352580977091,
          49.71107242825258,
          36.79487224207858,
          26.500458555453765,
          47.957337285350576,
          60.58112179714412,
          40.52775345136517,
          64.28228982391232,
          66.93879217794122,
          54.55871884448915,
          70.89392483405167,
          68.70000129039897,
          19.031036065872936,
          55.62607899877621,
          68.8528916746512,
          63.77322105054526,
          50.777854331010985,
          61.36875770163766,
          70.76646749055811,
          71.89704509846045,
          13.262334850955442,
          63.42512965634853,
          35.302040486773464,
          58.15504690709609,
          26.509205414976954,
          45.42444440659719,
          50.15353856486714,
          65.90442147183317,
          21.20360015393935,
          71.8216381756323,
          60.91583384539581,
          26.276497115898465,
          47.20142896798667,
          71.95008157073188,
          66.92443146354015,
          31.182959798644358,
          61.23155296776379,
          12.593591242637233,
          31.394340624673344,
          70.26830677075291,
          71.85815883920709,
          69.53477049261446,
          70.9018163129349,
          70.17890577843218,
          11.399325010647832,
          71.76135331437027,
          71.78870230958823,
          69.15221431214084,
          26.715918418767323,
          45.48545038014726,
          71.28946030951853,
          42.11491136534643,
          61.02614150019252,
          62.58227330957719,
          71.96352047473258,
          47.187461930144465,
          51.826395522556396,
          59.32744050714502,
          60.308860421561775,
          71.04929372364964,
          71.82462958184689,
          40.85658674540504,
          15.958279697600153,
          10.637523531725503,
          8.571168663672175,
          29.587200638889914,
          33.72448346452981,
          33.29839093338191,
          66.35209999354132,
          70.67685169830062,
          70.73276901146549,
          71.6506136582864,
          70.16879862456983,
          70.57962773075243,
          71.6076710312015,
          70.00580298466778,
          52.061982200961175,
          41.267331929949655,
          70.14565635172417,
          23.08042016200396,
          68.96416229214763,
          71.52764475021354,
          26.99282864544272,
          71.76491649553341,
          57.01469574746889,
          70.13603004320862,
          11.852574241096558,
          63.875621003805406,
          34.49547710690004,
          61.490974651411946,
          57.890964662951106,
          67.17823935995077,
          13.96142275601729,
          71.76779158152917,
          43.878294281637224,
          71.96790245713275,
          32.42491174685515,
          56.2182148348013,
          63.016798137285356,
          33.81400801618926,
          9.292209633526328,
          59.90364062075897,
          44.95343839398588,
          71.07543504658285,
          13.473556788095394,
          65.65158429219446,
          31.7736403232226,
          63.462590229059884,
          7.993224530368854,
          12.65840726870529,
          50.766758747900255,
          65.8716546455914,
          46.96625492985919,
          64.76339829276164,
          37.341115428948015,
          71.87278932941841,
          69.84715684836951,
          36.8825210923594,
          35.62471867411615,
          55.82955639557629,
          39.55071602695182,
          10.550128457467526,
          50.554896478087024,
          68.08658369921923,
          50.80189371574734,
          14.26083200088322,
          67.29019943201095,
          46.248705970433335,
          15.20284051868665,
          34.18798796091535,
          67.37266828083528,
          68.81199985625987,
          68.71238647250844,
          71.3141355560401,
          61.204598323153604,
          66.78198732448452,
          19.887742016713425,
          60.479384450301296,
          59.560758292927275,
          67.3914417101696,
          71.94092262711429,
          57.19008151120053,
          10.480650401454756,
          71.02750460368736,
          62.603378471733905,
          47.95352743431332,
          68.03917383768749,
          71.46881326984564,
          34.140998677023504,
          70.96712073461846,
          35.45289043085621,
          70.53593264680302,
          68.75120752320817,
          29.221426163225345,
          69.4835511453654,
          20.565433161614575,
          69.1861711399329,
          70.73651057004375,
          70.42566193134084,
          71.73874228310154,
          67.25765263827032,
          60.90105199253522,
          28.607705463087306,
          67.01903443504914,
          16.170177541465904,
          69.70932998808524,
          67.05811559553457,
          48.08371994767749,
          70.17098540823235,
          58.631796761909555,
          35.5552907342753,
          71.9548460571589,
          40.45790837316707,
          71.91925998858467,
          29.265847631672788,
          70.2518730373877,
          44.680343150250394,
          68.83445130836378,
          69.5337366517374,
          10.80048949336309,
          37.15834606236166,
          63.07313109196798,
          68.63933197614692,
          20.457891069483487,
          70.51025023892365,
          66.34946548117937,
          8.78741405442386,
          63.52828217951101,
          19.591809790988073,
          19.660073642926235,
          43.95461544688335,
          69.6150450188056,
          35.49006439997069,
          61.355955494868574,
          69.35517053355912,
          30.980296338193497,
          23.889370528096663,
          62.35132587740467,
          38.593103146502074,
          71.29192530441216,
          71.63389853868425,
          48.06247389464984,
          35.40703069102736,
          11.318496252491089,
          45.89358390384143,
          30.49279830619639,
          44.55218962704036,
          70.7204668428526,
          64.16691796505974,
          43.64180664920026,
          68.27343457033375,
          69.7325999325413,
          52.427631902873166,
          67.26459078079058,
          63.76586466448421,
          33.70048319045671,
          56.312175367095975,
          71.04525132705686,
          69.48632557060762,
          70.37113596910724,
          24.153472508455707,
          71.69004747084941,
          45.32593694497233,
          54.87249078003667,
          67.48290818723916,
          56.55135989180705,
          36.30781460056426,
          63.015105121763625,
          68.20445640126924,
          35.151524193196074,
          54.7638175614525,
          66.55389093782334,
          70.79970828894969,
          71.70440429152883,
          64.96591689744933,
          53.65423898655467,
          51.148120500023815,
          71.95494549274689,
          62.22521545632662,
          23.327928611546053,
          56.581629786362896,
          36.14430477504176,
          44.53842882417868,
          69.00672491462477,
          36.3639869435423,
          41.89913567041579,
          68.099024423115,
          23.656977370428514,
          65.8570831702099,
          49.390906756375884,
          70.4077012042175,
          55.20507212552721,
          71.86295713056415,
          71.53870341545004,
          61.259561439848675,
          39.80942488356005,
          53.205834782013696,
          34.92888813876937,
          47.64180178629753,
          60.986583789688396,
          71.56551486786552,
          38.56060257641174,
          48.358655669775764,
          49.57884847964664,
          70.73744603636408,
          69.0552749327118,
          47.387335631548716,
          30.557156747438263,
          38.70949035275048,
          7.509013893634407,
          35.16221812484575,
          51.94385132100874,
          71.87432625129563,
          38.021793026987964,
          68.1930180031037,
          7.118328720741488,
          43.8319173556648,
          71.10033587951456,
          14.049342285327267,
          47.887732029307415,
          36.723937295490444,
          70.69876670676958,
          71.8441993153638,
          31.382017404703483,
          70.72761726428907,
          43.01153196262676,
          32.17832899558707,
          26.868744382448313,
          68.77200756711841,
          13.171061950439974,
          13.260716137827611,
          71.40192301592367,
          71.53754833443033,
          71.78093183885119,
          41.01672445361992,
          71.04711195180876,
          62.38561723428604,
          7.399500081929786,
          70.39289913795662,
          51.74160809230719,
          11.931636505083347,
          36.15753423654556,
          71.86822626422526,
          50.52536348004044,
          17.68414717591794,
          66.84826100557622,
          70.36590757230172,
          15.487628250547681,
          37.816651299064496,
          71.88766845822852,
          69.0546716141964,
          58.46807600302725,
          7.995815822403635,
          36.30880392709302,
          19.17081831661709,
          8.498957909409032,
          24.633605953846576,
          70.28338293317715,
          69.69836573706276,
          68.74368762563292,
          42.36042794312978,
          68.84360527855247,
          22.252404266005932,
          64.41024035364435,
          65.41511814937878,
          71.8035073984939,
          43.07922808995089,
          71.86362885008813,
          24.490461823755137,
          59.52470961608047,
          63.64023123291957,
          52.23858350805736,
          44.32094295552838,
          44.40665650553003,
          9.529377997580696,
          39.986470586037655,
          71.92525705383713,
          71.66733600232553,
          42.766514613718655,
          22.488180467844458,
          12.086165836927837,
          46.235380762432875,
          50.055955337689724,
          34.35321947382704,
          36.65025600943354,
          39.97218457680225,
          71.77524984696943,
          41.60650667957271,
          69.03750226948776,
          71.74513947378806,
          69.50765649299746,
          31.36811665488984,
          71.87238750244559,
          10.2429864960926,
          71.96547139841076,
          12.370936045007003,
          6.671289709329306,
          13.897700103707754,
          71.6770763759232,
          15.672054477466986,
          39.6248666048447,
          69.89353139599389,
          4.5097571633577855,
          43.19784724008837,
          19.2459660038284,
          70.43226993473563,
          7.530632251133817,
          59.14384205449431,
          57.1078090551474,
          71.82156053022473,
          68.05868159469951,
          71.75458714254522,
          52.50137498746912,
          70.19801794830772,
          71.51381289046856,
          70.02244865011338,
          71.90726452617324,
          10.616220166975046,
          71.90119151562615,
          71.87756384906476,
          6.218816041721285,
          41.2770501753602,
          9.141889510398808,
          67.06404624832729,
          54.51612936240624,
          50.57780297245978,
          4.700605443007408,
          4.446851137613704,
          11.763455439599802,
          51.50760347698952,
          66.61606131137361,
          44.44218913907633,
          50.41401124417178,
          57.51173667296178,
          22.68795708640811,
          61.32367611384869,
          68.29304882814955,
          28.061549158843,
          71.9591506549592,
          50.39929658176992,
          25.141208923479915,
          66.54934117613979,
          61.64257659916402,
          61.07722325440554,
          71.97364009238032,
          59.95819476004509,
          62.76041124351374,
          67.84890903132609,
          59.20069686232979,
          70.02994051133939,
          36.73396145987597,
          32.429259990021116,
          71.68533066494277,
          69.99003467921744,
          68.87321915856973,
          42.56876279013251,
          35.449075901333366,
          10.953586119243832,
          71.23382852925859,
          4.939884167402235,
          71.66434508835712,
          64.84502386729736,
          71.91028683377229,
          70.4575493873461,
          33.21965246101845,
          71.91248177690488,
          64.48115362399172,
          70.1863307784771,
          71.60582990201499,
          35.20092337273066,
          70.26196854737182,
          18.241284799654593,
          34.88489795051548,
          35.50157455768287,
          69.26728961839419,
          67.08478545670843,
          61.03143555506569,
          42.1743096327875,
          5.324897160437861,
          31.522756374154426,
          43.30179724075684,
          40.170545277263884,
          20.39343897924614,
          61.926216807041556,
          34.01256060311921,
          62.13698729583404,
          49.51131068440745,
          64.94436207325792,
          59.70143405317471,
          62.74623056177967,
          26.410717543977427,
          36.051223150716794,
          62.16405213934523,
          63.9765077633385,
          56.71430638349492,
          70.606241586044,
          26.629441085544705,
          69.65494393938368,
          16.45931172999598,
          65.79176475686691,
          25.10001459079957,
          70.46975992081094,
          50.22557079833507,
          71.18689839939475,
          71.71945766338601,
          18.605300601779398,
          67.17768230496571,
          38.80878643916561,
          16.20385368949136,
          24.703007416796826,
          60.32111630397446,
          47.50284784780234,
          59.25855997017332,
          38.614059704401576,
          24.957847698965164,
          18.32401703153378,
          71.92076040222395,
          71.71697423404024,
          71.11534142800072,
          50.093926940327925,
          61.50473855252174,
          67.81778998163247,
          60.982985072898664,
          68.95400902840788,
          71.06159018825562,
          67.12604329946873,
          20.348030554017573,
          13.419689415858876,
          13.823369805654004,
          70.1096346283783,
          71.79705447228137,
          64.81753602226624,
          23.158358561227658,
          35.49390110147755,
          19.00662463716284,
          69.07983499258017,
          71.73696464877733,
          60.23685814073734,
          35.93989245811251,
          42.796098264845014,
          69.63080546423924,
          39.91008908306245,
          71.72534307028634,
          24.71057128503582,
          71.62788517941442,
          69.53091368604171,
          49.73971468417446,
          70.12907087527151,
          13.456798749955649,
          25.61311893745676,
          71.94499985884303,
          67.62689064541556,
          69.41291842092701,
          30.046337220133857,
          66.62717425037694,
          22.887825845536256,
          57.85599750282469,
          69.52057119089885,
          69.24322799767201,
          37.59811140234764,
          71.92914329817503,
          63.63681322257838,
          6.482977084480727,
          66.13307482241325,
          18.06747610694793,
          71.60833123092287,
          71.85807423396388,
          71.89674739833715,
          68.89430394139418,
          65.34218663791552,
          6.927399197838882,
          36.000065940492746,
          17.03649247265238,
          57.95141932175837,
          70.9222714338958,
          69.15159647877053,
          46.07892502629677,
          51.146265281972575,
          13.75217047387841,
          34.150031564983415,
          25.91862180108513,
          18.358981786954004,
          24.47424019820521,
          26.649411294682828,
          40.40833555731744,
          27.273433513029566,
          17.769483651510633,
          71.87974026310263,
          71.95271620300852,
          4.93663303290819,
          40.557688175730064,
          35.58215012162711,
          58.06112359838869,
          5.421521255863304,
          50.935265030406754,
          52.902242670428045,
          20.794194618723434,
          64.51171363162763,
          59.78531557466532,
          58.234635364252284,
          70.60331410916146,
          71.65151169631676,
          18.847191299018796,
          19.580297088347102,
          31.877819139170178,
          13.079746674733599,
          42.18057430941532,
          63.84053890605148,
          17.47070914729701,
          11.007462378236715,
          71.96972264942268,
          34.23004326636635,
          42.28782429730954,
          10.37157009805141,
          33.90974405751613,
          32.886129363223326,
          68.49920156388208,
          70.49678202535672,
          10.997081383762747,
          8.643758177718606,
          23.104898229523013,
          71.94551589608575,
          71.82575683124254,
          60.797660109917786,
          58.00839795121098,
          48.130951611525035,
          69.76894170095053,
          44.84078584670457,
          43.706391396296794,
          54.13259087746709,
          67.13674022444764,
          68.12909524521218,
          70.0675038988314,
          22.535209482630993,
          71.92017027003035,
          71.17734025370959,
          15.265345723142008,
          7.428851250660973,
          71.93544155401709,
          25.12373293844232,
          71.94213882063633,
          36.22452550269233,
          63.911958830787896,
          71.79053429056066,
          55.27439692134533,
          65.75391133784001,
          70.3045292630146,
          45.54018352238318,
          69.44879792003032,
          33.55542574696698,
          60.799931458632656,
          28.284728058978676,
          66.07778425132616,
          70.06829545222038,
          57.83605538814258,
          19.636308512243502,
          18.098928755963456,
          68.95346412444897,
          71.92192056569527,
          48.790974265677974,
          68.42122917460202,
          6.98501883988476,
          27.87351736992359,
          34.8721091802704,
          17.7406195090944,
          71.96720326427507,
          63.17804057542648,
          67.85960770946035,
          9.936782281682294,
          55.30765844760045,
          56.89826144376786,
          19.89239283643019,
          70.46456242915458,
          71.53905670815062,
          17.764723618431113,
          57.21699634693968,
          12.07761440808287,
          71.52149220380709,
          63.03118626921758,
          38.58577150162043,
          39.48897390130533,
          59.85057160171282,
          58.829433285464006,
          17.18984132712844,
          16.730858258763618,
          8.274488771517552,
          71.84444347898547,
          33.39471587277873,
          55.675890743681016,
          71.94301203977398,
          71.93745698572164,
          39.64665325677342,
          69.43559129912805,
          40.24351278918695,
          71.21025952414541,
          71.800035371489,
          30.3858115461666,
          71.89293742953686,
          14.695000831420922,
          68.71565841598047,
          41.709635864668634,
          48.19453312500407,
          28.348724213833307,
          71.94620523913515,
          71.31690494762458,
          44.97022517262937,
          38.30704302764134,
          71.80423675494363,
          67.68126249069209,
          71.89611374297061,
          34.337609196040205,
          68.50662630658603,
          5.463772485675305,
          66.69056890722158,
          70.83766690729476,
          23.959549440815465,
          71.73515668129242,
          58.825032087440746,
          24.508161076808577,
          38.90893506124305,
          71.03387310309053,
          71.85572666882047,
          40.26413849903774,
          66.13949316538466,
          71.88382509747461,
          5.265068180942903,
          27.645490048716596,
          22.325978705917027,
          53.8346834102409,
          53.21845750174887,
          6.273124737577996,
          71.89860581061075,
          11.539394648832022,
          45.18867865469855,
          29.51777410712502,
          70.83221362445155,
          70.48747994469252,
          63.33203011067677,
          41.145249544427195,
          30.951376444455306,
          16.158520667948196,
          65.88291150688298,
          20.040073492245277,
          43.28584012488701,
          71.54193468659611,
          71.39265266867955,
          50.59157570374397,
          39.36879149984709,
          68.41260490088234,
          71.89300087066309,
          18.359356981311418,
          48.87984787153853,
          69.70639077836925,
          18.214911652098316,
          5.4954366898284395,
          71.82519638576842,
          68.66760784750669,
          65.20802725202111,
          22.42855960817493,
          69.47458555049982,
          41.40132869103627,
          69.34603588339877,
          32.18575687881142,
          59.99397935481888,
          68.81584334041366,
          63.07067652482931,
          52.47985431736387,
          41.34761052836592,
          71.18143830078198,
          53.62048705876675,
          46.78841723032576,
          37.90499497837648,
          70.74553072924334,
          64.49083926855846,
          58.37700653522498,
          43.42940770371693,
          67.93790780722507,
          67.56232375835134,
          41.56087046605191,
          67.95533644355073,
          56.90745649837753,
          3.773861880258616,
          48.72267962218996,
          70.45771731295562,
          33.7972214420717,
          59.69183165704811,
          31.33085302658987,
          71.13461352457222,
          70.93676421998654,
          70.56511448378649,
          71.94255373233852,
          46.62433892660481,
          50.52534212902386,
          45.23234244511666,
          67.468926822686,
          20.14094038219607,
          53.93729308114751,
          53.39308117912066,
          27.437841998366714,
          50.14415886625801,
          62.47474138015181,
          71.81097490657122,
          52.17608159483114,
          52.82837898603198,
          66.6678597252482,
          71.24090661965688,
          35.505411312372985,
          67.63900175173053,
          29.518800872145054,
          70.19595539278586,
          71.8922301434517,
          71.91636390660405,
          71.3097194651516,
          70.0478936569391,
          71.90130988163925,
          70.69874323477096,
          71.25345675209485,
          16.671498810696566,
          69.28007078184503,
          69.95931847156649,
          35.92768661386603,
          38.47370791413947,
          62.63783976632344,
          63.290757640627994,
          2.982542684191625,
          37.40771921747361,
          68.25894069783584,
          71.89271684345755,
          71.18718361210674,
          15.878100351124075,
          20.936054834981533,
          69.81598626503046,
          71.03135204258811,
          37.603508202734346,
          59.64202940378142,
          22.586537303042846,
          71.63463789399,
          11.39905421712116,
          64.7390148777768,
          9.932504818796968,
          70.74861573080594,
          48.66603708445933,
          32.392079889582035,
          66.58178531760714,
          57.01551060993374,
          69.8240139345265,
          48.85464484642279,
          12.059383366513606,
          58.573303736488874,
          71.58178744873403,
          56.28974818721597,
          68.13333395977547,
          39.89194531317884,
          21.313611540429136,
          29.402685277991942,
          71.69526768847938,
          71.09649435301374,
          39.93561056237076,
          71.84499777468423,
          70.90958364424804,
          58.5152246830162,
          63.47892463610764,
          70.45683511844945,
          16.02833793063858,
          44.91130714161373,
          48.202289479501815,
          68.23366690140256,
          3.360008983073197,
          69.07876898690061,
          17.91432730708522,
          71.85777097416978,
          15.62405731983221,
          66.93821913051428,
          59.18240946056127,
          66.91324173421593,
          62.18411369724541,
          68.41378543953803,
          56.74819101289345,
          71.6708194423966,
          71.93753467345408,
          60.04183726253956,
          68.05911978173165,
          44.980857292921,
          71.88094098000086,
          45.26386863075136,
          70.74605420035172,
          39.22101708643656,
          12.0836225967052,
          36.93533295020313,
          24.317960884937136,
          23.801512041789856,
          70.88631078286664,
          68.17124057403377,
          70.92886947755972,
          55.25550685291262,
          71.80489242409536,
          63.627455977235165,
          47.22293446661168,
          46.328913771346464,
          70.22723063966069,
          65.68613794288875,
          17.781131460932244,
          41.86073416626577,
          29.64426946429822,
          71.3405540602503,
          37.96557160339307,
          65.59348083019302,
          70.13185431870536,
          71.31257976653401,
          71.85480774417017,
          44.69935518195737,
          66.80785622064766,
          69.06173080665285,
          70.47880640393048,
          45.307971848820245,
          42.35291005372068,
          69.18903989056598,
          20.342552615461937,
          70.29346413658064,
          66.0211789099272,
          71.95934267263272,
          68.43304346311211,
          35.38641406041515,
          44.60476303870587,
          29.42829574198313,
          55.8801196018624,
          61.597635684027175,
          70.22496020890296,
          70.7465261204282,
          65.80440436259565,
          71.45262122164524,
          69.45780348397315,
          71.76883565699227,
          48.46566973421409,
          46.08638854482844,
          20.398147738870005,
          71.33235575479236,
          70.85371146109445,
          35.505411312372985,
          71.68204864388271,
          35.85332084852646,
          55.163693113681,
          26.517282136115252,
          5.858548894175327,
          71.7476735677359,
          65.55253631868894,
          35.49773782071634,
          71.58823478561999,
          57.69763434304308,
          71.86062681706807,
          69.98833828425906,
          12.029247490589377,
          70.79879680362302,
          60.224300130272624,
          71.83564086670826,
          47.38205533732723,
          65.70329300810825,
          67.2613063347266,
          62.938507486950435,
          71.94736975649556,
          71.87377290053917,
          69.1083929016147,
          71.87871276243372,
          65.28674996298125,
          68.60242729431242,
          33.91985517629281,
          69.2463192389747,
          51.122495952579065,
          71.43186229780798,
          70.78278499162275,
          40.10549380177219,
          50.14255077981446,
          71.67145546315268,
          71.34184161123258,
          46.179618871354805,
          9.166623010490138,
          71.2745360175036,
          56.64364482196928,
          29.953609921887306,
          35.74145329730467,
          71.65113959598645,
          41.32864188995764,
          68.99185436395578,
          64.78717473618794,
          5.784204176282433,
          31.07642586346739,
          38.93566337026634,
          23.21985466178914,
          8.223938310473674,
          68.65206741383344,
          57.80744503506625,
          21.287684538978873,
          26.41205270745852,
          45.663496888440825,
          5.924972028234124,
          71.68247896878417,
          48.373122428731094,
          70.31061316839097,
          46.816207401368885,
          70.73016463634755,
          71.78956725500493,
          6.751428912233437,
          24.71188295927367,
          70.27453722837254,
          71.91547313888884,
          64.51598062103028,
          41.01130702176208,
          68.597108392628,
          34.12528222158542,
          70.36773250728999,
          10.265842910913793,
          20.84758949506221,
          66.84321405880121,
          64.06693352689058,
          50.042297832635946,
          25.922328995111705,
          71.78905750700747,
          66.67806788652783,
          9.919563886937903,
          61.1841092343858,
          36.85598400490138,
          69.1872349904632,
          58.373916879309874,
          69.94284167910257,
          69.0836772116964,
          67.31359654303901,
          61.26655794559339,
          48.25525958195633,
          50.88599132205725,
          70.96380207426265,
          71.97169596983738,
          27.910570937980886,
          59.21453238995321,
          17.669311825250844,
          16.80689626931343,
          71.92806974761614,
          53.14745483207304,
          56.958167440218745,
          69.24434895092992,
          68.86786211208812,
          60.995711600290235,
          71.88243947544336,
          71.8482210026326,
          13.189435129386524,
          39.88152198961042,
          34.36270081697791,
          67.74403897407782,
          47.66866722746707,
          22.563608749804096,
          69.32607182027834,
          19.542192649333007,
          47.37700816104345,
          9.32626903344861,
          18.55747211802827,
          59.34291580984865,
          68.7531273341794,
          55.58911983436613,
          15.819813470383355,
          36.85585252358067,
          32.90445539153639,
          70.64333569099352,
          10.314882312729125,
          71.91439909060742,
          25.885837713394572,
          60.1203457554905,
          35.14153113617292,
          68.7292320639454,
          60.537922293032764,
          70.95632001508474,
          16.47843886251393,
          22.24313326696184,
          71.84975327385507,
          17.32685303577935,
          48.547671543156106,
          42.66756782010616,
          41.006100817786134,
          42.33775074114927,
          71.34673384177462,
          47.040304914270806,
          47.63180233000071,
          52.55665205932482,
          67.88039829271668,
          20.876610825805578,
          71.72396819302566,
          63.02543831613451,
          67.84839328237001,
          71.69832748633051,
          66.59539467210577,
          14.426656667514,
          4.137225745650426,
          40.86813390853551,
          70.58822560371313,
          21.406342615373273,
          53.925009555251506,
          20.872889536937365,
          11.842345046197273,
          71.68834008529934,
          69.27770226892314,
          4.957586873665164,
          20.03722139744618,
          60.19522720064895,
          41.53327368854731,
          61.462238049879986,
          20.337067484385265,
          71.88806305088728,
          38.28737468689194,
          46.581606494741806,
          49.31165691070525,
          48.39753133273509,
          16.720444280438826,
          35.08991308239466,
          3.511242120691548,
          71.36086712567374,
          34.92030118401806,
          43.529817439545994,
          9.780010537278649,
          69.1919802705319,
          66.47989559602215,
          70.495846936421,
          58.166527342989355,
          56.5393294004662,
          62.49658351751495,
          39.523445095674234,
          36.353612012265145,
          45.397209482250474,
          71.97342063314898,
          71.74943382152705,
          4.000222562520472,
          53.64070737475646,
          58.62812331357648,
          55.223896698014194,
          67.17324706711642,
          5.769321737162847,
          69.98670268543408,
          37.42087311692477,
          35.69802214686928,
          66.22635874340199,
          20.784024580049312,
          71.45220180883857,
          11.98450141429268,
          71.69195974011544,
          65.42908042379024,
          71.38152069926723,
          71.67215107128274,
          60.3201115897898,
          69.7470541020472,
          42.11773063123711,
          70.31477197598026,
          58.936691168707426,
          32.02495396924773,
          31.792807281616614,
          70.40867507823178,
          43.515626569122745,
          68.21639291686205,
          58.24445607239889,
          50.08509031027671,
          48.5141266846571,
          34.088465163130465,
          70.83813983908652,
          71.75520097123984,
          29.09316982484248,
          65.02981417619378,
          19.23077394683109,
          37.26036623706467,
          62.523157739995725,
          71.15978865913115,
          71.90021960764238,
          39.9583324041842,
          35.34301448449097,
          65.5556553752991,
          40.4204346454417,
          67.19476359607012,
          70.17235965559401,
          71.39609597285657,
          64.79912402222465,
          70.81893197321075,
          71.95000155090102,
          6.194610344403127,
          48.564981942027984,
          69.90583948196144,
          49.86902390590477,
          60.02920340052256,
          36.941052548903876,
          47.856687575470346,
          24.151615870607337,
          69.85616734713079,
          28.993743789217984,
          36.04149869304133,
          56.50091235107534,
          61.710167006681644,
          71.8590664158304,
          55.453240063736104,
          69.98506195478771,
          64.95261125318291,
          68.97539859633612,
          71.36500458535801,
          12.33616402245833,
          42.2351801361287,
          58.6520054661941,
          45.525054081632305,
          69.03543989106507,
          54.7727783837874,
          19.146292653099863,
          13.803749240544128,
          65.75304665861252,
          29.182223216842864,
          71.93474075792857,
          69.11213460809117,
          70.37113573117668,
          58.25083230699343,
          69.95048428793964,
          34.77520357978172,
          30.50056231608793,
          24.63185681342196,
          59.0270733782586,
          24.688947221491485,
          69.79963105917707,
          43.50962580082056,
          71.43746091675348,
          13.019137455442465,
          70.55840906464996,
          59.49748075595518,
          57.537888356328835,
          27.597040768196884,
          19.79712127726988,
          71.94867686516073,
          71.72855696537525,
          7.478506040322972,
          34.08160414929145,
          55.22840454606609,
          15.384849682938777,
          19.83406614456429,
          48.67104627654022,
          70.46821510994657,
          68.93083844154269,
          32.538507652936715,
          36.20519740271655,
          71.11000492743077,
          62.811731177779286,
          34.00082003492618,
          43.06981156304866,
          48.326463478813224,
          20.729326258994153,
          52.45941268904253,
          42.49190134198814,
          56.12390956854425,
          19.876509651574906,
          39.07205599777102,
          36.52364044077848,
          71.61154193619362,
          67.89640882746912,
          69.83656417680075,
          69.87770949524356,
          33.77807918983143,
          63.25826748434921,
          55.3899335436992,
          64.66881044190339,
          71.73695782814454,
          46.0384357382532,
          71.86619538836301,
          71.9303028385311,
          71.91495938901815,
          44.20679777845202,
          3.6658546670433467,
          69.24895394613674,
          32.639374738293284,
          67.49774755106924,
          71.85062628866318,
          59.01298978114144,
          5.14694903033967,
          69.89674684585722,
          69.34486670477148,
          71.2928567812729,
          62.22488290764579,
          70.10955330133444,
          51.78401373889932,
          69.42607446950075,
          35.10545877974424,
          71.77796069093813,
          39.79893975845618,
          67.3886097905875,
          44.24169200345867,
          55.20728356677954,
          28.49489218536051,
          48.6182963054552,
          30.522032067138113,
          68.22139222543184,
          36.565066019841,
          70.70744989048924,
          69.5758607190933,
          70.26470062885556,
          8.793333895647976,
          71.67014569029902,
          39.94543082574407,
          71.86969185825377,
          31.66144832431859,
          5.406782334882274,
          19.702488026042396,
          33.73979614035768,
          71.66842660794258,
          71.5201975058532,
          63.745070757912195,
          71.94510739946871,
          57.55286093857738,
          21.705621739470374,
          49.007467856799295,
          5.569358214889791,
          17.590750921977587,
          53.68658536786643,
          41.36940536650786,
          71.83386622121336,
          71.9451790527204,
          24.496929612595075,
          26.605760162284316,
          46.4164465262718,
          28.83782434682298,
          20.748832635994617,
          33.418665017430115,
          9.066664898662623,
          71.08629269736997,
          49.94013994974607,
          17.47033317980322,
          71.9675528021782,
          21.959972897989843,
          70.95294824818987,
          null,
          null,
          null,
          null,
          null,
          null,
          null,
          null,
          null,
          null,
          null,
          null,
          null,
          null,
          null,
          null,
          null,
          null,
          null,
          null,
          null,
          null,
          null,
          null,
          null,
          null,
          null,
          null,
          null,
          null,
          null,
          null,
          null,
          null,
          null,
          null,
          null,
          null,
          null,
          null,
          null,
          null,
          null,
          null,
          null,
          null,
          null,
          null,
          null,
          null,
          null,
          null,
          null,
          null,
          null,
          null,
          null,
          null,
          null,
          null,
          null,
          null,
          null,
          null,
          null,
          null,
          null,
          null,
          null,
          null,
          null,
          null,
          null,
          null,
          null,
          null,
          null,
          null,
          null,
          null,
          null,
          null,
          null,
          null,
          null,
          null,
          null,
          null,
          null,
          null,
          null,
          null,
          null,
          null,
          null,
          null,
          null,
          null,
          null,
          null,
          null,
          null,
          null,
          null,
          null,
          null,
          null,
          null,
          null,
          null,
          null,
          null,
          null,
          null,
          null,
          null,
          null,
          null,
          null,
          null,
          null,
          null,
          null,
          null,
          null,
          null,
          null,
          null,
          null,
          null,
          null,
          null,
          null,
          null,
          null,
          null,
          null,
          null,
          null,
          null,
          null,
          null,
          null,
          null,
          null,
          null,
          null,
          null,
          null,
          null,
          null,
          null,
          null,
          null,
          null,
          null,
          null,
          null,
          null,
          null,
          null,
          null,
          null,
          null,
          null,
          null,
          null,
          null,
          null,
          null,
          null,
          null,
          null,
          null,
          null,
          null,
          null,
          null,
          null,
          null,
          null,
          null,
          null,
          null,
          null,
          null,
          null,
          null,
          null,
          null,
          null,
          null,
          null,
          null,
          null,
          null,
          null,
          null,
          null,
          null,
          null,
          null,
          null,
          null,
          null,
          null,
          null,
          null,
          null,
          null,
          null,
          null,
          null,
          null,
          null,
          null,
          null,
          null,
          null,
          null,
          null,
          null,
          null,
          null,
          null,
          null,
          null,
          null,
          null,
          null,
          null,
          null,
          null,
          null,
          null,
          null,
          null,
          null,
          null,
          null,
          null,
          null,
          null,
          null,
          null,
          null,
          null,
          null,
          null,
          null,
          null,
          null,
          null,
          null,
          null,
          null,
          null,
          null,
          null,
          null,
          null,
          null,
          null,
          null,
          null,
          null,
          null,
          null,
          null,
          null,
          null,
          null,
          null,
          null,
          null,
          null,
          null,
          null,
          null,
          null,
          null,
          null,
          null,
          null,
          null,
          null,
          null,
          null,
          null,
          null,
          null,
          null,
          null,
          null,
          null,
          null,
          null,
          null,
          null,
          null,
          null,
          null,
          null,
          null,
          null,
          null,
          null,
          null,
          null,
          null,
          null,
          null,
          null,
          null,
          null,
          null,
          null,
          null,
          null,
          null,
          null,
          null,
          null,
          null,
          null,
          null,
          null,
          null,
          null,
          null,
          null,
          null,
          null,
          null,
          null,
          null,
          null,
          null,
          null,
          null,
          39.078871919685625,
          4.1103356010990035,
          47.94438348611611,
          42.82235214531283,
          26.39809124463016,
          65.27192436454109,
          68.2204343518196,
          56.958007250910526,
          71.92956657089236,
          36.08856690297745,
          7.18082275411863,
          61.897176625060794,
          69.91292827444339,
          23.988139167216232,
          69.37788546257923,
          70.51525952662638,
          71.79762319611498,
          66.20649039892031,
          12.36425851840783,
          71.44552791315064,
          10.249061238544583,
          34.50222609231639,
          32.616337199154444,
          67.62736973109321,
          16.469839201482614,
          19.477513604103528,
          71.47571139174306,
          35.74155901952963,
          49.90848108637768,
          32.17371888003282,
          32.91141597600398,
          42.8831633776484,
          71.87951858124362,
          45.48307021077733,
          71.7884313068908,
          70.47414762416918,
          71.93765282006738,
          71.84050533673884,
          36.84866760426575,
          21.948919844907984,
          71.53413121564762,
          20.101291743871503,
          71.01741597923089,
          71.7658942800226,
          38.47133515163083,
          17.916354042630687,
          38.76933759611576,
          35.85993977027921,
          64.89635935785584,
          71.56728322924988,
          65.6854557266762,
          70.44788389098471,
          41.367083104830954,
          8.103615677580429,
          18.56697924620002,
          66.9206276396805,
          71.85058882516425,
          59.292852678800095,
          43.701465974578966,
          45.77092317114501,
          7.0659248514575435,
          62.672308812254116,
          70.44421284051663,
          35.524595351530394,
          18.322142859404792,
          49.494717166617306,
          50.34067122900301,
          4.653042090444084,
          58.12398704657906,
          34.74992750756533,
          62.03903601786378,
          70.71711935032934,
          70.7293798303755,
          57.691190731340846,
          69.47357670564372,
          71.58302610296502,
          19.44316499201734,
          55.1835254350794,
          64.7412339047753,
          36.02092386125331,
          54.66427621927509,
          34.81240935501452,
          42.03989119112387,
          59.60604321809167,
          67.72133008398609,
          71.5609608251304,
          38.1842121522707,
          71.89238571559402,
          47.26941292635591,
          71.39161793134843,
          36.927932507976614,
          56.78124081692987,
          66.33106778993255,
          63.58016631086236,
          70.82920266515798,
          69.77242289362191,
          68.09525644715805,
          43.01856217351717,
          52.38173626508478,
          10.721866746451822,
          57.31960907425503,
          28.129727221184254,
          17.193779650339664,
          56.45260235312767,
          71.44131704390904,
          50.23148985722595,
          67.92220609243412,
          2.992957751204889,
          68.99898191212048,
          45.83926880871271,
          17.101426433218958,
          69.57287435604813,
          16.213625077128185,
          24.676682422171915,
          11.75149356459113,
          67.48644982178541,
          66.4213210694753,
          61.89486497731214,
          44.082830146297525,
          29.59089896431057,
          69.17467701455006,
          55.09788560610616,
          70.68268388973411,
          70.09978858278726,
          25.364257615748542,
          55.34890808706439,
          43.58274244114278,
          44.33084545877236,
          64.24449893393691,
          23.196245452866968,
          38.379984496861994,
          71.62622547117118,
          35.89117733232916,
          51.86627095117433,
          67.18317567036206,
          46.388656105518876,
          57.754312252748896,
          48.97244704800539,
          17.30357790510488,
          70.32194346881397,
          69.15960208291355,
          43.89312408582965,
          18.593547436773406,
          28.379681394671415,
          24.474997495463114,
          24.572660145532183,
          71.91494523059384,
          44.61684468401439,
          53.069543763079196,
          23.75302729830618,
          70.41868600407983,
          71.71819256387208,
          20.730416514695683,
          70.94791513366872,
          54.819643793457594,
          69.20900429683263,
          40.089650371433386,
          61.626857985187826,
          62.16979340837227,
          63.257305330695814,
          62.9960977795437,
          64.29292906779395,
          52.099312649263695,
          70.48127482357293,
          30.66054786709341,
          71.19287987496685,
          15.953605575630853,
          71.62334412059387,
          69.81111398417357,
          65.9411296163196,
          27.992693603601477,
          65.42664791625539,
          31.706538816091843,
          28.224337991559683,
          71.85922857107191,
          69.86513866212134,
          71.83703388882326,
          9.379215175481363,
          16.14311591148412,
          54.984957727603025,
          60.84307051174955,
          71.83552998461873,
          20.76096760753194,
          40.874157280808184,
          69.73185384479468,
          17.066957969813163,
          69.67523657657136,
          47.75838078132002,
          8.258816514214216,
          37.732695428474685,
          64.31952579602503,
          31.602081229519285,
          71.51477475667349,
          5.275253168341653,
          70.83373013377343,
          41.09201180702703,
          69.41343121152292,
          64.04859885297189,
          35.93574072601473,
          71.16284938933792,
          71.44640411167113,
          12.159600047856536,
          54.05274856092474,
          40.20655178559831,
          40.85250288738081,
          71.86710704347267,
          69.63889227714029,
          8.683408706329969,
          68.83295713421258,
          16.85248878069416,
          66.54034569117309,
          52.209492255686555,
          71.95204545173752,
          71.69679818549943,
          36.0788191276448,
          62.623612925116824,
          68.29288628225345,
          43.422486762911106,
          71.93489605016806,
          71.69341483997536,
          71.42105242839926,
          67.22182459265451,
          26.805159137870817,
          70.96850520038747,
          62.7624268482406,
          65.52863492339577,
          65.3020358496921,
          38.499220100691645,
          29.68843238814725,
          66.20625938519319,
          6.132892848987128,
          5.217733692438513,
          70.13101331417796,
          45.654376387749245,
          71.82677548524785,
          70.24237245474407,
          60.242872009968515,
          49.79778529494298,
          32.69435277559435,
          35.06866817669437,
          70.98546968791202,
          44.96134958551812,
          69.46116156326543,
          50.86058101606696,
          71.5865107760988,
          68.49191565577956,
          33.42687636367558,
          69.28466228689689,
          58.917942987642,
          43.0445651379053,
          4.849915628458926,
          69.29291683774824,
          64.81410242767333,
          4.48719737922789,
          69.79289867282847,
          69.13706278920185,
          71.87418267098687,
          48.43878124216096,
          36.892601308569525,
          70.67543715956757,
          49.384194056257606,
          47.49579544584502,
          71.89340489966374,
          61.7380460273813,
          22.730961424869985,
          42.920761961558554,
          71.88900469284994,
          9.579423226584648,
          31.842382296771433,
          21.350385040064943,
          48.07663323943482,
          60.582232863804194,
          71.0543472443334,
          69.9130427618898,
          66.02751610900175,
          20.049041539078765,
          70.93755839735617,
          33.22498015021202,
          39.525819357456804,
          18.803277580972402,
          44.919075821629946,
          13.80627765307293,
          64.07802997597199,
          22.16486836102763,
          50.85590605345759,
          18.274950981563414,
          71.23101443196732,
          21.152688454690864,
          66.89801377426106,
          39.44103337614886,
          56.13582473248857,
          52.075640991881414,
          30.435335772750243,
          69.41058688714006,
          11.670780343993325,
          71.91584169819026,
          54.22746582608788,
          67.5045677530659,
          57.29230501431806,
          8.728715686447728,
          65.49312803619576,
          21.078786854717123,
          47.283323617061896,
          8.819394358607536,
          31.28528271167034,
          65.64119798779589,
          34.10115644772573,
          58.14511257312425,
          65.61990075056843,
          44.014798526891234,
          71.84270325152622,
          15.675077148629445,
          61.41757891143468,
          15.764411058008566,
          69.70914649866856,
          36.84904929532222,
          35.157814121078246,
          70.86247006044908,
          71.21480729402447,
          65.92347057240448,
          14.72960145995601,
          71.96233799776786,
          71.84513180443108,
          51.50631415448593,
          34.62945388334344,
          69.259878641672,
          55.32893057801477,
          50.70826331868028,
          71.24545489825725,
          71.16894928525558,
          71.03418401493904,
          37.771460858675155,
          15.25829773988509,
          70.10873521951075,
          39.118438940942866,
          14.028669374133049,
          46.80614175892494,
          71.90682416855695,
          70.7556212534536,
          15.733208148257678,
          11.640877513051382,
          67.24678999272334,
          54.58881242865539,
          70.3529540308422,
          39.45165908990071,
          70.90812141864811,
          37.673450819608206,
          70.88584948946226,
          70.13005494237098,
          69.84714336506303,
          71.77252803953019,
          57.17387429750649,
          69.78233563920942,
          61.22317973812955,
          67.7343203553371,
          28.978570246887966,
          21.07815314774567,
          22.780729574761445,
          40.34058804546061,
          7.843330085837492,
          66.60330600002337,
          51.763269087077724,
          67.49797210714728,
          17.338914064067957,
          52.42596764499163,
          52.26706628465415,
          51.44019140638342,
          59.017796058460654,
          47.953584708432544,
          24.918721112214715,
          64.33134530166899,
          67.82127146172549,
          12.743000650177892,
          70.9474903515058,
          67.57628742737029,
          56.50651671560691,
          22.136147992091757,
          70.5081437573419,
          68.91005068350998,
          71.3405516119085,
          71.29875599491754,
          64.3552332105306,
          67.62749755266327,
          22.617467232579603,
          66.69529691724397,
          43.566259009251795,
          11.609081081501195,
          71.49758628459026,
          68.95631798689499,
          16.0236436249778,
          34.90113133807779,
          22.554951526963976,
          71.40250773581126,
          62.40780335026943,
          70.84010609622861,
          69.77754339624647,
          51.38968284076401,
          50.59732072954117,
          62.56881468874237,
          19.27584056000307,
          39.69341114226077,
          62.111928595180686,
          21.224143162862482,
          44.88484419295882,
          39.81323052417869,
          27.251059383988768,
          35.53994290145178,
          43.19196356220587,
          19.030082624671167,
          70.28168910028609,
          70.67141278736116,
          62.20138569404382,
          70.3895155757496,
          71.74276193644874,
          42.02094325499722,
          21.813692163284436,
          71.43446051383681,
          37.33797766806145,
          71.92322971946206,
          63.63792980845811,
          68.38370777662254,
          69.43982842014002,
          71.95544307170516,
          22.505943912074112,
          71.49432605942555,
          60.74958671447637,
          70.52034849344415,
          15.739560540554447,
          60.51702600486692,
          13.35439510943056,
          18.658796584414244,
          50.93902494828244,
          70.78204619827548,
          71.4713333915308,
          15.891526591604233,
          65.19022064524992,
          38.91852572779447,
          62.70998720895611,
          11.805847524139065,
          60.166961942271506,
          52.54958557519314,
          61.458140072758596,
          70.7919285841223,
          70.99967487968514,
          59.3680917716885,
          65.09409438561634,
          58.10110363166828,
          11.647617225507329,
          64.09283252075375,
          65.0027336258069,
          59.15902276217423,
          70.34694208105543,
          69.58267370854787,
          69.64622872133911,
          71.64518475669027,
          42.35494887959882,
          38.98285780030343,
          48.28817499063315,
          71.91402436441658,
          71.52911125040166,
          63.91948144252674,
          61.83625930762785,
          65.00448731874272,
          13.268336021821556,
          52.77087249082833,
          42.1076464619689,
          71.71312585958708,
          69.85543492437377,
          59.66672709553909,
          70.4078650503015,
          67.05127651068018,
          71.01597963539766,
          17.585242393196616,
          54.60588000804294,
          25.080104893486933,
          56.51238262065559,
          56.12865741944717,
          25.300550653016636,
          35.41969071267475,
          71.66119255405992,
          52.89151002174482,
          30.245074751996356,
          70.41070066461143,
          67.74945204674033,
          51.73503990527674,
          68.91570729472821,
          67.308357974035,
          8.201164644109205,
          22.291699710376506,
          39.60862430969103,
          56.100619597062334,
          33.89425895324976,
          69.94616866334536,
          71.95135815746596,
          42.94350018131172,
          70.22180582038283,
          12.270402285936518,
          22.375546465637488,
          71.91792477668093,
          67.0546356682349,
          67.23663164227881,
          71.89085338464608,
          20.520022300301903,
          9.026693972275307,
          38.51127940420638,
          71.90883681886211,
          27.337930313180372,
          69.30137662820349,
          60.76932711445265,
          70.12350757891548,
          71.89597330238465,
          65.65661327538183,
          61.55401212150437,
          71.35427589770674,
          12.633915073974762,
          71.8194534191239,
          71.55642678586051,
          15.27510661136516,
          23.581228724978363,
          69.92133651275347,
          70.67599450462882,
          71.60098574821933,
          22.187775792197108,
          50.27811746376426,
          35.92825052942923,
          58.706129971286984,
          52.61423227206375,
          40.555326168803965,
          19.326766971977175,
          70.28631539681724,
          69.18969823501186,
          45.641585511065074,
          71.41648771599635,
          71.66321081213609,
          22.422659737137614,
          54.24247142106087,
          22.7924466778303,
          13.424038876650723,
          43.379503743597894,
          57.03377768457726,
          41.912761453531644,
          41.21744698802458,
          24.88354500314097,
          12.155997228064669,
          51.38371771025672,
          59.47651427480935,
          69.72787075182671,
          39.99356638541735,
          13.243871052809656,
          71.36552770156936,
          58.48290946087316,
          22.60710453843695,
          33.397247023831014,
          71.85647067552519,
          58.69994311950571,
          40.887378991368,
          67.38065120982915,
          54.102575055132604,
          71.90243862667515,
          71.73103730548038,
          34.78855084545307,
          53.6708598160146,
          58.63576278941572,
          70.70626161842507,
          6.176649950306768,
          71.2340507437003,
          20.19768898108774,
          69.85789944976239,
          34.67869826299926,
          20.778810206237548,
          9.966614298277964,
          37.592823980005164,
          69.70139788040966,
          70.95313447562631,
          65.24907214345528,
          70.11370883572671,
          43.904858365053556,
          35.59366155223378,
          45.341791294229765,
          63.07032163246908,
          62.98344643061375,
          49.70707142762198,
          27.964112888276947,
          62.107561235976476,
          16.914173748696097,
          45.75749978949592,
          53.03778948558724,
          47.37648174467347,
          24.075380944421557,
          33.00401365463757,
          15.56420734310888,
          41.22597508058517,
          71.29673117796713,
          70.98988944784966,
          21.514663650453084,
          67.81302125783753,
          6.191099009812606,
          41.33964038055907,
          58.32720672071143,
          71.23214614182177,
          19.0087326970028,
          61.5649101596213,
          50.04507777478182,
          70.65692559719429,
          66.77652621562669,
          49.62141474775579,
          46.51238634950617,
          57.81335465494905,
          69.49686920766669,
          31.817248299861852,
          12.769636600265237,
          30.819463896970788,
          69.42349873304126,
          70.83823727984219,
          70.3400245454816,
          71.82258747757037,
          71.88313088323528,
          67.95117681060064,
          40.79392759547939,
          62.99816771899519,
          71.63820984644943,
          33.53333547554789,
          40.340740619004634,
          58.58985759152364,
          52.85720253183922,
          64.14998832412097,
          71.91683879548944,
          69.76128265291239,
          25.624794924589658,
          60.12167359185831,
          58.83365323485029,
          65.82914912208153,
          71.41573839528581,
          39.14478631314699,
          44.644047407176274,
          24.202308225069075,
          38.19069911136955,
          71.65747726860961,
          69.29089824526947,
          8.241136601586629,
          29.911039546174777,
          34.85780895061102,
          8.513952979751451,
          50.1539448214981,
          69.88600883894654,
          56.64075704595406,
          60.75299456891196,
          71.21871108573849,
          18.562208529535017,
          63.66500706596004,
          71.76157833121046,
          71.89734874526357,
          24.13642072779328,
          70.14106755504758,
          62.89500628911193,
          68.85288979231913,
          53.78675250691049,
          65.99678114115304,
          58.74709085915415,
          14.964468255556426,
          21.349100588780903,
          56.09653900161639,
          70.01601781347344,
          20.8532967893506,
          42.09646759665651,
          67.24035164192372,
          71.8706140936863,
          39.48109540966608,
          71.6911904257685,
          35.27474783737615,
          20.46194145065337,
          57.920128489870535,
          71.46070813341063,
          13.818643905018419,
          58.07264094089587,
          6.7885698357466495,
          37.170840062677144,
          23.07684091724382,
          53.2158377858171,
          43.33545314393257,
          49.10048998961871,
          69.31957762202147,
          71.01894914610222,
          71.87671480200615,
          52.783224577469056,
          70.78432874133814,
          71.93635175380824,
          69.15556685670123,
          35.30658819471087,
          71.27995714336924,
          53.794707174937784,
          66.55262000500105,
          71.74561545563478,
          41.31895293634999,
          27.94560943183553,
          33.452045638165174,
          57.77767407867066,
          4.790155409006109,
          13.743210908519476,
          71.87323888653656,
          44.054697745040684,
          6.376495234628218,
          71.9629473566494,
          56.58725194238539,
          70.54352567663042,
          71.64058509483547,
          71.93252192710878,
          31.913165769328895,
          57.3064603749954,
          71.74415077763265,
          68.25987345924395,
          6.534106038800953,
          38.0094919333642,
          69.8881725302939,
          71.25806807616976,
          51.67282911890629,
          68.4376722425797,
          42.03471972724759,
          48.65542073984271,
          68.65595669037245,
          41.4776593984209,
          53.58769021144545,
          50.98382779860067,
          52.024131572032516,
          64.43494076531212,
          21.231588571876394,
          25.55663361877996,
          67.78142474092527,
          65.47793582526714,
          55.970449183840714,
          56.918073004756344,
          42.273290997168246,
          62.60959665549144,
          53.04042224164101,
          45.23530298351191,
          70.31747436044263,
          61.70294280682789,
          54.874172388502714,
          69.27627389166122,
          34.39064254827167,
          70.94718219345938,
          38.00130799024184,
          70.07373110447904,
          20.373169070268425,
          39.01025124360052,
          59.61243206669667,
          57.9862353943208,
          50.799427053380384,
          63.01107302935789,
          55.75365592497342,
          67.21357147140387,
          40.16843513874899,
          40.437308537889585,
          69.35306734621625,
          58.17217649555202,
          63.06295823255873,
          8.334506540291404,
          17.78752954187887,
          24.913829307387548,
          71.16491193964751,
          68.78613469740124,
          48.962747873800026,
          59.004655914471385,
          26.863296055016765,
          11.249411171862427,
          71.64279982276497,
          71.87666469865604,
          31.028770279227636,
          70.41513593352244,
          51.73529711627492,
          71.13178238664649,
          55.803393811279264,
          23.45435669314262,
          68.97317275902782,
          66.93503519385547,
          13.566549975055768,
          14.624716867875488,
          4.442452840168871,
          69.91939563357889,
          18.670097672707037,
          20.46999330513658,
          39.77292460919668,
          33.5616262938219,
          67.38328137221467,
          62.8039527373739,
          30.806223235262074,
          70.64019754693663,
          33.20956618917738,
          71.83202312765548,
          52.608903558917675,
          64.90809595985937,
          71.80262907781903,
          40.039779270965965,
          65.86579822005619,
          24.73291882954075,
          62.7867525782423,
          17.77665903065615,
          64.61294086203148,
          71.72610747464188,
          16.909930322285824,
          34.91158153117867,
          45.8780104064233,
          50.37001281898113,
          44.874182585873484,
          33.76659407116901,
          28.019564512587834,
          71.83412407391864,
          71.91460943816334,
          51.89014239129761,
          34.89346352788438,
          63.53642721103655,
          71.4661310270942,
          62.31272333815559,
          69.55994591762432,
          35.190419200445504,
          34.56903346542819,
          20.23776582882304,
          65.85837993869089,
          11.156122468542838,
          71.27875795346029,
          57.294750428628944,
          70.64111955760947,
          24.985353912428707,
          55.3838121128539,
          22.763619935305275,
          67.14208889458797,
          41.385939355361,
          71.85459345524495,
          64.32116463013644,
          54.52301879049412,
          68.13703244742041,
          35.53015519144143,
          27.328554331741643,
          64.54178923285139,
          27.14352932812436,
          71.21390044958349,
          69.10104019649137,
          42.66588174877765,
          68.12421981502656,
          61.66948361112122,
          21.007403875083966,
          64.37409533086439,
          35.48622771619992,
          37.23185496492003,
          66.72032952260912,
          43.42453242338266,
          71.88303128458982,
          70.33670741682914,
          46.91493061643399,
          71.48306740828193,
          69.8846317395906,
          18.261349277736123,
          68.3335953254146,
          19.712239414036297,
          69.81440928407915,
          40.52052918831406,
          70.26576208229278,
          71.79652984414184,
          70.26198917077133,
          2.7725897356302234,
          70.89007007050105,
          67.55671178172369,
          18.071528388226103,
          4.153199587397581,
          60.71141789882633,
          4.650714742750485,
          27.816109188398805,
          50.22424304012367,
          17.517962285762458,
          52.13176074641643,
          71.31950554583244,
          55.68213456343705,
          71.88889995639727,
          70.29714208065623,
          71.70578247494097,
          38.978219629453584,
          65.7954418933359,
          66.7363960893367,
          63.78436492530872,
          66.91042367603617,
          20.201056454689457,
          35.9924840372676,
          4.7570667743558515,
          21.317984957255064,
          67.00886004655314,
          64.54567774299862,
          32.00500669455886,
          43.54134977416351,
          39.99045816377337,
          70.11501372815083,
          64.07096281061797,
          6.191382641483891,
          69.96669671491844,
          48.82729367726657,
          71.34162243660114,
          69.39434696419232,
          68.47538829415186,
          60.33350197120698,
          17.673309014736624,
          38.61870757487019,
          25.05125334087492,
          53.45987455818182,
          71.9342450948867,
          50.698265718510406,
          19.525814948748884,
          22.230026460962517,
          33.14453610753038,
          71.70334962838417,
          18.032509576046387,
          71.57992051460957,
          15.033389935484761,
          8.83445278491848,
          71.88076279636371,
          71.83222089677315,
          64.84047527038334,
          7.600698964464863,
          19.9107845747126,
          66.97504338091456,
          69.24597653289467,
          71.95593991894611,
          43.382747650549135,
          55.443999491415916,
          66.5443623223896,
          71.16606348969387,
          55.68788452972113,
          9.202746653477341,
          25.907155647606622,
          54.42535743466239,
          23.026848383904888,
          40.46862009300961,
          30.46794118529828,
          19.913008051659627,
          38.222972480596695,
          11.519019103326666,
          16.489651166595962,
          20.70489524711821,
          18.054690246250523,
          55.100113634949906,
          19.67635588361943,
          71.93992572232226,
          69.24364467854934,
          71.95899192181908,
          69.67454654386853,
          20.911680138894916,
          71.44040327175283,
          71.80120043083153,
          67.96660173228341,
          63.07119332579259,
          69.88410658652562,
          43.73258093125027,
          64.58200337324357,
          30.513307506704546,
          69.65364186643471,
          68.9138715756683,
          71.78442511355351,
          25.92991665381693,
          14.91174426258717,
          53.98739574400465,
          62.89316404178088,
          52.475591585637666,
          18.716699926939196,
          71.33518511958749,
          64.10045886869544,
          67.79326905130029,
          42.65800051574146,
          69.24723263670745,
          71.93760276213222,
          42.96970268487692,
          47.76063747232531,
          39.81626753869344,
          71.81358281457203,
          71.53293367558528,
          58.455176763793645,
          44.75455509669601,
          70.75459165770101,
          68.66919987820012,
          31.529829207658672,
          70.50930169268007,
          63.57080761130899,
          71.40977558117135,
          19.490777757827388,
          41.98850614733779,
          51.147216244859564,
          59.92868988525264,
          70.45650559103612,
          63.038763563001694,
          50.53730814381598,
          42.91739501732034,
          58.22619373484386,
          65.57499438797194,
          30.18900129806168,
          71.12755955175376,
          71.92085922902697,
          55.59176609267243,
          35.436352443047824,
          11.680008069185046,
          55.18370510784525,
          50.181416250851704,
          36.15183478517819,
          70.58558453505177,
          54.414334895774275,
          71.96296315500996,
          43.00769974227126,
          67.71629329238448,
          53.9709452942817,
          31.889159350929827,
          42.22079406532937,
          70.35573899236897,
          45.09416800886723,
          68.22557621890361,
          25.99707864058155,
          65.35862157340542,
          71.56373382011876,
          71.43704354641145,
          47.87540891131083,
          71.59186360630167,
          55.24000228140832,
          62.548791175641355,
          29.483575137793807,
          18.81560000833044,
          35.48874819316707,
          35.335431162868474,
          4.235797391720283,
          71.20417138611086,
          40.2775599100211,
          6.096112550474425,
          70.17830431027276,
          64.47188148502852,
          39.663367348883526,
          33.66491631839087,
          26.64259701980147,
          68.96456659598388,
          61.34993726203646,
          32.37887578404954,
          56.98170843325414
         ]
        }
       ],
       "layout": {
        "font": {
         "color": "#646369"
        },
        "height": 500,
        "showlegend": false,
        "template": {
         "data": {
          "bar": [
           {
            "error_x": {
             "color": "#2a3f5f"
            },
            "error_y": {
             "color": "#2a3f5f"
            },
            "marker": {
             "line": {
              "color": "white",
              "width": 0.5
             },
             "pattern": {
              "fillmode": "overlay",
              "size": 10,
              "solidity": 0.2
             }
            },
            "type": "bar"
           }
          ],
          "barpolar": [
           {
            "marker": {
             "line": {
              "color": "white",
              "width": 0.5
             },
             "pattern": {
              "fillmode": "overlay",
              "size": 10,
              "solidity": 0.2
             }
            },
            "type": "barpolar"
           }
          ],
          "carpet": [
           {
            "aaxis": {
             "endlinecolor": "#2a3f5f",
             "gridcolor": "#C8D4E3",
             "linecolor": "#C8D4E3",
             "minorgridcolor": "#C8D4E3",
             "startlinecolor": "#2a3f5f"
            },
            "baxis": {
             "endlinecolor": "#2a3f5f",
             "gridcolor": "#C8D4E3",
             "linecolor": "#C8D4E3",
             "minorgridcolor": "#C8D4E3",
             "startlinecolor": "#2a3f5f"
            },
            "type": "carpet"
           }
          ],
          "choropleth": [
           {
            "colorbar": {
             "outlinewidth": 0,
             "ticks": ""
            },
            "type": "choropleth"
           }
          ],
          "contour": [
           {
            "colorbar": {
             "outlinewidth": 0,
             "ticks": ""
            },
            "colorscale": [
             [
              0,
              "#0d0887"
             ],
             [
              0.1111111111111111,
              "#46039f"
             ],
             [
              0.2222222222222222,
              "#7201a8"
             ],
             [
              0.3333333333333333,
              "#9c179e"
             ],
             [
              0.4444444444444444,
              "#bd3786"
             ],
             [
              0.5555555555555556,
              "#d8576b"
             ],
             [
              0.6666666666666666,
              "#ed7953"
             ],
             [
              0.7777777777777778,
              "#fb9f3a"
             ],
             [
              0.8888888888888888,
              "#fdca26"
             ],
             [
              1,
              "#f0f921"
             ]
            ],
            "type": "contour"
           }
          ],
          "contourcarpet": [
           {
            "colorbar": {
             "outlinewidth": 0,
             "ticks": ""
            },
            "type": "contourcarpet"
           }
          ],
          "heatmap": [
           {
            "colorbar": {
             "outlinewidth": 0,
             "ticks": ""
            },
            "colorscale": [
             [
              0,
              "#0d0887"
             ],
             [
              0.1111111111111111,
              "#46039f"
             ],
             [
              0.2222222222222222,
              "#7201a8"
             ],
             [
              0.3333333333333333,
              "#9c179e"
             ],
             [
              0.4444444444444444,
              "#bd3786"
             ],
             [
              0.5555555555555556,
              "#d8576b"
             ],
             [
              0.6666666666666666,
              "#ed7953"
             ],
             [
              0.7777777777777778,
              "#fb9f3a"
             ],
             [
              0.8888888888888888,
              "#fdca26"
             ],
             [
              1,
              "#f0f921"
             ]
            ],
            "type": "heatmap"
           }
          ],
          "heatmapgl": [
           {
            "colorbar": {
             "outlinewidth": 0,
             "ticks": ""
            },
            "colorscale": [
             [
              0,
              "#0d0887"
             ],
             [
              0.1111111111111111,
              "#46039f"
             ],
             [
              0.2222222222222222,
              "#7201a8"
             ],
             [
              0.3333333333333333,
              "#9c179e"
             ],
             [
              0.4444444444444444,
              "#bd3786"
             ],
             [
              0.5555555555555556,
              "#d8576b"
             ],
             [
              0.6666666666666666,
              "#ed7953"
             ],
             [
              0.7777777777777778,
              "#fb9f3a"
             ],
             [
              0.8888888888888888,
              "#fdca26"
             ],
             [
              1,
              "#f0f921"
             ]
            ],
            "type": "heatmapgl"
           }
          ],
          "histogram": [
           {
            "marker": {
             "pattern": {
              "fillmode": "overlay",
              "size": 10,
              "solidity": 0.2
             }
            },
            "type": "histogram"
           }
          ],
          "histogram2d": [
           {
            "colorbar": {
             "outlinewidth": 0,
             "ticks": ""
            },
            "colorscale": [
             [
              0,
              "#0d0887"
             ],
             [
              0.1111111111111111,
              "#46039f"
             ],
             [
              0.2222222222222222,
              "#7201a8"
             ],
             [
              0.3333333333333333,
              "#9c179e"
             ],
             [
              0.4444444444444444,
              "#bd3786"
             ],
             [
              0.5555555555555556,
              "#d8576b"
             ],
             [
              0.6666666666666666,
              "#ed7953"
             ],
             [
              0.7777777777777778,
              "#fb9f3a"
             ],
             [
              0.8888888888888888,
              "#fdca26"
             ],
             [
              1,
              "#f0f921"
             ]
            ],
            "type": "histogram2d"
           }
          ],
          "histogram2dcontour": [
           {
            "colorbar": {
             "outlinewidth": 0,
             "ticks": ""
            },
            "colorscale": [
             [
              0,
              "#0d0887"
             ],
             [
              0.1111111111111111,
              "#46039f"
             ],
             [
              0.2222222222222222,
              "#7201a8"
             ],
             [
              0.3333333333333333,
              "#9c179e"
             ],
             [
              0.4444444444444444,
              "#bd3786"
             ],
             [
              0.5555555555555556,
              "#d8576b"
             ],
             [
              0.6666666666666666,
              "#ed7953"
             ],
             [
              0.7777777777777778,
              "#fb9f3a"
             ],
             [
              0.8888888888888888,
              "#fdca26"
             ],
             [
              1,
              "#f0f921"
             ]
            ],
            "type": "histogram2dcontour"
           }
          ],
          "mesh3d": [
           {
            "colorbar": {
             "outlinewidth": 0,
             "ticks": ""
            },
            "type": "mesh3d"
           }
          ],
          "parcoords": [
           {
            "line": {
             "colorbar": {
              "outlinewidth": 0,
              "ticks": ""
             }
            },
            "type": "parcoords"
           }
          ],
          "pie": [
           {
            "automargin": true,
            "type": "pie"
           }
          ],
          "scatter": [
           {
            "fillpattern": {
             "fillmode": "overlay",
             "size": 10,
             "solidity": 0.2
            },
            "type": "scatter"
           }
          ],
          "scatter3d": [
           {
            "line": {
             "colorbar": {
              "outlinewidth": 0,
              "ticks": ""
             }
            },
            "marker": {
             "colorbar": {
              "outlinewidth": 0,
              "ticks": ""
             }
            },
            "type": "scatter3d"
           }
          ],
          "scattercarpet": [
           {
            "marker": {
             "colorbar": {
              "outlinewidth": 0,
              "ticks": ""
             }
            },
            "type": "scattercarpet"
           }
          ],
          "scattergeo": [
           {
            "marker": {
             "colorbar": {
              "outlinewidth": 0,
              "ticks": ""
             }
            },
            "type": "scattergeo"
           }
          ],
          "scattergl": [
           {
            "marker": {
             "colorbar": {
              "outlinewidth": 0,
              "ticks": ""
             }
            },
            "type": "scattergl"
           }
          ],
          "scattermapbox": [
           {
            "marker": {
             "colorbar": {
              "outlinewidth": 0,
              "ticks": ""
             }
            },
            "type": "scattermapbox"
           }
          ],
          "scatterpolar": [
           {
            "marker": {
             "colorbar": {
              "outlinewidth": 0,
              "ticks": ""
             }
            },
            "type": "scatterpolar"
           }
          ],
          "scatterpolargl": [
           {
            "marker": {
             "colorbar": {
              "outlinewidth": 0,
              "ticks": ""
             }
            },
            "type": "scatterpolargl"
           }
          ],
          "scatterternary": [
           {
            "marker": {
             "colorbar": {
              "outlinewidth": 0,
              "ticks": ""
             }
            },
            "type": "scatterternary"
           }
          ],
          "surface": [
           {
            "colorbar": {
             "outlinewidth": 0,
             "ticks": ""
            },
            "colorscale": [
             [
              0,
              "#0d0887"
             ],
             [
              0.1111111111111111,
              "#46039f"
             ],
             [
              0.2222222222222222,
              "#7201a8"
             ],
             [
              0.3333333333333333,
              "#9c179e"
             ],
             [
              0.4444444444444444,
              "#bd3786"
             ],
             [
              0.5555555555555556,
              "#d8576b"
             ],
             [
              0.6666666666666666,
              "#ed7953"
             ],
             [
              0.7777777777777778,
              "#fb9f3a"
             ],
             [
              0.8888888888888888,
              "#fdca26"
             ],
             [
              1,
              "#f0f921"
             ]
            ],
            "type": "surface"
           }
          ],
          "table": [
           {
            "cells": {
             "fill": {
              "color": "#EBF0F8"
             },
             "line": {
              "color": "white"
             }
            },
            "header": {
             "fill": {
              "color": "#C8D4E3"
             },
             "line": {
              "color": "white"
             }
            },
            "type": "table"
           }
          ]
         },
         "layout": {
          "annotationdefaults": {
           "arrowcolor": "#2a3f5f",
           "arrowhead": 0,
           "arrowwidth": 1
          },
          "autotypenumbers": "strict",
          "coloraxis": {
           "colorbar": {
            "outlinewidth": 0,
            "ticks": ""
           }
          },
          "colorscale": {
           "diverging": [
            [
             0,
             "#8e0152"
            ],
            [
             0.1,
             "#c51b7d"
            ],
            [
             0.2,
             "#de77ae"
            ],
            [
             0.3,
             "#f1b6da"
            ],
            [
             0.4,
             "#fde0ef"
            ],
            [
             0.5,
             "#f7f7f7"
            ],
            [
             0.6,
             "#e6f5d0"
            ],
            [
             0.7,
             "#b8e186"
            ],
            [
             0.8,
             "#7fbc41"
            ],
            [
             0.9,
             "#4d9221"
            ],
            [
             1,
             "#276419"
            ]
           ],
           "sequential": [
            [
             0,
             "#0d0887"
            ],
            [
             0.1111111111111111,
             "#46039f"
            ],
            [
             0.2222222222222222,
             "#7201a8"
            ],
            [
             0.3333333333333333,
             "#9c179e"
            ],
            [
             0.4444444444444444,
             "#bd3786"
            ],
            [
             0.5555555555555556,
             "#d8576b"
            ],
            [
             0.6666666666666666,
             "#ed7953"
            ],
            [
             0.7777777777777778,
             "#fb9f3a"
            ],
            [
             0.8888888888888888,
             "#fdca26"
            ],
            [
             1,
             "#f0f921"
            ]
           ],
           "sequentialminus": [
            [
             0,
             "#0d0887"
            ],
            [
             0.1111111111111111,
             "#46039f"
            ],
            [
             0.2222222222222222,
             "#7201a8"
            ],
            [
             0.3333333333333333,
             "#9c179e"
            ],
            [
             0.4444444444444444,
             "#bd3786"
            ],
            [
             0.5555555555555556,
             "#d8576b"
            ],
            [
             0.6666666666666666,
             "#ed7953"
            ],
            [
             0.7777777777777778,
             "#fb9f3a"
            ],
            [
             0.8888888888888888,
             "#fdca26"
            ],
            [
             1,
             "#f0f921"
            ]
           ]
          },
          "colorway": [
           "#636efa",
           "#EF553B",
           "#00cc96",
           "#ab63fa",
           "#FFA15A",
           "#19d3f3",
           "#FF6692",
           "#B6E880",
           "#FF97FF",
           "#FECB52"
          ],
          "font": {
           "color": "#2a3f5f"
          },
          "geo": {
           "bgcolor": "white",
           "lakecolor": "white",
           "landcolor": "white",
           "showlakes": true,
           "showland": true,
           "subunitcolor": "#C8D4E3"
          },
          "hoverlabel": {
           "align": "left"
          },
          "hovermode": "closest",
          "mapbox": {
           "style": "light"
          },
          "paper_bgcolor": "white",
          "plot_bgcolor": "white",
          "polar": {
           "angularaxis": {
            "gridcolor": "#EBF0F8",
            "linecolor": "#EBF0F8",
            "ticks": ""
           },
           "bgcolor": "white",
           "radialaxis": {
            "gridcolor": "#EBF0F8",
            "linecolor": "#EBF0F8",
            "ticks": ""
           }
          },
          "scene": {
           "xaxis": {
            "backgroundcolor": "white",
            "gridcolor": "#DFE8F3",
            "gridwidth": 2,
            "linecolor": "#EBF0F8",
            "showbackground": true,
            "ticks": "",
            "zerolinecolor": "#EBF0F8"
           },
           "yaxis": {
            "backgroundcolor": "white",
            "gridcolor": "#DFE8F3",
            "gridwidth": 2,
            "linecolor": "#EBF0F8",
            "showbackground": true,
            "ticks": "",
            "zerolinecolor": "#EBF0F8"
           },
           "zaxis": {
            "backgroundcolor": "white",
            "gridcolor": "#DFE8F3",
            "gridwidth": 2,
            "linecolor": "#EBF0F8",
            "showbackground": true,
            "ticks": "",
            "zerolinecolor": "#EBF0F8"
           }
          },
          "shapedefaults": {
           "line": {
            "color": "#2a3f5f"
           }
          },
          "ternary": {
           "aaxis": {
            "gridcolor": "#DFE8F3",
            "linecolor": "#A2B1C6",
            "ticks": ""
           },
           "baxis": {
            "gridcolor": "#DFE8F3",
            "linecolor": "#A2B1C6",
            "ticks": ""
           },
           "bgcolor": "white",
           "caxis": {
            "gridcolor": "#DFE8F3",
            "linecolor": "#A2B1C6",
            "ticks": ""
           }
          },
          "title": {
           "x": 0.05
          },
          "xaxis": {
           "automargin": true,
           "gridcolor": "#EBF0F8",
           "linecolor": "#EBF0F8",
           "ticks": "",
           "title": {
            "standoff": 15
           },
           "zerolinecolor": "#EBF0F8",
           "zerolinewidth": 2
          },
          "yaxis": {
           "automargin": true,
           "gridcolor": "#EBF0F8",
           "linecolor": "#EBF0F8",
           "ticks": "",
           "title": {
            "standoff": 15
           },
           "zerolinecolor": "#EBF0F8",
           "zerolinewidth": 2
          }
         }
        },
        "title": {
         "font": {
          "family": "Arial",
          "size": 20
         },
         "text": "<b>Distribuição da expectativa de vida dos clientes</b><br><sup><i>Tempo de vida estimado para os clientes que não deram churn</i></sup>",
         "x": 0.1
        },
        "width": 910,
        "xaxis": {
         "showgrid": false,
         "title": {
          "text": "Tempo em meses"
         }
        },
        "yaxis": {
         "showgrid": true,
         "showticklabels": true,
         "title": {
          "text": "Quantidade"
         }
        }
       }
      }
     },
     "metadata": {},
     "output_type": "display_data"
    }
   ],
   "source": [
    "# Plotando um histograma com a expectativa de tempo de vida\n",
    "fig = go.Figure()\n",
    "fig.add_trace(go.Histogram(x=data_full['expectativa']))\n",
    "\n",
    "# Atualizando o layout da figure\n",
    "fig.update_layout(\n",
    "    title='<b>Distribuição da expectativa de vida dos clientes</b><br><sup><i>Tempo de vida estimado para os clientes que não deram churn</i></sup>',\n",
    "    title_font=dict(size=20, family=\"Arial\"),\n",
    "    font_color='#646369',\n",
    "    template='plotly_white',\n",
    "    yaxis=dict(showticklabels=True, showgrid=True, title='Quantidade'),\n",
    "    xaxis=dict(showgrid=False, title='Tempo em meses'),\n",
    "    title_x=0.1,\n",
    "    width=910,\n",
    "    height=500,\n",
    "    showlegend=False\n",
    ")"
   ]
  }
 ],
 "metadata": {
  "kernelspec": {
   "display_name": ".venv",
   "language": "python",
   "name": "python3"
  },
  "language_info": {
   "codemirror_mode": {
    "name": "ipython",
    "version": 3
   },
   "file_extension": ".py",
   "mimetype": "text/x-python",
   "name": "python",
   "nbconvert_exporter": "python",
   "pygments_lexer": "ipython3",
   "version": "3.10.12"
  }
 },
 "nbformat": 4,
 "nbformat_minor": 2
}
